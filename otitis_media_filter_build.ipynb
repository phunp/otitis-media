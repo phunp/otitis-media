{
 "cells": [
  {
   "cell_type": "code",
   "execution_count": 2,
   "metadata": {
    "colab": {
     "base_uri": "https://localhost:8080/"
    },
    "id": "70gHCCxoJuel",
    "outputId": "4173bfc5-adb3-4079-990f-503e4e5d748a"
   },
   "outputs": [
    {
     "name": "stdout",
     "output_type": "stream",
     "text": [
      "3.7.9 (default, Aug 31 2020, 07:22:35) \n",
      "[Clang 10.0.0 ]\n",
      "The numpy version is 1.19.2.\n",
      "The pandas version is 1.1.3.\n",
      "The scikit-learn version is 0.23.2.\n"
     ]
    }
   ],
   "source": [
    "import sys\n",
    "import numpy\n",
    "import pandas\n",
    "import sklearn\n",
    "\n",
    "print(sys.version)\n",
    "print('The numpy version is {}.'.format(numpy.__version__))\n",
    "print('The pandas version is {}.'.format(pandas.__version__))\n",
    "print('The scikit-learn version is {}.'.format(sklearn.__version__))"
   ]
  },
  {
   "cell_type": "code",
   "execution_count": 3,
   "metadata": {},
   "outputs": [
    {
     "name": "stdout",
     "output_type": "stream",
     "text": [
      "2\n"
     ]
    }
   ],
   "source": [
    "# 1001-1-L--2--2009-03-30T15-51-51__2.jpg\n",
    "def extract_res_from_filename(file_name):\n",
    "    return int(file_name[(len(file_name) - 29):(len(file_name) - 28)])\n",
    "\n",
    "extract_res_from_filename(\"1001-1-L--2--2009-03-30T15-51-51__2.jpg\")\n",
    "fileff = \"1001-1-L--2--2009-03-30T15-51-51__2.jpg\"\n",
    "print(fileff[(len(fileff) - 29):(len(fileff) - 28)])"
   ]
  },
  {
   "cell_type": "code",
   "execution_count": 7,
   "metadata": {},
   "outputs": [
    {
     "name": "stdout",
     "output_type": "stream",
     "text": [
      "for filter model, all count: 3368, keep count 2067\n"
     ]
    }
   ],
   "source": [
    "import os \n",
    "\n",
    "path = '/Users/phunp/Documents/Flinders/Thesis/data/real_data/build_filter_model/all/'\n",
    "path_keep = \"/Users/phunp/Documents/Flinders/Thesis/data/real_data/build_filter_model/keep/\"\n",
    "\n",
    "count_all = 0\n",
    "count_keep = 0\n",
    "\n",
    "keep_file_name_set = set()\n",
    "\n",
    "for filename in os.listdir(path):\n",
    "    if filename.endswith(\"jpg\"):\n",
    "        count_all += 1\n",
    "\n",
    "for filename in os.listdir(path_keep):\n",
    "    if filename.endswith(\"jpg\"):\n",
    "        keep_file_name_set.add(filename)\n",
    "        count_keep += 1\n",
    "        \n",
    "print(\"for filter model, all count: %d, keep count %d\" % (count_all, count_keep))"
   ]
  },
  {
   "cell_type": "code",
   "execution_count": 43,
   "metadata": {},
   "outputs": [
    {
     "name": "stdout",
     "output_type": "stream",
     "text": [
      "reading max of 22458... quit now\n"
     ]
    }
   ],
   "source": [
    "# load all data and predict with filter model\n",
    "all_path_ori = '/Users/phunp/Documents/Flinders/Thesis/data/real_data/extract_data_ori/'\n",
    "all_path_manual_filter = '/Users/phunp/Documents/Flinders/Thesis/data/real_data/extract_data_removed/'\n",
    "\n",
    "WIDTH = 128\n",
    "HEIGHT = 160\n",
    "SIZE = WIDTH * HEIGHT * 3\n",
    "ALL_IMAGE_COUNT = 22458\n",
    "\n",
    "X_ALL = np.empty((ALL_IMAGE_COUNT, SIZE)) # ==> FOR NORMAL\n",
    "INDEX_TO_LABEL = {}\n",
    "# Y_ALL = np.empty([IMAGE_COUNT], dtype=int)\n",
    "i = 0\n",
    "\n",
    "for filename in os.listdir(all_path_ori):\n",
    "    if not filename.endswith(\".jpg\"):\n",
    "        continue\n",
    "    img = cv2.imread(os.path.join(all_path_ori,filename))\n",
    "    if img is not None:\n",
    "        img = cv2.resize(img, (WIDTH, HEIGHT), interpolation=cv2.INTER_AREA)\n",
    "        flatten = img.reshape(-1) # ==> FOR NORMAL MODEL\n",
    "        X_ALL[i] = flatten\n",
    "        INDEX_TO_LABEL[str(i)] = filename\n",
    "        i = i+1\n",
    "    if i >= ALL_IMAGE_COUNT:\n",
    "        print(\"reading max of \" + str(IMAGE_COUNT) + \"... quit now\")\n",
    "        break;"
   ]
  },
  {
   "cell_type": "code",
   "execution_count": 44,
   "metadata": {},
   "outputs": [],
   "source": [
    "X_ALL_std = input_std.transform(X_ALL)\n",
    "\n",
    "X_ALL_std = X_ALL_std.reshape((-1, 160, 128, 3))\n",
    "\n",
    "Y_ALL_PRED = model_cnn.predict(X_ALL_std)\n",
    "# y_pred = np.argmax(y_pred_real, axis=-1)"
   ]
  },
  {
   "cell_type": "code",
   "execution_count": 61,
   "metadata": {},
   "outputs": [
    {
     "name": "stdout",
     "output_type": "stream",
     "text": [
      "22458\n"
     ]
    }
   ],
   "source": [
    "print(Y_ALL_PRED.shape[0])"
   ]
  },
  {
   "cell_type": "code",
   "execution_count": 80,
   "metadata": {},
   "outputs": [
    {
     "name": "stdout",
     "output_type": "stream",
     "text": [
      "(22458, 2)\n",
      "[0.20502092 0.7949791 ]\n",
      "(22458,)\n",
      "1\n",
      "[[    0  7227]\n",
      " [    1 15231]]\n",
      "auto could remove 2806 on total 3222\n"
     ]
    }
   ],
   "source": [
    "indxx = 12345\n",
    "print(Y_ALL_PRED.shape)\n",
    "print(Y_ALL_PRED[indxx])\n",
    "Y_ALL_PRED_MAX = np.argmax(Y_ALL_PRED, axis=-1)\n",
    "print(Y_ALL_PRED_MAX.shape)\n",
    "print(Y_ALL_PRED_MAX[indxx])\n",
    "\n",
    "(unique, counts) = numpy.unique(Y_ALL_PRED_MAX, return_counts=True)\n",
    "frequencies = numpy.asarray((unique, counts)).T\n",
    "print(frequencies)\n",
    "\n",
    "#load all file name of extract_data_removed to set\n",
    "all_filename_removed = set()\n",
    "all_path_manual_removed = '/Users/phunp/Documents/Flinders/Thesis/data/real_data/extract_data_removed/'\n",
    "for filename in os.listdir(all_path_manual_removed):\n",
    "    if not filename.endswith(\".jpg\"):\n",
    "        continue\n",
    "    all_filename_removed.add(filename)\n",
    "\n",
    "# construct a dict for all file: filename -> (prob of 1, prediction)\n",
    "all_file_prediction_res = {}\n",
    "for i in range (0, Y_ALL_PRED.shape[0]):\n",
    "# for i in range (0, 10):\n",
    "    filename = INDEX_TO_LABEL[str(i)]\n",
    "    all_file_prediction_res[filename] = (Y_ALL_PRED[i][1], Y_ALL_PRED_MAX[i])\n",
    "\n",
    "# print(all_file_prediction_res)\n",
    "\n",
    "# loop through all_filename_removed, to see the model could remove how many percent in this:\n",
    "remove_auto_count = 0\n",
    "for fname in all_filename_removed:\n",
    "    if all_file_prediction_res[fname][1] == 0:\n",
    "        remove_auto_count += 1\n",
    "\n",
    "print('auto could remove %d on total %d' % (remove_auto_count, len(all_filename_removed)))"
   ]
  },
  {
   "cell_type": "code",
   "execution_count": 81,
   "metadata": {},
   "outputs": [],
   "source": [
    "# write to csv\n",
    "import csv\n",
    "\n",
    "with open('/Users/phunp/Documents/Flinders/Thesis/data/real_data/auto_filter.csv', 'w', encoding='UTF8') as f:\n",
    "    writer = csv.writer(f)\n",
    "    # write the header\n",
    "    # writer.writerow(header)\n",
    "\n",
    "    # write the data\n",
    "    for fname in all_file_prediction_res:\n",
    "        writer.writerow([fname, str(all_file_prediction_res[fname][0]), str(all_file_prediction_res[fname][1])])"
   ]
  },
  {
   "cell_type": "code",
   "execution_count": 89,
   "metadata": {},
   "outputs": [
    {
     "name": "stdout",
     "output_type": "stream",
     "text": [
      "(0, 0.12684077)\n"
     ]
    }
   ],
   "source": [
    "# read from csv\n",
    "all_file_auto_filter_saved = {}\n",
    "\n",
    "with open('/Users/phunp/Documents/Flinders/Thesis/data/real_data/auto_filter.csv', mode='r', encoding='UTF8') as csv_datas:\n",
    "    csv_reader = csv.DictReader(csv_datas)\n",
    "    # next(csv_reader)\n",
    "    for row in csv_reader:\n",
    "        # print(dict(row))\n",
    "        # print(row['Image_Name'])\n",
    "        all_file_auto_filter_saved[row[\"File Name\"]] = (int(row['OK']), float(row['Probability']))\n",
    "\n",
    "\n",
    "if '101931970A-3-R--3--2010-03-19T11-47-21__0.jpg' in all_file_auto_filter_saved :\n",
    "    print(all_file_auto_filter_saved['101931970A-3-R--3--2010-03-19T11-47-21__0.jpg'])"
   ]
  },
  {
   "cell_type": "code",
   "execution_count": 68,
   "metadata": {},
   "outputs": [
    {
     "name": "stdout",
     "output_type": "stream",
     "text": [
      "0\n"
     ]
    }
   ],
   "source": [
    "print(all_file_prediction_res['101931970A-3-R--3--2010-03-19T11-47-21__0.jpg'][1])"
   ]
  },
  {
   "cell_type": "code",
   "execution_count": 9,
   "metadata": {
    "colab": {
     "base_uri": "https://localhost:8080/"
    },
    "id": "6w1NrZ_UN0c5",
    "outputId": "598eece5-cbce-4116-b529-884dff054d29"
   },
   "outputs": [
    {
     "name": "stdout",
     "output_type": "stream",
     "text": [
      "reading max of 3368... quit now\n",
      "(3368, 61440)\n",
      "(3368,)\n"
     ]
    }
   ],
   "source": [
    "flatten = False\n",
    "categorical=True\n",
    "\n",
    "import pickle\n",
    "import numpy as np\n",
    "import pandas as pd\n",
    "import cv2\n",
    "import glob\n",
    "from PIL import Image\n",
    "import os\n",
    "import matplotlib.pyplot as plt\n",
    "\n",
    "path = '/Users/phunp/Documents/Flinders/Thesis/data/real_data/build_filter_model/all/'\n",
    "path_keep = \"/Users/phunp/Documents/Flinders/Thesis/data/real_data/build_filter_model/keep/\"\n",
    "\n",
    "setSize = set()\n",
    "# Original shape: 512x640x3\n",
    "WIDTH = 128\n",
    "HEIGHT = 160\n",
    "SIZE = WIDTH * HEIGHT * 3\n",
    "IMAGE_COUNT = 3368\n",
    "# IMAGE_COUNT = 3\n",
    "# LABEL_CONVERTER = {\"Normal\": 1, \"Healed\": 2, \"Inactive Muc\": 3, \"Inactive Squa\": 4, \"Active Muc\": 5, \"Active Squa\": 6, \"Fluid OME\": 7, \"Pus AOM\": 8}\n",
    "# LABEL_CONVERTER = {\"Normal\": 1, \"Inactive Muc\": 3, \"Inactive Squa\": 4, \"Active Muc\": 5, \"Fluid OME\": 7}\n",
    "# CONVERT = {\"1\": 0, \"3\": 1, \"4\": 2, \"5\": 3, \"7\": 4}\n",
    "\n",
    "# [[   1 2992]\n",
    "#  [   2 7235]\n",
    "#  [   3 2834]\n",
    "#  [   4 1598]\n",
    "#  [   5 2531]\n",
    "#  [   6   16]\n",
    "#  [   7 1794]]\n",
    "\n",
    "indexes = {}\n",
    "\n",
    "def load_images_from_folder(folder):\n",
    "    X = np.empty((IMAGE_COUNT, SIZE)) # ==> FOR NORMAL\n",
    "    # X = np.empty((IMAGE_COUNT, HEIGHT, WIDTH, 3))\n",
    "    Y = np.empty([IMAGE_COUNT], dtype=int)\n",
    "    i = 0\n",
    "    for filename in os.listdir(folder):\n",
    "        if not filename.endswith(\".jpg\"):\n",
    "            continue\n",
    "#         label = extract_res_from_filename(filename)\n",
    "        \n",
    "#         if label not in [1, 3, 4, 5, 7]:\n",
    "#             continue\n",
    "        \n",
    "        img = cv2.imread(os.path.join(folder,filename))\n",
    "        if img is not None:\n",
    "            # resize image to a fix size TODO determine the best way to resize and preserve data\n",
    "            img = cv2.resize(img, (WIDTH, HEIGHT), interpolation=cv2.INTER_AREA)\n",
    "#             print(\"after initial resize, shape is: \" + str(img.shape))\n",
    "#             plt.imshow(img)\n",
    "            flatten = img.reshape(-1) # ==> FOR NORMAL MODEL\n",
    "#             print(\"after flatten, shape is: \" + str(flatten.shape))\n",
    "            # flatten = img # FOR MOBILEV2 NET\n",
    "            # print('flatten size: ', flatten.shape)\n",
    "            X[i] = flatten\n",
    "#             reconstruct = flatten.reshape(160, 128, 3)\n",
    "#             plt.imshow(reconstruct)\n",
    "#             resize_again = flatten.reshape\n",
    "#             Y[i] = CONVERT[str(extract_res_from_filename(filename))]\n",
    "            Y[i] = 1 if (filename in keep_file_name_set) else 0\n",
    "            i = i+1\n",
    "        if i >= IMAGE_COUNT:\n",
    "            print(\"reading max of \" + str(IMAGE_COUNT) + \"... quit now\")\n",
    "            break;\n",
    "        \n",
    "    return X, Y\n",
    "\n",
    "\n",
    "X, Y = load_images_from_folder(path)\n",
    "\n",
    "print(X.shape)\n",
    "print(Y.shape)\n"
   ]
  },
  {
   "cell_type": "code",
   "execution_count": 11,
   "metadata": {
    "colab": {
     "base_uri": "https://localhost:8080/"
    },
    "id": "1DAkoF8fQSvf",
    "outputId": "42d283eb-4d57-439f-d75b-df8126661151"
   },
   "outputs": [
    {
     "name": "stdout",
     "output_type": "stream",
     "text": [
      "(3368, 61440)\n",
      "(3368,)\n",
      "[10. 10. 10. ...  3.  3.  3.]\n",
      "0\n",
      "<class 'numpy.int64'>\n"
     ]
    }
   ],
   "source": [
    "print(X.shape)\n",
    "print(Y.shape)\n",
    "print(X[12])\n",
    "print(Y[1000])\n",
    "print(type(Y[17]))"
   ]
  },
  {
   "cell_type": "code",
   "execution_count": 12,
   "metadata": {},
   "outputs": [
    {
     "name": "stdout",
     "output_type": "stream",
     "text": [
      "[[   0 1301]\n",
      " [   1 2067]]\n"
     ]
    }
   ],
   "source": [
    "# count frequency of all unique values in array\n",
    "# https://www.kite.com/python/answers/how-to-count-frequency-of-unique-values-in-a-numpy-array-in-python#:~:text=Use%20numpy.,list%20of%20their%20corresponding%20frequencies.\n",
    "\n",
    "(unique, counts) = numpy.unique(Y, return_counts=True)\n",
    "frequencies = numpy.asarray((unique, counts)).T\n",
    "print(frequencies)"
   ]
  },
  {
   "cell_type": "code",
   "execution_count": 21,
   "metadata": {
    "colab": {
     "base_uri": "https://localhost:8080/"
    },
    "id": "xnRC6iiTPiLG",
    "outputId": "e0ae34b2-35ec-41f9-fa58-684caac87b4a"
   },
   "outputs": [
    {
     "name": "stdout",
     "output_type": "stream",
     "text": [
      "              precision    recall  f1-score   support\n",
      "\n",
      "           0       0.98      0.94      0.96       871\n",
      "           1       0.96      0.99      0.98      1385\n",
      "\n",
      "    accuracy                           0.97      2256\n",
      "   macro avg       0.97      0.96      0.97      2256\n",
      "weighted avg       0.97      0.97      0.97      2256\n",
      "\n",
      "              precision    recall  f1-score   support\n",
      "\n",
      "           0       0.82      0.74      0.78       430\n",
      "           1       0.84      0.90      0.87       682\n",
      "\n",
      "    accuracy                           0.84      1112\n",
      "   macro avg       0.83      0.82      0.82      1112\n",
      "weighted avg       0.84      0.84      0.84      1112\n",
      "\n"
     ]
    },
    {
     "data": {
      "text/plain": [
       "0.6525454657485817"
      ]
     },
     "execution_count": 21,
     "metadata": {},
     "output_type": "execute_result"
    }
   ],
   "source": [
    "from sklearn.preprocessing import StandardScaler\n",
    "from sklearn.decomposition import PCA\n",
    "from sklearn.model_selection import train_test_split\n",
    "from sklearn.metrics import confusion_matrix\n",
    "from sklearn.svm import SVC\n",
    "from sklearn.metrics import classification_report\n",
    "from sklearn.metrics import matthews_corrcoef\n",
    "# ac\n",
    "# X1 = X[0:400]\n",
    "# y1 = y[0:400]\n",
    "X1 = X\n",
    "y1 = Y\n",
    "\n",
    "# split into train and test\n",
    "# Xtrain, Xtest, ytrain, ytest = train_test_split(X, y,stratify=y)\n",
    "Xtrain, Xtest, ytrain, ytest = train_test_split(X1, y1,test_size=0.33, random_state=42, stratify=y1)\n",
    "\n",
    "# normalise features\n",
    "input_std = StandardScaler()\n",
    "input_std.fit(Xtrain)\n",
    "Xtrain_std = input_std.transform(Xtrain)\n",
    "Xtest_std = input_std.transform(Xtest)\n",
    "\n",
    "# do the PCA, choose the numbher of components to retain\n",
    "input_pca = PCA(n_components=100)\n",
    "input_pca.fit(Xtrain_std)\n",
    "Xtrain_std_pca = input_pca.transform(Xtrain_std)\n",
    "Xtest_std_pca = input_pca.transform(Xtest_std)\n",
    "\n",
    "C = 10 ## Change this C value\n",
    "model = SVC(kernel='rbf', C=C)\n",
    "model.fit(Xtrain_std_pca, ytrain)\n",
    "\n",
    "y_pred = model.predict(Xtrain_std_pca)\n",
    "report = classification_report(ytrain, y_pred)\n",
    "print(report)\n",
    "\n",
    "y_pred = model.predict(Xtest_std_pca)\n",
    "report = classification_report(ytest, y_pred)\n",
    "print(report)\n",
    "\n",
    "matthews_corrcoef(ytest, y_pred)"
   ]
  },
  {
   "cell_type": "markdown",
   "metadata": {
    "id": "tnQUR7sRYx1e"
   },
   "source": [
    "pca = 5 -> \n",
    "```\n",
    "              precision    recall  f1-score   support\n",
    "\n",
    "           0       0.61      0.83      0.70        46\n",
    "           1       0.72      0.61      0.66        54\n",
    "           2       0.54      0.41      0.46        32\n",
    "\n",
    "    accuracy                           0.64       132\n",
    "   macro avg       0.62      0.61      0.61       132\n",
    "weighted avg       0.64      0.64      0.63       132\n",
    "```\n",
    "\n",
    "pca = 20 -> \n",
    "```\n",
    "              precision    recall  f1-score   support\n",
    "\n",
    "           0       0.70      0.83      0.76        46\n",
    "           1       0.76      0.70      0.73        54\n",
    "           2       0.86      0.75      0.80        32\n",
    "\n",
    "    accuracy                           0.76       132\n",
    "   macro avg       0.77      0.76      0.76       132\n",
    "weighted avg       0.76      0.76      0.76       132\n",
    "```\n",
    "\n",
    "pca=50 -> \n",
    "```\n",
    "              precision    recall  f1-score   support\n",
    "\n",
    "           0       0.76      0.85      0.80        46\n",
    "           1       0.69      0.78      0.73        54\n",
    "           2       0.90      0.56      0.69        32\n",
    "\n",
    "    accuracy                           0.75       132\n",
    "   macro avg       0.78      0.73      0.74       132\n",
    "weighted avg       0.77      0.75      0.75       132\n",
    "```\n",
    "\n",
    "WITH REAL DATA, 8 class:\n",
    "```\n",
    "              precision    recall  f1-score   support\n",
    "\n",
    "           1       0.95      0.87      0.91      2014\n",
    "           2       0.84      0.99      0.91      4847\n",
    "           3       0.96      0.89      0.92      1918\n",
    "           4       1.00      0.83      0.90      1058\n",
    "           5       0.98      0.88      0.93      1687\n",
    "           6       1.00      1.00      1.00         9\n",
    "           7       0.98      0.80      0.88      1197\n",
    "\n",
    "    accuracy                           0.91     12730\n",
    "   macro avg       0.96      0.90      0.92     12730\n",
    "weighted avg       0.92      0.91      0.91     12730\n",
    "\n",
    "              precision    recall  f1-score   support\n",
    "\n",
    "           1       0.54      0.48      0.51       978\n",
    "           2       0.56      0.80      0.66      2388\n",
    "           3       0.58      0.48      0.53       916\n",
    "           4       0.61      0.34      0.43       540\n",
    "           5       0.58      0.42      0.49       844\n",
    "           6       1.00      0.29      0.44         7\n",
    "           7       0.54      0.28      0.37       597\n",
    "\n",
    "    accuracy                           0.56      6270\n",
    "   macro avg       0.63      0.44      0.49      6270\n",
    "weighted avg       0.56      0.56      0.54      6270\n",
    "```"
   ]
  },
  {
   "cell_type": "code",
   "execution_count": 14,
   "metadata": {
    "colab": {
     "base_uri": "https://localhost:8080/",
     "height": 456
    },
    "id": "nD4mA6CIMBIl",
    "outputId": "8367dea0-0872-4b1b-ed22-4d1484f9cc7f"
   },
   "outputs": [
    {
     "name": "stdout",
     "output_type": "stream",
     "text": [
      "              precision    recall  f1-score   support\n",
      "\n",
      "           0       0.83      0.70      0.76       430\n",
      "           1       0.83      0.91      0.87       682\n",
      "\n",
      "    accuracy                           0.83      1112\n",
      "   macro avg       0.83      0.81      0.82      1112\n",
      "weighted avg       0.83      0.83      0.83      1112\n",
      "\n"
     ]
    },
    {
     "data": {
      "image/png": "[encoded data removed]",
      "text/plain": [
       "<Figure size 432x288 with 1 Axes>"
      ]
     },
     "metadata": {
      "needs_background": "light"
     },
     "output_type": "display_data"
    }
   ],
   "source": [
    "from sklearn.metrics import confusion_matrix\n",
    "import seaborn as sns\n",
    "\n",
    "print(classification_report(ytest,y_pred))\n",
    "mat = confusion_matrix(ytest, y_pred)\n",
    "sns.heatmap(mat.T, square=True, annot=True, fmt='d', cbar=False,\n",
    "            # xticklabels=faces.target_names,\n",
    "            # yticklabels=faces.target_names\n",
    "            )\n",
    "plt.xlabel('true label')\n",
    "plt.ylabel('predicted label');"
   ]
  },
  {
   "cell_type": "code",
   "execution_count": 34,
   "metadata": {
    "colab": {
     "base_uri": "https://localhost:8080/"
    },
    "id": "80FmdH8YasIJ",
    "outputId": "7f70e66a-5228-4818-c462-830bbf983f94"
   },
   "outputs": [
    {
     "data": {
      "text/plain": [
       "array([1.e-09, 1.e-03, 1.e+03, 1.e+09])"
      ]
     },
     "execution_count": 34,
     "metadata": {},
     "output_type": "execute_result"
    }
   ],
   "source": [
    "np.logspace(-9, 9, num=4, base=10)"
   ]
  },
  {
   "cell_type": "code",
   "execution_count": 19,
   "metadata": {
    "colab": {
     "base_uri": "https://localhost:8080/"
    },
    "id": "_1bTFCw6avJN",
    "outputId": "fab506e7-645b-4a55-aac1-06db3d24ba38"
   },
   "outputs": [
    {
     "name": "stdout",
     "output_type": "stream",
     "text": [
      "Fitting 5 folds for each of 27 candidates, totalling 135 fits\n",
      "[CV] pca__n_components=10, svc__C=0.1, svc__kernel=rbf ...............\n"
     ]
    },
    {
     "name": "stderr",
     "output_type": "stream",
     "text": [
      "[Parallel(n_jobs=1)]: Using backend SequentialBackend with 1 concurrent workers.\n"
     ]
    },
    {
     "name": "stdout",
     "output_type": "stream",
     "text": [
      "[CV]  pca__n_components=10, svc__C=0.1, svc__kernel=rbf, score=0.729, total=   8.0s\n",
      "[CV] pca__n_components=10, svc__C=0.1, svc__kernel=rbf ...............\n"
     ]
    },
    {
     "name": "stderr",
     "output_type": "stream",
     "text": [
      "[Parallel(n_jobs=1)]: Done   1 out of   1 | elapsed:    8.1s remaining:    0.0s\n"
     ]
    },
    {
     "name": "stdout",
     "output_type": "stream",
     "text": [
      "[CV]  pca__n_components=10, svc__C=0.1, svc__kernel=rbf, score=0.697, total=   6.9s\n",
      "[CV] pca__n_components=10, svc__C=0.1, svc__kernel=rbf ...............\n"
     ]
    },
    {
     "name": "stderr",
     "output_type": "stream",
     "text": [
      "[Parallel(n_jobs=1)]: Done   2 out of   2 | elapsed:   15.0s remaining:    0.0s\n"
     ]
    },
    {
     "name": "stdout",
     "output_type": "stream",
     "text": [
      "[CV]  pca__n_components=10, svc__C=0.1, svc__kernel=rbf, score=0.739, total=   7.1s\n",
      "[CV] pca__n_components=10, svc__C=0.1, svc__kernel=rbf ...............\n",
      "[CV]  pca__n_components=10, svc__C=0.1, svc__kernel=rbf, score=0.718, total=   6.8s\n",
      "[CV] pca__n_components=10, svc__C=0.1, svc__kernel=rbf ...............\n",
      "[CV]  pca__n_components=10, svc__C=0.1, svc__kernel=rbf, score=0.754, total=   7.6s\n",
      "[CV] pca__n_components=10, svc__C=0.1, svc__kernel=linear ............\n",
      "[CV]  pca__n_components=10, svc__C=0.1, svc__kernel=linear, score=0.712, total=   7.6s\n",
      "[CV] pca__n_components=10, svc__C=0.1, svc__kernel=linear ............\n",
      "[CV]  pca__n_components=10, svc__C=0.1, svc__kernel=linear, score=0.684, total=   7.4s\n",
      "[CV] pca__n_components=10, svc__C=0.1, svc__kernel=linear ............\n",
      "[CV]  pca__n_components=10, svc__C=0.1, svc__kernel=linear, score=0.713, total=   7.9s\n",
      "[CV] pca__n_components=10, svc__C=0.1, svc__kernel=linear ............\n",
      "[CV]  pca__n_components=10, svc__C=0.1, svc__kernel=linear, score=0.701, total=   7.1s\n",
      "[CV] pca__n_components=10, svc__C=0.1, svc__kernel=linear ............\n",
      "[CV]  pca__n_components=10, svc__C=0.1, svc__kernel=linear, score=0.732, total=   7.4s\n",
      "[CV] pca__n_components=10, svc__C=0.1, svc__kernel=sigmoid ...........\n",
      "[CV]  pca__n_components=10, svc__C=0.1, svc__kernel=sigmoid, score=0.693, total=   7.2s\n",
      "[CV] pca__n_components=10, svc__C=0.1, svc__kernel=sigmoid ...........\n",
      "[CV]  pca__n_components=10, svc__C=0.1, svc__kernel=sigmoid, score=0.678, total=   7.3s\n",
      "[CV] pca__n_components=10, svc__C=0.1, svc__kernel=sigmoid ...........\n",
      "[CV]  pca__n_components=10, svc__C=0.1, svc__kernel=sigmoid, score=0.701, total=   7.3s\n",
      "[CV] pca__n_components=10, svc__C=0.1, svc__kernel=sigmoid ...........\n",
      "[CV]  pca__n_components=10, svc__C=0.1, svc__kernel=sigmoid, score=0.705, total=   7.3s\n",
      "[CV] pca__n_components=10, svc__C=0.1, svc__kernel=sigmoid ...........\n",
      "[CV]  pca__n_components=10, svc__C=0.1, svc__kernel=sigmoid, score=0.730, total=   7.1s\n",
      "[CV] pca__n_components=10, svc__C=1, svc__kernel=rbf .................\n",
      "[CV]  pca__n_components=10, svc__C=1, svc__kernel=rbf, score=0.801, total=   7.0s\n",
      "[CV] pca__n_components=10, svc__C=1, svc__kernel=rbf .................\n",
      "[CV]  pca__n_components=10, svc__C=1, svc__kernel=rbf, score=0.765, total=   6.9s\n",
      "[CV] pca__n_components=10, svc__C=1, svc__kernel=rbf .................\n",
      "[CV]  pca__n_components=10, svc__C=1, svc__kernel=rbf, score=0.788, total=   6.9s\n",
      "[CV] pca__n_components=10, svc__C=1, svc__kernel=rbf .................\n",
      "[CV]  pca__n_components=10, svc__C=1, svc__kernel=rbf, score=0.754, total=   6.8s\n",
      "[CV] pca__n_components=10, svc__C=1, svc__kernel=rbf .................\n",
      "[CV]  pca__n_components=10, svc__C=1, svc__kernel=rbf, score=0.777, total=   6.8s\n",
      "[CV] pca__n_components=10, svc__C=1, svc__kernel=linear ..............\n",
      "[CV]  pca__n_components=10, svc__C=1, svc__kernel=linear, score=0.714, total=   6.8s\n",
      "[CV] pca__n_components=10, svc__C=1, svc__kernel=linear ..............\n",
      "[CV]  pca__n_components=10, svc__C=1, svc__kernel=linear, score=0.686, total=   6.9s\n",
      "[CV] pca__n_components=10, svc__C=1, svc__kernel=linear ..............\n",
      "[CV]  pca__n_components=10, svc__C=1, svc__kernel=linear, score=0.713, total=   6.8s\n",
      "[CV] pca__n_components=10, svc__C=1, svc__kernel=linear ..............\n",
      "[CV]  pca__n_components=10, svc__C=1, svc__kernel=linear, score=0.703, total=   6.8s\n",
      "[CV] pca__n_components=10, svc__C=1, svc__kernel=linear ..............\n",
      "[CV]  pca__n_components=10, svc__C=1, svc__kernel=linear, score=0.728, total=   7.0s\n",
      "[CV] pca__n_components=10, svc__C=1, svc__kernel=sigmoid .............\n",
      "[CV]  pca__n_components=10, svc__C=1, svc__kernel=sigmoid, score=0.608, total=   6.9s\n",
      "[CV] pca__n_components=10, svc__C=1, svc__kernel=sigmoid .............\n",
      "[CV]  pca__n_components=10, svc__C=1, svc__kernel=sigmoid, score=0.606, total=   6.8s\n",
      "[CV] pca__n_components=10, svc__C=1, svc__kernel=sigmoid .............\n",
      "[CV]  pca__n_components=10, svc__C=1, svc__kernel=sigmoid, score=0.654, total=   6.9s\n",
      "[CV] pca__n_components=10, svc__C=1, svc__kernel=sigmoid .............\n",
      "[CV]  pca__n_components=10, svc__C=1, svc__kernel=sigmoid, score=0.658, total=   6.9s\n",
      "[CV] pca__n_components=10, svc__C=1, svc__kernel=sigmoid .............\n",
      "[CV]  pca__n_components=10, svc__C=1, svc__kernel=sigmoid, score=0.673, total=   6.9s\n",
      "[CV] pca__n_components=10, svc__C=10, svc__kernel=rbf ................\n",
      "[CV]  pca__n_components=10, svc__C=10, svc__kernel=rbf, score=0.784, total=   7.1s\n",
      "[CV] pca__n_components=10, svc__C=10, svc__kernel=rbf ................\n",
      "[CV]  pca__n_components=10, svc__C=10, svc__kernel=rbf, score=0.784, total=   7.4s\n",
      "[CV] pca__n_components=10, svc__C=10, svc__kernel=rbf ................\n",
      "[CV]  pca__n_components=10, svc__C=10, svc__kernel=rbf, score=0.794, total=   6.7s\n",
      "[CV] pca__n_components=10, svc__C=10, svc__kernel=rbf ................\n",
      "[CV]  pca__n_components=10, svc__C=10, svc__kernel=rbf, score=0.781, total=   6.9s\n",
      "[CV] pca__n_components=10, svc__C=10, svc__kernel=rbf ................\n",
      "[CV]  pca__n_components=10, svc__C=10, svc__kernel=rbf, score=0.796, total=   6.7s\n",
      "[CV] pca__n_components=10, svc__C=10, svc__kernel=linear .............\n",
      "[CV]  pca__n_components=10, svc__C=10, svc__kernel=linear, score=0.714, total=   7.0s\n",
      "[CV] pca__n_components=10, svc__C=10, svc__kernel=linear .............\n",
      "[CV]  pca__n_components=10, svc__C=10, svc__kernel=linear, score=0.684, total=   7.2s\n",
      "[CV] pca__n_components=10, svc__C=10, svc__kernel=linear .............\n",
      "[CV]  pca__n_components=10, svc__C=10, svc__kernel=linear, score=0.713, total=   7.0s\n",
      "[CV] pca__n_components=10, svc__C=10, svc__kernel=linear .............\n",
      "[CV]  pca__n_components=10, svc__C=10, svc__kernel=linear, score=0.703, total=   7.0s\n",
      "[CV] pca__n_components=10, svc__C=10, svc__kernel=linear .............\n",
      "[CV]  pca__n_components=10, svc__C=10, svc__kernel=linear, score=0.728, total=   7.0s\n",
      "[CV] pca__n_components=10, svc__C=10, svc__kernel=sigmoid ............\n",
      "[CV]  pca__n_components=10, svc__C=10, svc__kernel=sigmoid, score=0.587, total=   6.7s\n",
      "[CV] pca__n_components=10, svc__C=10, svc__kernel=sigmoid ............\n",
      "[CV]  pca__n_components=10, svc__C=10, svc__kernel=sigmoid, score=0.589, total=   6.8s\n",
      "[CV] pca__n_components=10, svc__C=10, svc__kernel=sigmoid ............\n",
      "[CV]  pca__n_components=10, svc__C=10, svc__kernel=sigmoid, score=0.616, total=   6.9s\n",
      "[CV] pca__n_components=10, svc__C=10, svc__kernel=sigmoid ............\n",
      "[CV]  pca__n_components=10, svc__C=10, svc__kernel=sigmoid, score=0.635, total=   6.9s\n",
      "[CV] pca__n_components=10, svc__C=10, svc__kernel=sigmoid ............\n",
      "[CV]  pca__n_components=10, svc__C=10, svc__kernel=sigmoid, score=0.658, total=   6.8s\n",
      "[CV] pca__n_components=50, svc__C=0.1, svc__kernel=rbf ...............\n",
      "[CV]  pca__n_components=50, svc__C=0.1, svc__kernel=rbf, score=0.716, total=   7.9s\n",
      "[CV] pca__n_components=50, svc__C=0.1, svc__kernel=rbf ...............\n",
      "[CV]  pca__n_components=50, svc__C=0.1, svc__kernel=rbf, score=0.680, total=   7.8s\n",
      "[CV] pca__n_components=50, svc__C=0.1, svc__kernel=rbf ...............\n",
      "[CV]  pca__n_components=50, svc__C=0.1, svc__kernel=rbf, score=0.713, total=   7.8s\n",
      "[CV] pca__n_components=50, svc__C=0.1, svc__kernel=rbf ...............\n",
      "[CV]  pca__n_components=50, svc__C=0.1, svc__kernel=rbf, score=0.696, total=   7.8s\n",
      "[CV] pca__n_components=50, svc__C=0.1, svc__kernel=rbf ...............\n",
      "[CV]  pca__n_components=50, svc__C=0.1, svc__kernel=rbf, score=0.724, total=   8.0s\n",
      "[CV] pca__n_components=50, svc__C=0.1, svc__kernel=linear ............\n",
      "[CV]  pca__n_components=50, svc__C=0.1, svc__kernel=linear, score=0.737, total=   7.8s\n",
      "[CV] pca__n_components=50, svc__C=0.1, svc__kernel=linear ............\n",
      "[CV]  pca__n_components=50, svc__C=0.1, svc__kernel=linear, score=0.735, total=   7.8s\n",
      "[CV] pca__n_components=50, svc__C=0.1, svc__kernel=linear ............\n",
      "[CV]  pca__n_components=50, svc__C=0.1, svc__kernel=linear, score=0.756, total=   7.9s\n",
      "[CV] pca__n_components=50, svc__C=0.1, svc__kernel=linear ............\n",
      "[CV]  pca__n_components=50, svc__C=0.1, svc__kernel=linear, score=0.732, total=   7.8s\n",
      "[CV] pca__n_components=50, svc__C=0.1, svc__kernel=linear ............\n",
      "[CV]  pca__n_components=50, svc__C=0.1, svc__kernel=linear, score=0.732, total=   7.8s\n",
      "[CV] pca__n_components=50, svc__C=0.1, svc__kernel=sigmoid ...........\n"
     ]
    },
    {
     "name": "stdout",
     "output_type": "stream",
     "text": [
      "[CV]  pca__n_components=50, svc__C=0.1, svc__kernel=sigmoid, score=0.710, total=   7.9s\n",
      "[CV] pca__n_components=50, svc__C=0.1, svc__kernel=sigmoid ...........\n",
      "[CV]  pca__n_components=50, svc__C=0.1, svc__kernel=sigmoid, score=0.680, total=   7.9s\n",
      "[CV] pca__n_components=50, svc__C=0.1, svc__kernel=sigmoid ...........\n",
      "[CV]  pca__n_components=50, svc__C=0.1, svc__kernel=sigmoid, score=0.703, total=   7.9s\n",
      "[CV] pca__n_components=50, svc__C=0.1, svc__kernel=sigmoid ...........\n",
      "[CV]  pca__n_components=50, svc__C=0.1, svc__kernel=sigmoid, score=0.692, total=   7.8s\n",
      "[CV] pca__n_components=50, svc__C=0.1, svc__kernel=sigmoid ...........\n",
      "[CV]  pca__n_components=50, svc__C=0.1, svc__kernel=sigmoid, score=0.728, total=   7.8s\n",
      "[CV] pca__n_components=50, svc__C=1, svc__kernel=rbf .................\n",
      "[CV]  pca__n_components=50, svc__C=1, svc__kernel=rbf, score=0.805, total=   7.9s\n",
      "[CV] pca__n_components=50, svc__C=1, svc__kernel=rbf .................\n",
      "[CV]  pca__n_components=50, svc__C=1, svc__kernel=rbf, score=0.809, total=   7.8s\n",
      "[CV] pca__n_components=50, svc__C=1, svc__kernel=rbf .................\n",
      "[CV]  pca__n_components=50, svc__C=1, svc__kernel=rbf, score=0.817, total=   7.9s\n",
      "[CV] pca__n_components=50, svc__C=1, svc__kernel=rbf .................\n",
      "[CV]  pca__n_components=50, svc__C=1, svc__kernel=rbf, score=0.798, total=   7.8s\n",
      "[CV] pca__n_components=50, svc__C=1, svc__kernel=rbf .................\n",
      "[CV]  pca__n_components=50, svc__C=1, svc__kernel=rbf, score=0.817, total=   7.9s\n",
      "[CV] pca__n_components=50, svc__C=1, svc__kernel=linear ..............\n",
      "[CV]  pca__n_components=50, svc__C=1, svc__kernel=linear, score=0.744, total=   8.3s\n",
      "[CV] pca__n_components=50, svc__C=1, svc__kernel=linear ..............\n",
      "[CV]  pca__n_components=50, svc__C=1, svc__kernel=linear, score=0.729, total=   8.0s\n",
      "[CV] pca__n_components=50, svc__C=1, svc__kernel=linear ..............\n",
      "[CV]  pca__n_components=50, svc__C=1, svc__kernel=linear, score=0.764, total=   8.3s\n",
      "[CV] pca__n_components=50, svc__C=1, svc__kernel=linear ..............\n",
      "[CV]  pca__n_components=50, svc__C=1, svc__kernel=linear, score=0.730, total=   8.1s\n",
      "[CV] pca__n_components=50, svc__C=1, svc__kernel=linear ..............\n",
      "[CV]  pca__n_components=50, svc__C=1, svc__kernel=linear, score=0.735, total=   8.1s\n",
      "[CV] pca__n_components=50, svc__C=1, svc__kernel=sigmoid .............\n",
      "[CV]  pca__n_components=50, svc__C=1, svc__kernel=sigmoid, score=0.691, total=   7.9s\n",
      "[CV] pca__n_components=50, svc__C=1, svc__kernel=sigmoid .............\n",
      "[CV]  pca__n_components=50, svc__C=1, svc__kernel=sigmoid, score=0.691, total=   7.8s\n",
      "[CV] pca__n_components=50, svc__C=1, svc__kernel=sigmoid .............\n",
      "[CV]  pca__n_components=50, svc__C=1, svc__kernel=sigmoid, score=0.713, total=   8.0s\n",
      "[CV] pca__n_components=50, svc__C=1, svc__kernel=sigmoid .............\n",
      "[CV]  pca__n_components=50, svc__C=1, svc__kernel=sigmoid, score=0.703, total=   7.8s\n",
      "[CV] pca__n_components=50, svc__C=1, svc__kernel=sigmoid .............\n",
      "[CV]  pca__n_components=50, svc__C=1, svc__kernel=sigmoid, score=0.699, total=   7.8s\n",
      "[CV] pca__n_components=50, svc__C=10, svc__kernel=rbf ................\n",
      "[CV]  pca__n_components=50, svc__C=10, svc__kernel=rbf, score=0.835, total=   7.9s\n",
      "[CV] pca__n_components=50, svc__C=10, svc__kernel=rbf ................\n",
      "[CV]  pca__n_components=50, svc__C=10, svc__kernel=rbf, score=0.811, total=   7.9s\n",
      "[CV] pca__n_components=50, svc__C=10, svc__kernel=rbf ................\n",
      "[CV]  pca__n_components=50, svc__C=10, svc__kernel=rbf, score=0.813, total=   8.0s\n",
      "[CV] pca__n_components=50, svc__C=10, svc__kernel=rbf ................\n",
      "[CV]  pca__n_components=50, svc__C=10, svc__kernel=rbf, score=0.800, total=   7.9s\n",
      "[CV] pca__n_components=50, svc__C=10, svc__kernel=rbf ................\n",
      "[CV]  pca__n_components=50, svc__C=10, svc__kernel=rbf, score=0.803, total=   7.9s\n",
      "[CV] pca__n_components=50, svc__C=10, svc__kernel=linear .............\n",
      "[CV]  pca__n_components=50, svc__C=10, svc__kernel=linear, score=0.737, total=  10.5s\n",
      "[CV] pca__n_components=50, svc__C=10, svc__kernel=linear .............\n",
      "[CV]  pca__n_components=50, svc__C=10, svc__kernel=linear, score=0.737, total=   9.9s\n",
      "[CV] pca__n_components=50, svc__C=10, svc__kernel=linear .............\n",
      "[CV]  pca__n_components=50, svc__C=10, svc__kernel=linear, score=0.756, total=  10.1s\n",
      "[CV] pca__n_components=50, svc__C=10, svc__kernel=linear .............\n",
      "[CV]  pca__n_components=50, svc__C=10, svc__kernel=linear, score=0.730, total=  10.1s\n",
      "[CV] pca__n_components=50, svc__C=10, svc__kernel=linear .............\n",
      "[CV]  pca__n_components=50, svc__C=10, svc__kernel=linear, score=0.739, total=  10.4s\n",
      "[CV] pca__n_components=50, svc__C=10, svc__kernel=sigmoid ............\n",
      "[CV]  pca__n_components=50, svc__C=10, svc__kernel=sigmoid, score=0.606, total=   7.8s\n",
      "[CV] pca__n_components=50, svc__C=10, svc__kernel=sigmoid ............\n",
      "[CV]  pca__n_components=50, svc__C=10, svc__kernel=sigmoid, score=0.682, total=   8.1s\n",
      "[CV] pca__n_components=50, svc__C=10, svc__kernel=sigmoid ............\n",
      "[CV]  pca__n_components=50, svc__C=10, svc__kernel=sigmoid, score=0.652, total=   7.7s\n",
      "[CV] pca__n_components=50, svc__C=10, svc__kernel=sigmoid ............\n",
      "[CV]  pca__n_components=50, svc__C=10, svc__kernel=sigmoid, score=0.669, total=   7.8s\n",
      "[CV] pca__n_components=50, svc__C=10, svc__kernel=sigmoid ............\n",
      "[CV]  pca__n_components=50, svc__C=10, svc__kernel=sigmoid, score=0.671, total=   7.8s\n",
      "[CV] pca__n_components=100, svc__C=0.1, svc__kernel=rbf ..............\n",
      "[CV]  pca__n_components=100, svc__C=0.1, svc__kernel=rbf, score=0.657, total=   9.4s\n",
      "[CV] pca__n_components=100, svc__C=0.1, svc__kernel=rbf ..............\n",
      "[CV]  pca__n_components=100, svc__C=0.1, svc__kernel=rbf, score=0.653, total=   9.3s\n",
      "[CV] pca__n_components=100, svc__C=0.1, svc__kernel=rbf ..............\n",
      "[CV]  pca__n_components=100, svc__C=0.1, svc__kernel=rbf, score=0.679, total=   9.4s\n",
      "[CV] pca__n_components=100, svc__C=0.1, svc__kernel=rbf ..............\n",
      "[CV]  pca__n_components=100, svc__C=0.1, svc__kernel=rbf, score=0.645, total=   9.7s\n",
      "[CV] pca__n_components=100, svc__C=0.1, svc__kernel=rbf ..............\n",
      "[CV]  pca__n_components=100, svc__C=0.1, svc__kernel=rbf, score=0.665, total=   9.6s\n",
      "[CV] pca__n_components=100, svc__C=0.1, svc__kernel=linear ...........\n",
      "[CV]  pca__n_components=100, svc__C=0.1, svc__kernel=linear, score=0.797, total=   9.4s\n",
      "[CV] pca__n_components=100, svc__C=0.1, svc__kernel=linear ...........\n",
      "[CV]  pca__n_components=100, svc__C=0.1, svc__kernel=linear, score=0.790, total=   9.5s\n",
      "[CV] pca__n_components=100, svc__C=0.1, svc__kernel=linear ...........\n",
      "[CV]  pca__n_components=100, svc__C=0.1, svc__kernel=linear, score=0.758, total=   9.3s\n",
      "[CV] pca__n_components=100, svc__C=0.1, svc__kernel=linear ...........\n",
      "[CV]  pca__n_components=100, svc__C=0.1, svc__kernel=linear, score=0.773, total=   9.3s\n",
      "[CV] pca__n_components=100, svc__C=0.1, svc__kernel=linear ...........\n",
      "[CV]  pca__n_components=100, svc__C=0.1, svc__kernel=linear, score=0.807, total=   9.6s\n",
      "[CV] pca__n_components=100, svc__C=0.1, svc__kernel=sigmoid ..........\n",
      "[CV]  pca__n_components=100, svc__C=0.1, svc__kernel=sigmoid, score=0.727, total=   9.5s\n",
      "[CV] pca__n_components=100, svc__C=0.1, svc__kernel=sigmoid ..........\n",
      "[CV]  pca__n_components=100, svc__C=0.1, svc__kernel=sigmoid, score=0.689, total=   9.4s\n",
      "[CV] pca__n_components=100, svc__C=0.1, svc__kernel=sigmoid ..........\n",
      "[CV]  pca__n_components=100, svc__C=0.1, svc__kernel=sigmoid, score=0.724, total=   9.4s\n",
      "[CV] pca__n_components=100, svc__C=0.1, svc__kernel=sigmoid ..........\n",
      "[CV]  pca__n_components=100, svc__C=0.1, svc__kernel=sigmoid, score=0.705, total=   9.4s\n",
      "[CV] pca__n_components=100, svc__C=0.1, svc__kernel=sigmoid ..........\n",
      "[CV]  pca__n_components=100, svc__C=0.1, svc__kernel=sigmoid, score=0.752, total=   9.4s\n",
      "[CV] pca__n_components=100, svc__C=1, svc__kernel=rbf ................\n",
      "[CV]  pca__n_components=100, svc__C=1, svc__kernel=rbf, score=0.814, total=  10.5s\n",
      "[CV] pca__n_components=100, svc__C=1, svc__kernel=rbf ................\n",
      "[CV]  pca__n_components=100, svc__C=1, svc__kernel=rbf, score=0.799, total=  10.5s\n",
      "[CV] pca__n_components=100, svc__C=1, svc__kernel=rbf ................\n",
      "[CV]  pca__n_components=100, svc__C=1, svc__kernel=rbf, score=0.807, total=   9.4s\n",
      "[CV] pca__n_components=100, svc__C=1, svc__kernel=rbf ................\n"
     ]
    },
    {
     "name": "stdout",
     "output_type": "stream",
     "text": [
      "[CV]  pca__n_components=100, svc__C=1, svc__kernel=rbf, score=0.813, total=   9.5s\n",
      "[CV] pca__n_components=100, svc__C=1, svc__kernel=rbf ................\n",
      "[CV]  pca__n_components=100, svc__C=1, svc__kernel=rbf, score=0.824, total=   9.4s\n",
      "[CV] pca__n_components=100, svc__C=1, svc__kernel=linear .............\n",
      "[CV]  pca__n_components=100, svc__C=1, svc__kernel=linear, score=0.805, total=  10.2s\n",
      "[CV] pca__n_components=100, svc__C=1, svc__kernel=linear .............\n",
      "[CV]  pca__n_components=100, svc__C=1, svc__kernel=linear, score=0.805, total=  10.6s\n",
      "[CV] pca__n_components=100, svc__C=1, svc__kernel=linear .............\n",
      "[CV]  pca__n_components=100, svc__C=1, svc__kernel=linear, score=0.762, total=  11.6s\n",
      "[CV] pca__n_components=100, svc__C=1, svc__kernel=linear .............\n",
      "[CV]  pca__n_components=100, svc__C=1, svc__kernel=linear, score=0.779, total=  10.7s\n",
      "[CV] pca__n_components=100, svc__C=1, svc__kernel=linear .............\n",
      "[CV]  pca__n_components=100, svc__C=1, svc__kernel=linear, score=0.794, total=  11.1s\n",
      "[CV] pca__n_components=100, svc__C=1, svc__kernel=sigmoid ............\n",
      "[CV]  pca__n_components=100, svc__C=1, svc__kernel=sigmoid, score=0.739, total=   9.9s\n",
      "[CV] pca__n_components=100, svc__C=1, svc__kernel=sigmoid ............\n",
      "[CV]  pca__n_components=100, svc__C=1, svc__kernel=sigmoid, score=0.752, total=   9.9s\n",
      "[CV] pca__n_components=100, svc__C=1, svc__kernel=sigmoid ............\n",
      "[CV]  pca__n_components=100, svc__C=1, svc__kernel=sigmoid, score=0.728, total=  10.7s\n",
      "[CV] pca__n_components=100, svc__C=1, svc__kernel=sigmoid ............\n",
      "[CV]  pca__n_components=100, svc__C=1, svc__kernel=sigmoid, score=0.737, total=  10.2s\n",
      "[CV] pca__n_components=100, svc__C=1, svc__kernel=sigmoid ............\n",
      "[CV]  pca__n_components=100, svc__C=1, svc__kernel=sigmoid, score=0.769, total=  10.1s\n",
      "[CV] pca__n_components=100, svc__C=10, svc__kernel=rbf ...............\n",
      "[CV]  pca__n_components=100, svc__C=10, svc__kernel=rbf, score=0.841, total=  10.2s\n",
      "[CV] pca__n_components=100, svc__C=10, svc__kernel=rbf ...............\n",
      "[CV]  pca__n_components=100, svc__C=10, svc__kernel=rbf, score=0.803, total=  10.0s\n",
      "[CV] pca__n_components=100, svc__C=10, svc__kernel=rbf ...............\n",
      "[CV]  pca__n_components=100, svc__C=10, svc__kernel=rbf, score=0.826, total=  10.3s\n",
      "[CV] pca__n_components=100, svc__C=10, svc__kernel=rbf ...............\n",
      "[CV]  pca__n_components=100, svc__C=10, svc__kernel=rbf, score=0.815, total=  10.0s\n",
      "[CV] pca__n_components=100, svc__C=10, svc__kernel=rbf ...............\n",
      "[CV]  pca__n_components=100, svc__C=10, svc__kernel=rbf, score=0.826, total=  10.2s\n",
      "[CV] pca__n_components=100, svc__C=10, svc__kernel=linear ............\n",
      "[CV]  pca__n_components=100, svc__C=10, svc__kernel=linear, score=0.794, total=  21.9s\n",
      "[CV] pca__n_components=100, svc__C=10, svc__kernel=linear ............\n",
      "[CV]  pca__n_components=100, svc__C=10, svc__kernel=linear, score=0.780, total=  20.1s\n",
      "[CV] pca__n_components=100, svc__C=10, svc__kernel=linear ............\n",
      "[CV]  pca__n_components=100, svc__C=10, svc__kernel=linear, score=0.758, total=  18.3s\n",
      "[CV] pca__n_components=100, svc__C=10, svc__kernel=linear ............\n",
      "[CV]  pca__n_components=100, svc__C=10, svc__kernel=linear, score=0.777, total=  15.8s\n",
      "[CV] pca__n_components=100, svc__C=10, svc__kernel=linear ............\n",
      "[CV]  pca__n_components=100, svc__C=10, svc__kernel=linear, score=0.792, total=  22.9s\n",
      "[CV] pca__n_components=100, svc__C=10, svc__kernel=sigmoid ...........\n",
      "[CV]  pca__n_components=100, svc__C=10, svc__kernel=sigmoid, score=0.712, total=  12.9s\n",
      "[CV] pca__n_components=100, svc__C=10, svc__kernel=sigmoid ...........\n",
      "[CV]  pca__n_components=100, svc__C=10, svc__kernel=sigmoid, score=0.697, total=  13.8s\n",
      "[CV] pca__n_components=100, svc__C=10, svc__kernel=sigmoid ...........\n",
      "[CV]  pca__n_components=100, svc__C=10, svc__kernel=sigmoid, score=0.684, total=  12.0s\n",
      "[CV] pca__n_components=100, svc__C=10, svc__kernel=sigmoid ...........\n",
      "[CV]  pca__n_components=100, svc__C=10, svc__kernel=sigmoid, score=0.737, total=  11.1s\n",
      "[CV] pca__n_components=100, svc__C=10, svc__kernel=sigmoid ...........\n",
      "[CV]  pca__n_components=100, svc__C=10, svc__kernel=sigmoid, score=0.728, total=  14.0s\n"
     ]
    },
    {
     "name": "stderr",
     "output_type": "stream",
     "text": [
      "[Parallel(n_jobs=1)]: Done 135 out of 135 | elapsed: 20.0min finished\n"
     ]
    },
    {
     "name": "stdout",
     "output_type": "stream",
     "text": [
      "CPU times: user 35min 24s, sys: 4min 26s, total: 39min 50s\n",
      "Wall time: 20min 12s\n",
      "Best parameter (CV score=0.822):\n",
      "{'pca__n_components': 100, 'svc__C': 10, 'svc__kernel': 'rbf'}\n"
     ]
    }
   ],
   "source": [
    "from sklearn.decomposition import PCA\n",
    "from sklearn.svm import SVC\n",
    "from sklearn.pipeline import Pipeline\n",
    "from sklearn.model_selection import GridSearchCV, StratifiedKFold\n",
    "\n",
    "# Define a pipeline to search for the best combination of PCA truncation\n",
    "# and classifier regularization.\n",
    "std = StandardScaler()\n",
    "pca = PCA(n_components=150, whiten=True)\n",
    "svc = SVC(kernel='rbf')\n",
    "pipe = Pipeline([('std',std),('pca', pca),('svc',svc)])\n",
    "\n",
    "# Parameters of pipelines can be set using ‘__’ separated parameter names:\n",
    "param_grid = {\n",
    "  'pca__n_components': [10, 50, 100],\n",
    "  'svc__kernel': ['rbf', 'linear', 'sigmoid'],\n",
    "  'svc__C': [0.1, 1, 10],\n",
    "#   'svc__gamma' : np.logspace(-9, 9, num=2, base=10)\n",
    "}\n",
    "\n",
    "\n",
    "search = GridSearchCV(pipe, param_grid,\n",
    "                      scoring=\"accuracy\",\n",
    "#                       cv=StratifiedKFold(n_splits=2),\n",
    "                      cv=5,\n",
    "                      verbose=3, )\n",
    "%time search.fit(Xtrain, ytrain)\n",
    "print(\"Best parameter (CV score=%0.3f):\" % search.best_score_)\n",
    "print(search.best_params_)\n"
   ]
  },
  {
   "cell_type": "code",
   "execution_count": 36,
   "metadata": {
    "colab": {
     "base_uri": "https://localhost:8080/",
     "height": 510
    },
    "id": "nDgml2UNUJVr",
    "outputId": "6008440f-3d1a-47a3-8721-cf7a9c4868d4"
   },
   "outputs": [
    {
     "name": "stdout",
     "output_type": "stream",
     "text": [
      "Pipeline(steps=[('std', StandardScaler()),\n",
      "                ('pca', PCA(n_components=20, whiten=True)),\n",
      "                ('svc', SVC(C=1000000000.0, gamma=1000000000.0))])\n",
      "              precision    recall  f1-score   support\n",
      "\n",
      "           1       0.00      0.00      0.00       978\n",
      "           2       0.38      1.00      0.55      2388\n",
      "           3       1.00      0.01      0.01       916\n",
      "           4       0.00      0.00      0.00       540\n",
      "           5       0.00      0.00      0.00       844\n",
      "           6       0.00      0.00      0.00         7\n",
      "           7       0.00      0.00      0.00       597\n",
      "\n",
      "    accuracy                           0.38      6270\n",
      "   macro avg       0.20      0.14      0.08      6270\n",
      "weighted avg       0.29      0.38      0.21      6270\n",
      "\n"
     ]
    },
    {
     "name": "stderr",
     "output_type": "stream",
     "text": [
      "/Users/phunp/opt/anaconda3/envs/py37/lib/python3.7/site-packages/sklearn/metrics/_classification.py:1221: UndefinedMetricWarning: Precision and F-score are ill-defined and being set to 0.0 in labels with no predicted samples. Use `zero_division` parameter to control this behavior.\n",
      "  _warn_prf(average, modifier, msg_start, len(result))\n"
     ]
    },
    {
     "data": {
      "image/png": "[encoded data removed]",
      "text/plain": [
       "<Figure size 432x288 with 1 Axes>"
      ]
     },
     "metadata": {
      "needs_background": "light"
     },
     "output_type": "display_data"
    }
   ],
   "source": [
    "model_best = search.best_estimator_\n",
    "yfit = model_best.predict(Xtest)\n",
    "print(model_best)\n",
    "\n",
    "from sklearn.metrics import confusion_matrix\n",
    "print(classification_report(ytest,yfit))\n",
    "mat = confusion_matrix(ytest, yfit)\n",
    "sns.heatmap(mat.T, square=True, annot=True, fmt='d', cbar=False,\n",
    "            ##xticklabels=faces.target_names,\n",
    "            ##yticklabels=faces.target_names\n",
    "            )\n",
    "plt.xlabel('true label')\n",
    "plt.ylabel('predicted label');"
   ]
  },
  {
   "cell_type": "code",
   "execution_count": 16,
   "metadata": {
    "id": "-WTx2TIVEZCO"
   },
   "outputs": [],
   "source": [
    "def calculate_bm(cm):\n",
    "\n",
    "    TN = cm[1][1]\n",
    "    FN = cm[0][1]\n",
    "    TP = cm[0][0]\n",
    "    FP = cm[1][0]\n",
    "\n",
    "    # Sensitivity, hit rate, recall, or true positive rate\n",
    "    TPR = TP/(TP+FN)\n",
    "    # Specificity or true negative rate\n",
    "    TNR = TN/(TN+FP) \n",
    "    # Precision or positive predictive value\n",
    "    PPV = TP/(TP+FP)\n",
    "    # Negative predictive value\n",
    "    NPV = TN/(TN+FN)\n",
    "    # Fall out or false positive rate\n",
    "    FPR = FP/(FP+TN)\n",
    "    # False negative rate\n",
    "    FNR = FN/(TP+FN)\n",
    "    # False discovery rate\n",
    "    FDR = FP/(TP+FP)\n",
    "\n",
    "    # Overall accuracy\n",
    "    ACC = (TP+TN)/(TP+FP+FN+TN)\n",
    "    F1 = 2*(PPV*TPR)/(PPV+TPR)\n",
    "    BM = TPR + TNR - 1\n",
    "\n",
    "    return BM"
   ]
  },
  {
   "cell_type": "code",
   "execution_count": 17,
   "metadata": {
    "colab": {
     "base_uri": "https://localhost:8080/",
     "height": 667
    },
    "id": "J5nfJFs0DkGn",
    "outputId": "5813b941-6abc-4adc-e1a5-77451c11c942"
   },
   "outputs": [
    {
     "name": "stdout",
     "output_type": "stream",
     "text": [
      "predictions: [0 1 0 1 0 1 1 0 0 0]\n",
      "acutal     : [0 1 1 1 0 1 1 0 0 0]\n",
      "\n",
      "Evaluation of hidden_layer_size: 250, max_iter: 2000\n",
      "\n",
      "              precision    recall  f1-score   support\n",
      "\n",
      "           0       0.79      0.73      0.76       385\n",
      "           1       0.84      0.88      0.86       626\n",
      "\n",
      "    accuracy                           0.82      1011\n",
      "   macro avg       0.81      0.81      0.81      1011\n",
      "weighted avg       0.82      0.82      0.82      1011\n",
      "\n",
      "[[282 103]\n",
      " [ 76 550]]\n",
      "Bookmaker for Test with MLP is 0.61\n"
     ]
    },
    {
     "name": "stderr",
     "output_type": "stream",
     "text": [
      "/Users/phunp/opt/anaconda3/envs/py37/lib/python3.7/site-packages/sklearn/neural_network/_multilayer_perceptron.py:585: ConvergenceWarning: Stochastic Optimizer: Maximum iterations (2000) reached and the optimization hasn't converged yet.\n",
      "  % self.max_iter, ConvergenceWarning)\n"
     ]
    },
    {
     "data": {
      "image/png": "[encoded data removed]",
      "text/plain": [
       "<Figure size 432x288 with 1 Axes>"
      ]
     },
     "metadata": {
      "needs_background": "light"
     },
     "output_type": "display_data"
    }
   ],
   "source": [
    "# Test with MLP\n",
    "from sklearn.preprocessing import StandardScaler\n",
    "from sklearn.decomposition import PCA\n",
    "from sklearn.model_selection import train_test_split\n",
    "from sklearn.metrics import confusion_matrix\n",
    "from sklearn.metrics import f1_score\n",
    "from sklearn.svm import SVC\n",
    "from sklearn.metrics import classification_report\n",
    "from matplotlib import pyplot as plt\n",
    "from sklearn.neural_network import MLPClassifier\n",
    "\n",
    "# X1 = X[0:400]\n",
    "# y1 = y[0:400]\n",
    "X1 = X\n",
    "y1 = Y\n",
    "\n",
    "# split into train and test\n",
    "# Xtrain, Xtest, ytrain, ytest = train_test_split(X, y,stratify=y)\n",
    "Xtrain, Xtest, ytrain, ytest = train_test_split(X1, y1,test_size=0.3, random_state=42)\n",
    "\n",
    "# normalise features\n",
    "input_std = StandardScaler()\n",
    "input_std.fit(Xtrain)\n",
    "Xtrain_std = input_std.transform(Xtrain)\n",
    "Xtest_std = input_std.transform(Xtest)\n",
    "\n",
    "# do the PCA, choose the numbher of components to retain\n",
    "input_pca = PCA(n_components=50, whiten=True)\n",
    "input_pca.fit(Xtrain_std)\n",
    "Xtrain_std_pca = input_pca.transform(Xtrain_std)\n",
    "Xtest_std_pca = input_pca.transform(Xtest_std)\n",
    "\n",
    "## MLP PART\n",
    "data_name = \"Test with MLP\"\n",
    "# model initialization\n",
    "hidden_layer_size = 250\n",
    "max_iter = 2000\n",
    "mlp = MLPClassifier(hidden_layer_sizes=(hidden_layer_size), max_iter=max_iter, alpha=0.01, #try change hidden layer, or max_iter\n",
    "                    solver='sgd', verbose=0, tol=0.000001, #try verbode=0 to train with out logging\n",
    "                    early_stopping=False, momentum=0.9) \n",
    "\n",
    "### Train the Model\n",
    "# The function call to `fit` trains the model using the training data.  \n",
    "h = mlp.fit(Xtrain_std_pca,ytrain)\n",
    "\n",
    "### Plot a loss curve\n",
    "# The loss curve shows the history of how the training progressed.\n",
    "plt.plot(h.loss_curve_)\n",
    "plt.title('Loss History for ' + data_name)\n",
    "plt.xlabel('epoch')\n",
    "plt.legend(['Loss'])\n",
    "\n",
    "\n",
    "## Evaluate the performance of the classifier\n",
    "# Let's have a look at predicting the first 10 instances in the test data set.  How did it do?  How many matches?\n",
    "print('predictions: {0}'.format(mlp.predict(Xtest_std_pca[0:10,:])))\n",
    "print('acutal     : {0}'.format(np.ravel(ytest)[0:10]))\n",
    "\n",
    "# Calculate evaluation measures\n",
    "print()\n",
    "print('Evaluation of hidden_layer_size: {}, max_iter: {}'.format(hidden_layer_size, max_iter))\n",
    "print()\n",
    "y_pred = mlp.predict(Xtest_std_pca)\n",
    "cm = confusion_matrix(ytest, y_pred,normalize=None)\n",
    "cr = classification_report(ytest,y_pred)\n",
    "print(cr)\n",
    "f1 = f1_score(ytest, y_pred,average='weighted')\n",
    "cm = confusion_matrix(ytest, y_pred)\n",
    "bm = calculate_bm(cm)\n",
    "print(cm)\n",
    "print('Bookmaker for {0} is {1:.2f}'.format(data_name,bm))\n",
    "\n",
    "\n",
    "\n",
    "# Create a confusion matrx using the function `confusion_matrix` and plot using seaborn\n",
    "# df_cm = pd.DataFrame(cm, columns=['0','1'], index=['0','1'])\n",
    "# fig, ax1 = plt.subplots(1,1, figsize=(10,8))\n",
    "# ax = sns.heatmap(df_cm, annot=True, ax=ax1, square=True,  cmap=\"YlGnBu\", fmt='d')\n",
    "# ax.set_title('Confusion Matrix with {1} nodes, bm = {2:.2f}'.format(data_name,hidden_layer_size,bm))\n",
    "# ax.set_xlabel('predicted')\n",
    "# ax.set_ylabel('actual')"
   ]
  },
  {
   "cell_type": "code",
   "execution_count": 18,
   "metadata": {
    "colab": {
     "base_uri": "https://localhost:8080/",
     "height": 278
    },
    "id": "F_U9kGuNFtHy",
    "outputId": "d2bfa742-9483-48be-fdb0-d7ab28c5efbc"
   },
   "outputs": [
    {
     "data": {
      "image/png": "[encoded data removed]",
      "text/plain": [
       "<Figure size 432x288 with 1 Axes>"
      ]
     },
     "metadata": {
      "needs_background": "light"
     },
     "output_type": "display_data"
    }
   ],
   "source": [
    "# Confusion matrix for mlp\n",
    "mat = confusion_matrix(ytest, y_pred)\n",
    "sns.heatmap(mat.T, square=True, annot=True, fmt='d', cbar=False,\n",
    "            # xticklabels=faces.target_names,\n",
    "            # yticklabels=faces.target_names\n",
    "            )\n",
    "plt.xlabel('true label')\n",
    "plt.ylabel('predicted label');"
   ]
  },
  {
   "cell_type": "code",
   "execution_count": 42,
   "metadata": {
    "colab": {
     "base_uri": "https://localhost:8080/"
    },
    "id": "peF9GcTeVV8O",
    "outputId": "1d1cc2f2-7d1b-4672-b8d9-48177fadb5f8"
   },
   "outputs": [],
   "source": [
    "\n",
    "# print(np.max(y))\n",
    "# print(np.min(y))\n",
    "# print(np.array([np.where(y > 2)]))\n",
    "# for name, idx in indexes.items():\n",
    "#     if idx == 454:\n",
    "#         print(name)\n",
    "# print(indexes)"
   ]
  },
  {
   "cell_type": "code",
   "execution_count": 45,
   "metadata": {
    "colab": {
     "base_uri": "https://localhost:8080/",
     "height": 1000
    },
    "id": "k0E0eetNHWQu",
    "outputId": "5915d4df-6b1c-4f26-95ea-04297d98c906"
   },
   "outputs": [
    {
     "name": "stdout",
     "output_type": "stream",
     "text": [
      "(17100, 61440) (17100,)\n",
      "(1900, 61440) (1900,)\n"
     ]
    },
    {
     "name": "stderr",
     "output_type": "stream",
     "text": [
      "/Users/phunp/opt/anaconda3/envs/py37/lib/python3.7/site-packages/sklearn/neural_network/_multilayer_perceptron.py:471: ConvergenceWarning: lbfgs failed to converge (status=1):\n",
      "STOP: TOTAL NO. of ITERATIONS REACHED LIMIT.\n",
      "\n",
      "Increase the number of iterations (max_iter) or scale the data as shown in:\n",
      "    https://scikit-learn.org/stable/modules/preprocessing.html\n",
      "  self.n_iter_ = _check_optimize_result(\"lbfgs\", opt_res, self.max_iter)\n"
     ]
    },
    {
     "name": "stdout",
     "output_type": "stream",
     "text": [
      "training score  : 0.20\n",
      "[5 2 4 ... 4 5 7]\n",
      "--- min 0 and max 7\n",
      "accuracy is 13.95%\n",
      "\n",
      "shape of current confusion_matrix of current fold 1 is [[13 23 33 24 30 30 29 20]\n",
      " [10 27 37 23 39 21 48 22]\n",
      " [ 7 43 37 18 34 43 39 26]\n",
      " [15 39 37 34 34 30 38 28]\n",
      " [16 32 39 18 50 41 47 20]\n",
      " [ 6 26 33 22 64 38 50 23]\n",
      " [12 38 31 17 46 35 50 22]\n",
      " [ 9 23 17 23 31 33 41 16]]\n",
      "(17100, 61440) (17100,)\n",
      "(1900, 61440) (1900,)\n"
     ]
    },
    {
     "name": "stderr",
     "output_type": "stream",
     "text": [
      "/Users/phunp/opt/anaconda3/envs/py37/lib/python3.7/site-packages/sklearn/neural_network/_multilayer_perceptron.py:471: ConvergenceWarning: lbfgs failed to converge (status=1):\n",
      "STOP: TOTAL NO. of ITERATIONS REACHED LIMIT.\n",
      "\n",
      "Increase the number of iterations (max_iter) or scale the data as shown in:\n",
      "    https://scikit-learn.org/stable/modules/preprocessing.html\n",
      "  self.n_iter_ = _check_optimize_result(\"lbfgs\", opt_res, self.max_iter)\n"
     ]
    },
    {
     "name": "stdout",
     "output_type": "stream",
     "text": [
      "training score  : 0.19\n",
      "[4 4 7 ... 0 2 6]\n",
      "--- min 0 and max 7\n",
      "accuracy is 11.89%\n",
      "\n",
      "shape of current confusion_matrix of current fold 2 is [[11 26 29 17 42 18 41 18]\n",
      " [18 24 35 19 47 21 38 25]\n",
      " [14 21 29 27 57 30 37 32]\n",
      " [20 25 31 24 62 29 47 17]\n",
      " [17 33 17 39 53 38 39 27]\n",
      " [ 9 38 19 27 61 31 47 31]\n",
      " [ 9 33 23 22 65 37 34 28]\n",
      " [14 21 19 15 37 28 38 20]]\n",
      "(17100, 61440) (17100,)\n",
      "(1900, 61440) (1900,)\n"
     ]
    },
    {
     "name": "stderr",
     "output_type": "stream",
     "text": [
      "/Users/phunp/opt/anaconda3/envs/py37/lib/python3.7/site-packages/sklearn/neural_network/_multilayer_perceptron.py:471: ConvergenceWarning: lbfgs failed to converge (status=1):\n",
      "STOP: TOTAL NO. of ITERATIONS REACHED LIMIT.\n",
      "\n",
      "Increase the number of iterations (max_iter) or scale the data as shown in:\n",
      "    https://scikit-learn.org/stable/modules/preprocessing.html\n",
      "  self.n_iter_ = _check_optimize_result(\"lbfgs\", opt_res, self.max_iter)\n"
     ]
    },
    {
     "name": "stdout",
     "output_type": "stream",
     "text": [
      "training score  : 0.20\n",
      "[0 3 5 ... 3 4 2]\n",
      "--- min 0 and max 7\n",
      "accuracy is 12.84%\n",
      "\n",
      "shape of current confusion_matrix of current fold 3 is [[29 21 24 41 17 18 34 18]\n",
      " [31 17 18 38 24 45 38 16]\n",
      " [27 21 30 41 38 37 30 23]\n",
      " [21 27 28 45 35 40 42 17]\n",
      " [32 17 27 63 31 34 35 24]\n",
      " [17 25 28 57 33 32 41 30]\n",
      " [29 20 32 46 30 34 41 19]\n",
      " [19 12 24 44 26 27 21 19]]\n",
      "(17100, 61440) (17100,)\n",
      "(1900, 61440) (1900,)\n"
     ]
    },
    {
     "name": "stderr",
     "output_type": "stream",
     "text": [
      "/Users/phunp/opt/anaconda3/envs/py37/lib/python3.7/site-packages/sklearn/neural_network/_multilayer_perceptron.py:471: ConvergenceWarning: lbfgs failed to converge (status=1):\n",
      "STOP: TOTAL NO. of ITERATIONS REACHED LIMIT.\n",
      "\n",
      "Increase the number of iterations (max_iter) or scale the data as shown in:\n",
      "    https://scikit-learn.org/stable/modules/preprocessing.html\n",
      "  self.n_iter_ = _check_optimize_result(\"lbfgs\", opt_res, self.max_iter)\n"
     ]
    },
    {
     "name": "stdout",
     "output_type": "stream",
     "text": [
      "training score  : 0.20\n",
      "[4 6 7 ... 6 5 6]\n",
      "--- min 0 and max 7\n",
      "accuracy is 13.00%\n",
      "\n",
      "shape of current confusion_matrix of current fold 4 is [[17 28 23 16 36 35 33 14]\n",
      " [31 20 27 32 29 43 34 12]\n",
      " [27 28 26 32 32 48 33 21]\n",
      " [25 20 30 40 39 45 38 18]\n",
      " [22 15 39 39 39 48 33 28]\n",
      " [31 21 25 27 33 58 49 19]\n",
      " [23 15 30 38 40 50 30 24]\n",
      " [10 20 24 24 21 48 28 17]]\n",
      "(17100, 61440) (17100,)\n",
      "(1900, 61440) (1900,)\n"
     ]
    },
    {
     "name": "stderr",
     "output_type": "stream",
     "text": [
      "/Users/phunp/opt/anaconda3/envs/py37/lib/python3.7/site-packages/sklearn/neural_network/_multilayer_perceptron.py:471: ConvergenceWarning: lbfgs failed to converge (status=1):\n",
      "STOP: TOTAL NO. of ITERATIONS REACHED LIMIT.\n",
      "\n",
      "Increase the number of iterations (max_iter) or scale the data as shown in:\n",
      "    https://scikit-learn.org/stable/modules/preprocessing.html\n",
      "  self.n_iter_ = _check_optimize_result(\"lbfgs\", opt_res, self.max_iter)\n"
     ]
    },
    {
     "name": "stdout",
     "output_type": "stream",
     "text": [
      "training score  : 0.19\n",
      "[2 4 0 ... 4 7 4]\n",
      "--- min 0 and max 7\n",
      "accuracy is 12.05%\n",
      "\n",
      "shape of current confusion_matrix of current fold 5 is [[24 20 27 24 29 32 23 22]\n",
      " [22 20 29 26 39 43 29 20]\n",
      " [26 33 29 20 43 39 28 29]\n",
      " [28 17 49 14 47 40 32 28]\n",
      " [24 23 35 23 43 34 45 36]\n",
      " [33 19 40 21 44 42 35 29]\n",
      " [20 25 24 24 42 42 33 41]\n",
      " [15 17 25 13 31 35 32 24]]\n",
      "(17100, 61440) (17100,)\n",
      "(1900, 61440) (1900,)\n",
      "training score  : 0.19\n",
      "[3 7 4 ... 6 0 1]\n",
      "--- min 0 and max 7\n",
      "accuracy is 12.32%\n",
      "\n",
      "shape of current confusion_matrix of current fold 6 is [[28 11 29 46 30 17 13 28]\n",
      " [26  9 32 39 50 21 21 30]\n",
      " [28 12 28 35 50 32 22 39]\n",
      " [36 11 26 34 58 27 39 24]\n",
      " [27 12 41 44 50 38 27 24]\n",
      " [27 13 34 44 52 33 28 32]\n",
      " [20 20 33 29 53 26 33 37]\n",
      " [24 15 28 24 32 22 28 19]]\n",
      "(17100, 61440) (17100,)\n",
      "(1900, 61440) (1900,)\n"
     ]
    },
    {
     "name": "stderr",
     "output_type": "stream",
     "text": [
      "/Users/phunp/opt/anaconda3/envs/py37/lib/python3.7/site-packages/sklearn/neural_network/_multilayer_perceptron.py:471: ConvergenceWarning: lbfgs failed to converge (status=1):\n",
      "STOP: TOTAL NO. of ITERATIONS REACHED LIMIT.\n",
      "\n",
      "Increase the number of iterations (max_iter) or scale the data as shown in:\n",
      "    https://scikit-learn.org/stable/modules/preprocessing.html\n",
      "  self.n_iter_ = _check_optimize_result(\"lbfgs\", opt_res, self.max_iter)\n"
     ]
    },
    {
     "name": "stdout",
     "output_type": "stream",
     "text": [
      "training score  : 0.20\n",
      "[3 2 4 ... 6 2 0]\n",
      "--- min 0 and max 7\n",
      "accuracy is 11.89%\n",
      "\n",
      "shape of current confusion_matrix of current fold 7 is [[24 25 42 14 52 17 26  2]\n",
      " [24 22 40 13 61 22 39  7]\n",
      " [30 29 47 14 60 28 26 13]\n",
      " [27 21 57 17 56 28 42  7]\n",
      " [30 24 50 19 57 25 40 18]\n",
      " [31 21 57 20 69 16 37 11]\n",
      " [32 24 40 18 58 34 35 10]\n",
      " [21 16 36 14 38 29 30  8]]\n",
      "(17100, 61440) (17100,)\n",
      "(1900, 61440) (1900,)\n"
     ]
    },
    {
     "name": "stderr",
     "output_type": "stream",
     "text": [
      "/Users/phunp/opt/anaconda3/envs/py37/lib/python3.7/site-packages/sklearn/neural_network/_multilayer_perceptron.py:471: ConvergenceWarning: lbfgs failed to converge (status=1):\n",
      "STOP: TOTAL NO. of ITERATIONS REACHED LIMIT.\n",
      "\n",
      "Increase the number of iterations (max_iter) or scale the data as shown in:\n",
      "    https://scikit-learn.org/stable/modules/preprocessing.html\n",
      "  self.n_iter_ = _check_optimize_result(\"lbfgs\", opt_res, self.max_iter)\n"
     ]
    },
    {
     "name": "stdout",
     "output_type": "stream",
     "text": [
      "training score  : 0.19\n",
      "[5 3 0 ... 2 5 1]\n",
      "--- min 0 and max 7\n",
      "accuracy is 12.63%\n",
      "\n",
      "shape of current confusion_matrix of current fold 8 is [[24 26 22 41 25 26 30  8]\n",
      " [37 14 21 43 15 41 41 16]\n",
      " [25 21 32 52 18 48 42  9]\n",
      " [25 20 35 48 19 51 41 16]\n",
      " [24 19 41 66 24 41 38 10]\n",
      " [34 14 37 48 29 43 42 15]\n",
      " [23 14 36 43 23 53 48 11]\n",
      " [24 13 28 31 13 40 36  7]]\n",
      "(17100, 61440) (17100,)\n",
      "(1900, 61440) (1900,)\n"
     ]
    },
    {
     "name": "stderr",
     "output_type": "stream",
     "text": [
      "/Users/phunp/opt/anaconda3/envs/py37/lib/python3.7/site-packages/sklearn/neural_network/_multilayer_perceptron.py:471: ConvergenceWarning: lbfgs failed to converge (status=1):\n",
      "STOP: TOTAL NO. of ITERATIONS REACHED LIMIT.\n",
      "\n",
      "Increase the number of iterations (max_iter) or scale the data as shown in:\n",
      "    https://scikit-learn.org/stable/modules/preprocessing.html\n",
      "  self.n_iter_ = _check_optimize_result(\"lbfgs\", opt_res, self.max_iter)\n"
     ]
    },
    {
     "name": "stdout",
     "output_type": "stream",
     "text": [
      "training score  : 0.20\n",
      "[5 7 2 ... 7 0 7]\n",
      "--- min 0 and max 7\n",
      "accuracy is 12.11%\n",
      "\n",
      "shape of current confusion_matrix of current fold 9 is [[27 27 28 10 47 28 11 24]\n",
      " [25 26 27 16 56 38 12 28]\n",
      " [31 26 23 18 56 36 14 43]\n",
      " [33 29 18 22 56 51 16 30]\n",
      " [27 32 33 21 51 48 18 33]\n",
      " [29 24 31 16 63 41 17 41]\n",
      " [28 21 31 16 57 43 12 43]\n",
      " [32 18 20 10 33 35 16 28]]\n",
      "(17100, 61440) (17100,)\n",
      "(1900, 61440) (1900,)\n"
     ]
    },
    {
     "name": "stderr",
     "output_type": "stream",
     "text": [
      "/Users/phunp/opt/anaconda3/envs/py37/lib/python3.7/site-packages/sklearn/neural_network/_multilayer_perceptron.py:471: ConvergenceWarning: lbfgs failed to converge (status=1):\n",
      "STOP: TOTAL NO. of ITERATIONS REACHED LIMIT.\n",
      "\n",
      "Increase the number of iterations (max_iter) or scale the data as shown in:\n",
      "    https://scikit-learn.org/stable/modules/preprocessing.html\n",
      "  self.n_iter_ = _check_optimize_result(\"lbfgs\", opt_res, self.max_iter)\n"
     ]
    },
    {
     "name": "stdout",
     "output_type": "stream",
     "text": [
      "training score  : 0.20\n",
      "[2 0 2 ... 6 5 2]\n",
      "--- min 0 and max 7\n",
      "accuracy is 12.42%\n",
      "\n",
      "shape of current confusion_matrix of current fold 10 is [[32 16 37 19 24 28 27 19]\n",
      " [33 15 44 27 28 34 32 14]\n",
      " [41 14 39 43 31 37 30 12]\n",
      " [31 17 38 40 40 46 30 14]\n",
      " [35 17 41 45 27 40 42 16]\n",
      " [40 12 45 38 38 29 34 26]\n",
      " [28 16 38 40 33 39 42 15]\n",
      " [26 12 24 18 32 36 32 12]]\n",
      "Average Accuracy: 12.51% +/- 0.6% SD\n",
      "[array([[13, 23, 33, 24, 30, 30, 29, 20],\n",
      "       [10, 27, 37, 23, 39, 21, 48, 22],\n",
      "       [ 7, 43, 37, 18, 34, 43, 39, 26],\n",
      "       [15, 39, 37, 34, 34, 30, 38, 28],\n",
      "       [16, 32, 39, 18, 50, 41, 47, 20],\n",
      "       [ 6, 26, 33, 22, 64, 38, 50, 23],\n",
      "       [12, 38, 31, 17, 46, 35, 50, 22],\n",
      "       [ 9, 23, 17, 23, 31, 33, 41, 16]]), array([[11, 26, 29, 17, 42, 18, 41, 18],\n",
      "       [18, 24, 35, 19, 47, 21, 38, 25],\n",
      "       [14, 21, 29, 27, 57, 30, 37, 32],\n",
      "       [20, 25, 31, 24, 62, 29, 47, 17],\n",
      "       [17, 33, 17, 39, 53, 38, 39, 27],\n",
      "       [ 9, 38, 19, 27, 61, 31, 47, 31],\n",
      "       [ 9, 33, 23, 22, 65, 37, 34, 28],\n",
      "       [14, 21, 19, 15, 37, 28, 38, 20]]), array([[29, 21, 24, 41, 17, 18, 34, 18],\n",
      "       [31, 17, 18, 38, 24, 45, 38, 16],\n",
      "       [27, 21, 30, 41, 38, 37, 30, 23],\n",
      "       [21, 27, 28, 45, 35, 40, 42, 17],\n",
      "       [32, 17, 27, 63, 31, 34, 35, 24],\n",
      "       [17, 25, 28, 57, 33, 32, 41, 30],\n",
      "       [29, 20, 32, 46, 30, 34, 41, 19],\n",
      "       [19, 12, 24, 44, 26, 27, 21, 19]]), array([[17, 28, 23, 16, 36, 35, 33, 14],\n",
      "       [31, 20, 27, 32, 29, 43, 34, 12],\n",
      "       [27, 28, 26, 32, 32, 48, 33, 21],\n",
      "       [25, 20, 30, 40, 39, 45, 38, 18],\n",
      "       [22, 15, 39, 39, 39, 48, 33, 28],\n",
      "       [31, 21, 25, 27, 33, 58, 49, 19],\n",
      "       [23, 15, 30, 38, 40, 50, 30, 24],\n",
      "       [10, 20, 24, 24, 21, 48, 28, 17]]), array([[24, 20, 27, 24, 29, 32, 23, 22],\n",
      "       [22, 20, 29, 26, 39, 43, 29, 20],\n",
      "       [26, 33, 29, 20, 43, 39, 28, 29],\n",
      "       [28, 17, 49, 14, 47, 40, 32, 28],\n",
      "       [24, 23, 35, 23, 43, 34, 45, 36],\n",
      "       [33, 19, 40, 21, 44, 42, 35, 29],\n",
      "       [20, 25, 24, 24, 42, 42, 33, 41],\n",
      "       [15, 17, 25, 13, 31, 35, 32, 24]]), array([[28, 11, 29, 46, 30, 17, 13, 28],\n",
      "       [26,  9, 32, 39, 50, 21, 21, 30],\n",
      "       [28, 12, 28, 35, 50, 32, 22, 39],\n",
      "       [36, 11, 26, 34, 58, 27, 39, 24],\n",
      "       [27, 12, 41, 44, 50, 38, 27, 24],\n",
      "       [27, 13, 34, 44, 52, 33, 28, 32],\n",
      "       [20, 20, 33, 29, 53, 26, 33, 37],\n",
      "       [24, 15, 28, 24, 32, 22, 28, 19]]), array([[24, 25, 42, 14, 52, 17, 26,  2],\n",
      "       [24, 22, 40, 13, 61, 22, 39,  7],\n",
      "       [30, 29, 47, 14, 60, 28, 26, 13],\n",
      "       [27, 21, 57, 17, 56, 28, 42,  7],\n",
      "       [30, 24, 50, 19, 57, 25, 40, 18],\n",
      "       [31, 21, 57, 20, 69, 16, 37, 11],\n",
      "       [32, 24, 40, 18, 58, 34, 35, 10],\n",
      "       [21, 16, 36, 14, 38, 29, 30,  8]]), array([[24, 26, 22, 41, 25, 26, 30,  8],\n",
      "       [37, 14, 21, 43, 15, 41, 41, 16],\n",
      "       [25, 21, 32, 52, 18, 48, 42,  9],\n",
      "       [25, 20, 35, 48, 19, 51, 41, 16],\n",
      "       [24, 19, 41, 66, 24, 41, 38, 10],\n",
      "       [34, 14, 37, 48, 29, 43, 42, 15],\n",
      "       [23, 14, 36, 43, 23, 53, 48, 11],\n",
      "       [24, 13, 28, 31, 13, 40, 36,  7]]), array([[27, 27, 28, 10, 47, 28, 11, 24],\n",
      "       [25, 26, 27, 16, 56, 38, 12, 28],\n",
      "       [31, 26, 23, 18, 56, 36, 14, 43],\n",
      "       [33, 29, 18, 22, 56, 51, 16, 30],\n",
      "       [27, 32, 33, 21, 51, 48, 18, 33],\n",
      "       [29, 24, 31, 16, 63, 41, 17, 41],\n",
      "       [28, 21, 31, 16, 57, 43, 12, 43],\n",
      "       [32, 18, 20, 10, 33, 35, 16, 28]]), array([[32, 16, 37, 19, 24, 28, 27, 19],\n",
      "       [33, 15, 44, 27, 28, 34, 32, 14],\n",
      "       [41, 14, 39, 43, 31, 37, 30, 12],\n",
      "       [31, 17, 38, 40, 40, 46, 30, 14],\n",
      "       [35, 17, 41, 45, 27, 40, 42, 16],\n",
      "       [40, 12, 45, 38, 38, 29, 34, 26],\n",
      "       [28, 16, 38, 40, 33, 39, 42, 15],\n",
      "       [26, 12, 24, 18, 32, 36, 32, 12]])]\n",
      "[[229 223 294 252 332 249 267 173]\n",
      " [257 194 310 276 388 329 332 190]\n",
      " [256 248 320 300 419 378 301 247]\n",
      " [261 226 349 318 446 387 365 199]\n",
      " [254 224 363 377 425 387 364 236]\n",
      " [257 213 349 320 486 363 380 257]\n",
      " [224 226 318 293 447 393 358 250]\n",
      " [194 167 245 216 294 333 302 170]]\n"
     ]
    },
    {
     "ename": "TypeError",
     "evalue": "cannot unpack non-iterable numpy.float64 object",
     "output_type": "error",
     "traceback": [
      "\u001b[0;31m---------------------------------------------------------------------------\u001b[0m",
      "\u001b[0;31mTypeError\u001b[0m                                 Traceback (most recent call last)",
      "\u001b[0;32m<ipython-input-45-b3ce61281796>\u001b[0m in \u001b[0;36m<module>\u001b[0;34m\u001b[0m\n\u001b[1;32m    210\u001b[0m \u001b[0mprint\u001b[0m\u001b[0;34m(\u001b[0m\u001b[0mcm_all\u001b[0m\u001b[0;34m)\u001b[0m \u001b[0;31m# ACC, PPV, TPR, F1, BM\u001b[0m\u001b[0;34m\u001b[0m\u001b[0;34m\u001b[0m\u001b[0m\n\u001b[1;32m    211\u001b[0m \u001b[0;34m\u001b[0m\u001b[0m\n\u001b[0;32m--> 212\u001b[0;31m \u001b[0macc_a\u001b[0m\u001b[0;34m,\u001b[0m \u001b[0mprec_a\u001b[0m\u001b[0;34m,\u001b[0m \u001b[0mrecall_a\u001b[0m\u001b[0;34m,\u001b[0m \u001b[0mf1_a\u001b[0m\u001b[0;34m,\u001b[0m \u001b[0mbm_a\u001b[0m \u001b[0;34m=\u001b[0m \u001b[0mcalculate_bm\u001b[0m\u001b[0;34m(\u001b[0m\u001b[0mcm_all\u001b[0m\u001b[0;34m)\u001b[0m\u001b[0;34m\u001b[0m\u001b[0;34m\u001b[0m\u001b[0m\n\u001b[0m\u001b[1;32m    213\u001b[0m \u001b[0mprint\u001b[0m\u001b[0;34m(\u001b[0m\u001b[0;34m'-- Overall Accuracy      : {0}'\u001b[0m\u001b[0;34m.\u001b[0m\u001b[0mformat\u001b[0m\u001b[0;34m(\u001b[0m\u001b[0mnp\u001b[0m\u001b[0;34m.\u001b[0m\u001b[0mround\u001b[0m\u001b[0;34m(\u001b[0m\u001b[0macc_a\u001b[0m\u001b[0;34m*\u001b[0m\u001b[0;36m100\u001b[0m\u001b[0;34m,\u001b[0m\u001b[0;36m2\u001b[0m\u001b[0;34m)\u001b[0m\u001b[0;34m)\u001b[0m\u001b[0;34m)\u001b[0m\u001b[0;34m\u001b[0m\u001b[0;34m\u001b[0m\u001b[0m\n\u001b[1;32m    214\u001b[0m \u001b[0mprint\u001b[0m\u001b[0;34m(\u001b[0m\u001b[0;34m'-- Overall Precision     : {0}'\u001b[0m\u001b[0;34m.\u001b[0m\u001b[0mformat\u001b[0m\u001b[0;34m(\u001b[0m\u001b[0mnp\u001b[0m\u001b[0;34m.\u001b[0m\u001b[0mround\u001b[0m\u001b[0;34m(\u001b[0m\u001b[0mprec_a\u001b[0m\u001b[0;34m,\u001b[0m\u001b[0;36m2\u001b[0m\u001b[0;34m)\u001b[0m\u001b[0;34m)\u001b[0m\u001b[0;34m)\u001b[0m\u001b[0;34m\u001b[0m\u001b[0;34m\u001b[0m\u001b[0m\n",
      "\u001b[0;31mTypeError\u001b[0m: cannot unpack non-iterable numpy.float64 object"
     ]
    }
   ],
   "source": [
    "# Run K fold\n",
    "import numpy as np\n",
    "import pandas as pd\n",
    "\n",
    "from matplotlib import pyplot as plt\n",
    "\n",
    "import seaborn as sns\n",
    "\n",
    "from sklearn.model_selection import train_test_split\n",
    "from sklearn.neural_network import MLPClassifier\n",
    "from sklearn.datasets import make_blobs\n",
    "from sklearn.datasets import make_circles\n",
    "\n",
    "from sklearn.metrics import confusion_matrix\n",
    "from sklearn.metrics import classification_report\n",
    "from sklearn.metrics import f1_score\n",
    "from sklearn.metrics import accuracy_score\n",
    "\n",
    "from sklearn.model_selection import StratifiedKFold\n",
    "from sklearn import preprocessing\n",
    "\n",
    "### Split into training and testing\n",
    "#\n",
    "# Here we use the `train_test_split` function from the `sklearn.model_selection` module.  The parameter `test_size=0.3` specifies the percentage (30%) of the data to use as test data, `random_state=0` sets the random generator to a specific state, and `stratify=y` is important to maintain the same ratio of class distribution between the train and test splits.\n",
    "#\n",
    "# This is the simplest way to split the data.\n",
    "#\n",
    "# x_train, x_test, y_train, y_test = train_test_split(X, y, test_size=0.3, random_state=0, stratify=y)\n",
    "\n",
    "y = Y\n",
    "\n",
    "kf = StratifiedKFold(n_splits=10, shuffle=True, random_state=2)\n",
    "\n",
    "foldi = 1\n",
    "ac = [] # accuracy_score\n",
    "cr = [] # classification_report\n",
    "cm = [] # confusion_matrix\n",
    "\n",
    "for train_split, test_split in kf.split(X, y):\n",
    "    # print(\"train {} and test {}\".format(train_split, test_split))\n",
    "    x_train = X[train_split]\n",
    "    y_train = y[train_split]\n",
    "\n",
    "    x_test = X[test_split]\n",
    "    y_test = y[test_split]\n",
    "\n",
    "    # converting to float 32bit\n",
    "    # x_train = np.array(x_train).astype(np.float32)\n",
    "    # x_test  = np.array(x_test).astype(np.float32)\n",
    "    # y_train = np.array(y_train).astype(np.float32)\n",
    "    # y_test  = np.array(y_test).astype(np.float32)\n",
    "\n",
    "    # print data split for validation\n",
    "    print(x_train.shape, y_train.shape)\n",
    "    print(x_test.shape, y_test.shape)\n",
    "\n",
    "    # calculate transformation values on the *train* data\n",
    "    scaler = preprocessing.StandardScaler().fit(x_train)\n",
    "\n",
    "    # apply to both the train and test - no leakage\n",
    "    do_normalize = True # change this to True or False to see the affect of normalization\n",
    "    # if (do_normalize):\n",
    "    #   x_train_scaled = scaler.transform(x_train)\n",
    "    #   x_test_scaled  = scaler.transform(x_test)\n",
    "    # else:\n",
    "    #   x_train_scaled = x_train \n",
    "    #   x_test_scaled  = x_test\n",
    "\n",
    "    # #converting to float 32bit\n",
    "    # x_train_scaled = np.array(x_train_scaled).astype(np.float32)\n",
    "    # x_test_scaled  = np.array(x_test_scaled).astype(np.float32)\n",
    "    # y_train = np.array(y_train).astype(np.float32)\n",
    "    # y_test  = np.array(y_test).astype(np.float32)\n",
    "    if (do_normalize):\n",
    "        # normalise features\n",
    "        input_std = StandardScaler()\n",
    "        input_std.fit(Xtrain)\n",
    "        x_train_scaled = input_std.transform(x_train)\n",
    "        x_test_scaled = input_std.transform(x_test)\n",
    "\n",
    "    # do the PCA, choose the numbher of components to retain\n",
    "    input_pca = PCA(n_components=50, whiten=True)\n",
    "    input_pca.fit(x_train_scaled)\n",
    "    x_train_scaled = input_pca.transform(x_train_scaled)\n",
    "    x_test_scaled = input_pca.transform(x_test_scaled)\n",
    "\n",
    "    ### Set up the model\n",
    "    #\n",
    "    # Setting up the model is where we can change settings and evaluate the affect on performance.  You can change settings such as\n",
    "    # - `hidden_layer_sizes`: fewer nodes means less to optimize and quicker training, but too few nodes cannot model more complex problems.  How does it go with 1, 2, 3, 5, 10, more?\n",
    "    # - `max_iter`: the number of iterations to train for.  Too many will take too long, but too few and the MLP may stop before it converges.  What's the smallest max_iter to get 'good' performance?\n",
    "    #\n",
    "    # Have a look at the [documentation for the MLPClassifier](https://scikit-learn.org/stable/modules/generated/sklearn.neural_network.MLPClassifier.html) to see what the different parameters do to the learning.\n",
    "\n",
    "    # model initialization\n",
    "    hidden_layer_size = 20\n",
    "    max_iter = 2000\n",
    "    mlp = MLPClassifier(hidden_layer_sizes=(hidden_layer_size), max_iter=max_iter, alpha=0.01, #try change hidden layer, or max_iter\n",
    "                    solver='lbfgs', verbose=0, tol=0.000001, #try verbode=0 to train with out logging\n",
    "                    early_stopping=False, momentum=0.9, \n",
    "                    learning_rate='constant', max_fun=15000) \n",
    "\n",
    "    ### Train the Model\n",
    "    # The function call to `fit` trains the model using the training data.  \n",
    "    h = mlp.fit(x_train_scaled,y_train)\n",
    "\n",
    "    print('training score  : {:.2f}'.format(h.score(x_train_scaled,y_train)))\n",
    "    if (h.early_stopping): \n",
    "        print('validation score: {:.2f}'.format(h.best_validation_score_))\n",
    "\n",
    "    # evaluate the model\n",
    "    # y_prob = mlp.predict_proba(x_test_scaled)\n",
    "    y_prob = mlp.predict(x_test_scaled)\n",
    "    y_pred = y_prob\n",
    "    print(y_prob)\n",
    "    # y_pred = (y_pred == y_pred.max(axis=1)[:,None]).astype(int)\n",
    "    print('--- min {} and max {}'.format(np.min(y_pred), np.max(y_pred)))\n",
    "\n",
    "    # y_test_max = y_test.argmax(axis=1).astype(int)\n",
    "    # y_test_max = y_test\n",
    "    # print('y_test {} -> y_test_max {}'.format(y_test, y_test_max))\n",
    "    # y_pred_max = y_pred.argmax(axis=1).astype(int)\n",
    "    # print('--- content of y_test_max: {0}, y_pred_max: {1}'.format(y_test_max, y_pred_max))\n",
    "\n",
    "    ac.append(accuracy_score(y_test,y_pred))\n",
    "    print('accuracy is {:.2f}%'.format(ac[-1]*100)) # Print accuracy score\n",
    "    print()\n",
    "    cr.append(classification_report(y_test,y_pred)) # Print summary report\n",
    "    print('shape of current confusion_matrix of current fold {0} is {1}'.format(foldi, confusion_matrix(y_test, y_pred)))\n",
    "    cm.append(confusion_matrix(y_test, y_pred))\n",
    "\n",
    "    foldi = foldi + 1\n",
    "\n",
    "    ### Plot a loss curve\n",
    "    # The loss curve shows the history of how the training progressed.\n",
    "    # plt.plot(h.loss_curve_)\n",
    "    # plt.title('Loss History for ' + data_name)\n",
    "    # plt.xlabel('epoch')\n",
    "    # plt.legend(['Loss'])\n",
    "\n",
    "\n",
    "    ## Evaluate the performance of the classifier\n",
    "    # Let's have a look at predicting the first 10 instances in the test data set.  How did it do?  How many matches?\n",
    "    # print('predictions: {0}'.format(mlp.predict(x_test[0:10,:])))\n",
    "    # print('acutal     : {0}'.format(np.ravel(y_test)[0:10]))\n",
    "\n",
    "    # # Calculate evaluation measures\n",
    "    # print()\n",
    "    # print('Evaluation of hidden_layer_size: {}, max_iter: {}'.format(hidden_layer_size, max_iter))\n",
    "    # print()\n",
    "    # y_pred = mlp.predict(x_test)\n",
    "    # cm = confusion_matrix(y_test, y_pred,normalize=None)\n",
    "    # cms.append(cm)\n",
    "    # cr = classification_report(y_test,y_pred)\n",
    "    # crs.append(cr)\n",
    "    # print(cr)\n",
    "    # f1 = f1_score(y_test, y_pred,average='weighted')\n",
    "    # f1s.append(f1)\n",
    "    # cm = confusion_matrix(y_test, y_pred)\n",
    "    # bm = calculate_bm(cm)\n",
    "    # bms.append(bm)\n",
    "    # print(cm)\n",
    "    # print('Bookmaker for {0} is {1:.2f}'.format(data_name,bm))\n",
    "\n",
    "    # # Create a confusion matrx using the function `confusion_matrix` and plot using seaborn\n",
    "    # df_cm = pd.DataFrame(cm, columns=['0','1'], index=['0','1'])\n",
    "    # fig, ax1 = plt.subplots(1,1, figsize=(10,8))\n",
    "    # ax = sns.heatmap(df_cm, annot=True, ax=ax1, square=True,  cmap=\"YlGnBu\", fmt='d')\n",
    "    # ax.set_title('Confusion Matrix with {1} nodes, bm = {2:.2f}'.format(data_name,hidden_layer_size,bm))\n",
    "    # ax.set_xlabel('predicted')\n",
    "    # ax.set_ylabel('actual')\n",
    "\n",
    "\n",
    "####### evaluated from Evaluating Machine Learning\n",
    "print('Average Accuracy: {0}% +/- {1}% SD'.format(np.round(np.mean(ac)*100,2),np.round(np.std(ac)*100,2)))\n",
    "\n",
    "def precision(label, confusion_matrix):\n",
    "    col = confusion_matrix[:, label]\n",
    "    return confusion_matrix[label, label] / col.sum()\n",
    "    \n",
    "def recall(label, confusion_matrix):\n",
    "    row = confusion_matrix[label, :]\n",
    "    return confusion_matrix[label, label] / row.sum()\n",
    "\n",
    "def precision_macro_average(confusion_matrix):\n",
    "    rows, columns = confusion_matrix.shape\n",
    "    sum_of_precisions = 0\n",
    "    for label in range(rows):\n",
    "        sum_of_precisions += precision(label, confusion_matrix)\n",
    "    return sum_of_precisions / rows\n",
    "\n",
    "def recall_macro_average(confusion_matrix):\n",
    "    rows, columns = confusion_matrix.shape\n",
    "    sum_of_recalls = 0\n",
    "    for label in range(columns):\n",
    "        sum_of_recalls += recall(label, confusion_matrix)\n",
    "    return sum_of_recalls / columns\n",
    "\n",
    "def f1score(confusion_matrix):\n",
    "    precision = precision_macro_average(confusion_matrix)\n",
    "    recall = recall_macro_average(confusion_matrix)\n",
    "    return (2 * recall * precision) / (recall + precision)\n",
    "\n",
    "\n",
    "# print('shape cm {0}'.format(np.shape(cm)))\n",
    "# print('shapeeeee {0}'.format(np.shape(np.stack(cm,axis=2))))\n",
    "\n",
    "print(cm)\n",
    "cm_all = np.sum(np.stack(cm,axis=2),axis=2)\n",
    "print(cm_all) # ACC, PPV, TPR, F1, BM\n",
    "\n",
    "acc_a, prec_a, recall_a, f1_a, bm_a = calculate_bm(cm_all)\n",
    "print('-- Overall Accuracy      : {0}'.format(np.round(acc_a*100,2)))\n",
    "print('-- Overall Precision     : {0}'.format(np.round(prec_a,2)))\n",
    "print('-- Overall Recall        : {0}'.format(np.round(recall_a,2)))\n",
    "print('-- Overall F1-score      : {0}'.format(np.round(f1_a,2)))\n",
    "print('-- Overall Bookmaker     : {0}'.format(np.round(bm_a,2)))\n",
    "\n",
    "print('Old way to calculate: ')\n",
    "acc_all = np.sum(np.diag(cm_all)) / np.sum(cm_all,axis=(0, 1))\n",
    "print('Overall Accuracy       : {0}%'.format(np.round(acc_all*100,2)))\n",
    "\n",
    "print('Overall Macro Precision: {0}%'.format(np.round(precision_macro_average(cm_all)*100,2)))\n",
    "print('Overall Macro Recall   : {0}%'.format(np.round(recall_macro_average(cm_all)*100,2)))\n",
    "print('Overall F1-Score       : {0}'.format(np.round(f1score(cm_all),2)))\n",
    "\n",
    "# for i, label in enumerate(class_labels):\n",
    "#   print('{0}\\t precision: {1}%, recall: {2}%, f1: {3}'.format(label,np.round(precision(i,cm_all)*100,0),np.round(recall(i,cm_all)*100,0),np.round(f1score(cm_all),2)))\n",
    "\n",
    "#df_cm = pd.DataFrame((cm_all/np.sum(cm_all,axis=1)*100), columns=class_labels, index=class_labels)\n",
    "df_cm = pd.DataFrame(cm_all, columns=class_labels, index=class_labels)\n",
    "fig, ax1 = plt.subplots(1,1, figsize=(10,10))\n",
    "sns.heatmap(df_cm, annot=True, ax=ax1,square=True,  cmap=\"YlGnBu\",vmin=0,vmax=500)\n",
    "\n",
    "\n"
   ]
  },
  {
   "cell_type": "code",
   "execution_count": 46,
   "metadata": {
    "id": "YR1K8hgzZdJ2"
   },
   "outputs": [
    {
     "name": "stderr",
     "output_type": "stream",
     "text": [
      "/Users/phunp/opt/anaconda3/envs/py37/lib/python3.7/site-packages/tensorflow/python/framework/dtypes.py:516: FutureWarning: Passing (type, 1) or '1type' as a synonym of type is deprecated; in a future version of numpy, it will be understood as (type, (1,)) / '(1,)type'.\n",
      "  _np_qint8 = np.dtype([(\"qint8\", np.int8, 1)])\n",
      "/Users/phunp/opt/anaconda3/envs/py37/lib/python3.7/site-packages/tensorflow/python/framework/dtypes.py:517: FutureWarning: Passing (type, 1) or '1type' as a synonym of type is deprecated; in a future version of numpy, it will be understood as (type, (1,)) / '(1,)type'.\n",
      "  _np_quint8 = np.dtype([(\"quint8\", np.uint8, 1)])\n",
      "/Users/phunp/opt/anaconda3/envs/py37/lib/python3.7/site-packages/tensorflow/python/framework/dtypes.py:518: FutureWarning: Passing (type, 1) or '1type' as a synonym of type is deprecated; in a future version of numpy, it will be understood as (type, (1,)) / '(1,)type'.\n",
      "  _np_qint16 = np.dtype([(\"qint16\", np.int16, 1)])\n",
      "/Users/phunp/opt/anaconda3/envs/py37/lib/python3.7/site-packages/tensorflow/python/framework/dtypes.py:519: FutureWarning: Passing (type, 1) or '1type' as a synonym of type is deprecated; in a future version of numpy, it will be understood as (type, (1,)) / '(1,)type'.\n",
      "  _np_quint16 = np.dtype([(\"quint16\", np.uint16, 1)])\n",
      "/Users/phunp/opt/anaconda3/envs/py37/lib/python3.7/site-packages/tensorflow/python/framework/dtypes.py:520: FutureWarning: Passing (type, 1) or '1type' as a synonym of type is deprecated; in a future version of numpy, it will be understood as (type, (1,)) / '(1,)type'.\n",
      "  _np_qint32 = np.dtype([(\"qint32\", np.int32, 1)])\n",
      "/Users/phunp/opt/anaconda3/envs/py37/lib/python3.7/site-packages/tensorflow/python/framework/dtypes.py:525: FutureWarning: Passing (type, 1) or '1type' as a synonym of type is deprecated; in a future version of numpy, it will be understood as (type, (1,)) / '(1,)type'.\n",
      "  np_resource = np.dtype([(\"resource\", np.ubyte, 1)])\n",
      "/Users/phunp/opt/anaconda3/envs/py37/lib/python3.7/site-packages/tensorboard/compat/tensorflow_stub/dtypes.py:541: FutureWarning: Passing (type, 1) or '1type' as a synonym of type is deprecated; in a future version of numpy, it will be understood as (type, (1,)) / '(1,)type'.\n",
      "  _np_qint8 = np.dtype([(\"qint8\", np.int8, 1)])\n",
      "/Users/phunp/opt/anaconda3/envs/py37/lib/python3.7/site-packages/tensorboard/compat/tensorflow_stub/dtypes.py:542: FutureWarning: Passing (type, 1) or '1type' as a synonym of type is deprecated; in a future version of numpy, it will be understood as (type, (1,)) / '(1,)type'.\n",
      "  _np_quint8 = np.dtype([(\"quint8\", np.uint8, 1)])\n",
      "/Users/phunp/opt/anaconda3/envs/py37/lib/python3.7/site-packages/tensorboard/compat/tensorflow_stub/dtypes.py:543: FutureWarning: Passing (type, 1) or '1type' as a synonym of type is deprecated; in a future version of numpy, it will be understood as (type, (1,)) / '(1,)type'.\n",
      "  _np_qint16 = np.dtype([(\"qint16\", np.int16, 1)])\n",
      "/Users/phunp/opt/anaconda3/envs/py37/lib/python3.7/site-packages/tensorboard/compat/tensorflow_stub/dtypes.py:544: FutureWarning: Passing (type, 1) or '1type' as a synonym of type is deprecated; in a future version of numpy, it will be understood as (type, (1,)) / '(1,)type'.\n",
      "  _np_quint16 = np.dtype([(\"quint16\", np.uint16, 1)])\n",
      "/Users/phunp/opt/anaconda3/envs/py37/lib/python3.7/site-packages/tensorboard/compat/tensorflow_stub/dtypes.py:545: FutureWarning: Passing (type, 1) or '1type' as a synonym of type is deprecated; in a future version of numpy, it will be understood as (type, (1,)) / '(1,)type'.\n",
      "  _np_qint32 = np.dtype([(\"qint32\", np.int32, 1)])\n",
      "/Users/phunp/opt/anaconda3/envs/py37/lib/python3.7/site-packages/tensorboard/compat/tensorflow_stub/dtypes.py:550: FutureWarning: Passing (type, 1) or '1type' as a synonym of type is deprecated; in a future version of numpy, it will be understood as (type, (1,)) / '(1,)type'.\n",
      "  np_resource = np.dtype([(\"resource\", np.ubyte, 1)])\n"
     ]
    }
   ],
   "source": [
    "# Test with Keras\n",
    "# TensorFlow and tf.keras\n",
    "import tensorflow as tf\n",
    "from tensorflow import keras\n",
    "from tensorflow.keras.layers import Dense, MaxPooling2D, Conv2D\n",
    "from tensorflow.keras import optimizers\n",
    "\n",
    "def build_simple_model(X, y, activation='relu'):\n",
    "\n",
    "    number_of_features = len(X[0])\n",
    "    number_hidden_nodes = 512;\n",
    "    number_of_output = len(y[0])\n",
    "    print('Number of input features: {}'.format(number_of_features))\n",
    "    print('Number of hidden nodes: {}'.format(number_hidden_nodes))\n",
    "    print('Activation Function on hidden layer: {}'.format(activation))\n",
    "    print('Number of out classes: {}'.format(number_of_output))\n",
    "\n",
    "    model = keras.Sequential([\n",
    "        Dense(number_hidden_nodes, activation=activation, input_shape=[number_of_features]),\n",
    "        Dense(number_hidden_nodes/2, activation=activation, input_shape=[number_of_features]),\n",
    "        # Conv2D(32, 3, activation=\"relu\"),\n",
    "        # MaxPooling2D(3),\n",
    "        Dense(number_of_output, activation=tf.nn.sigmoid)\n",
    "    ])\n",
    "\n",
    "    model.compile(optimizer=tf.keras.optimizers.Adam(),\n",
    "                  loss=keras.losses.categorical_crossentropy,\n",
    "                  metrics=[keras.metrics.categorical_crossentropy])\n",
    "    model.summary()\n",
    "    return model\n"
   ]
  },
  {
   "cell_type": "code",
   "execution_count": 69,
   "metadata": {
    "colab": {
     "base_uri": "https://localhost:8080/"
    },
    "id": "3IhbwepjaB5-",
    "outputId": "7e86ca82-8aa6-4a34-f31f-fe5513c21ddb"
   },
   "outputs": [
    {
     "ename": "ValueError",
     "evalue": "Found array with dim 4. StandardScaler expected <= 2.",
     "output_type": "error",
     "traceback": [
      "\u001b[0;31m---------------------------------------------------------------------------\u001b[0m",
      "\u001b[0;31mValueError\u001b[0m                                Traceback (most recent call last)",
      "\u001b[0;32m<ipython-input-69-9edc87845099>\u001b[0m in \u001b[0;36m<module>\u001b[0;34m\u001b[0m\n\u001b[1;32m     10\u001b[0m \u001b[0;31m# normalise features\u001b[0m\u001b[0;34m\u001b[0m\u001b[0;34m\u001b[0m\u001b[0;34m\u001b[0m\u001b[0m\n\u001b[1;32m     11\u001b[0m \u001b[0minput_std\u001b[0m \u001b[0;34m=\u001b[0m \u001b[0mStandardScaler\u001b[0m\u001b[0;34m(\u001b[0m\u001b[0;34m)\u001b[0m\u001b[0;34m\u001b[0m\u001b[0;34m\u001b[0m\u001b[0m\n\u001b[0;32m---> 12\u001b[0;31m \u001b[0minput_std\u001b[0m\u001b[0;34m.\u001b[0m\u001b[0mfit\u001b[0m\u001b[0;34m(\u001b[0m\u001b[0mXtrain\u001b[0m\u001b[0;34m)\u001b[0m\u001b[0;34m\u001b[0m\u001b[0;34m\u001b[0m\u001b[0m\n\u001b[0m\u001b[1;32m     13\u001b[0m \u001b[0mXtrain_std\u001b[0m \u001b[0;34m=\u001b[0m \u001b[0minput_std\u001b[0m\u001b[0;34m.\u001b[0m\u001b[0mtransform\u001b[0m\u001b[0;34m(\u001b[0m\u001b[0mXtrain\u001b[0m\u001b[0;34m)\u001b[0m\u001b[0;34m\u001b[0m\u001b[0;34m\u001b[0m\u001b[0m\n\u001b[1;32m     14\u001b[0m \u001b[0mXtest_std\u001b[0m \u001b[0;34m=\u001b[0m \u001b[0minput_std\u001b[0m\u001b[0;34m.\u001b[0m\u001b[0mtransform\u001b[0m\u001b[0;34m(\u001b[0m\u001b[0mXtest\u001b[0m\u001b[0;34m)\u001b[0m\u001b[0;34m\u001b[0m\u001b[0;34m\u001b[0m\u001b[0m\n",
      "\u001b[0;32m~/opt/anaconda3/envs/py37/lib/python3.7/site-packages/sklearn/preprocessing/_data.py\u001b[0m in \u001b[0;36mfit\u001b[0;34m(self, X, y)\u001b[0m\n\u001b[1;32m    665\u001b[0m         \u001b[0;31m# Reset internal state before fitting\u001b[0m\u001b[0;34m\u001b[0m\u001b[0;34m\u001b[0m\u001b[0;34m\u001b[0m\u001b[0m\n\u001b[1;32m    666\u001b[0m         \u001b[0mself\u001b[0m\u001b[0;34m.\u001b[0m\u001b[0m_reset\u001b[0m\u001b[0;34m(\u001b[0m\u001b[0;34m)\u001b[0m\u001b[0;34m\u001b[0m\u001b[0;34m\u001b[0m\u001b[0m\n\u001b[0;32m--> 667\u001b[0;31m         \u001b[0;32mreturn\u001b[0m \u001b[0mself\u001b[0m\u001b[0;34m.\u001b[0m\u001b[0mpartial_fit\u001b[0m\u001b[0;34m(\u001b[0m\u001b[0mX\u001b[0m\u001b[0;34m,\u001b[0m \u001b[0my\u001b[0m\u001b[0;34m)\u001b[0m\u001b[0;34m\u001b[0m\u001b[0;34m\u001b[0m\u001b[0m\n\u001b[0m\u001b[1;32m    668\u001b[0m \u001b[0;34m\u001b[0m\u001b[0m\n\u001b[1;32m    669\u001b[0m     \u001b[0;32mdef\u001b[0m \u001b[0mpartial_fit\u001b[0m\u001b[0;34m(\u001b[0m\u001b[0mself\u001b[0m\u001b[0;34m,\u001b[0m \u001b[0mX\u001b[0m\u001b[0;34m,\u001b[0m \u001b[0my\u001b[0m\u001b[0;34m=\u001b[0m\u001b[0;32mNone\u001b[0m\u001b[0;34m)\u001b[0m\u001b[0;34m:\u001b[0m\u001b[0;34m\u001b[0m\u001b[0;34m\u001b[0m\u001b[0m\n",
      "\u001b[0;32m~/opt/anaconda3/envs/py37/lib/python3.7/site-packages/sklearn/preprocessing/_data.py\u001b[0m in \u001b[0;36mpartial_fit\u001b[0;34m(self, X, y)\u001b[0m\n\u001b[1;32m    696\u001b[0m         X = self._validate_data(X, accept_sparse=('csr', 'csc'),\n\u001b[1;32m    697\u001b[0m                                 \u001b[0mestimator\u001b[0m\u001b[0;34m=\u001b[0m\u001b[0mself\u001b[0m\u001b[0;34m,\u001b[0m \u001b[0mdtype\u001b[0m\u001b[0;34m=\u001b[0m\u001b[0mFLOAT_DTYPES\u001b[0m\u001b[0;34m,\u001b[0m\u001b[0;34m\u001b[0m\u001b[0;34m\u001b[0m\u001b[0m\n\u001b[0;32m--> 698\u001b[0;31m                                 force_all_finite='allow-nan')\n\u001b[0m\u001b[1;32m    699\u001b[0m \u001b[0;34m\u001b[0m\u001b[0m\n\u001b[1;32m    700\u001b[0m         \u001b[0;31m# Even in the case of `with_mean=False`, we update the mean anyway\u001b[0m\u001b[0;34m\u001b[0m\u001b[0;34m\u001b[0m\u001b[0;34m\u001b[0m\u001b[0m\n",
      "\u001b[0;32m~/opt/anaconda3/envs/py37/lib/python3.7/site-packages/sklearn/base.py\u001b[0m in \u001b[0;36m_validate_data\u001b[0;34m(self, X, y, reset, validate_separately, **check_params)\u001b[0m\n\u001b[1;32m    418\u001b[0m                     \u001b[0;34mf\"requires y to be passed, but the target y is None.\"\u001b[0m\u001b[0;34m\u001b[0m\u001b[0;34m\u001b[0m\u001b[0m\n\u001b[1;32m    419\u001b[0m                 )\n\u001b[0;32m--> 420\u001b[0;31m             \u001b[0mX\u001b[0m \u001b[0;34m=\u001b[0m \u001b[0mcheck_array\u001b[0m\u001b[0;34m(\u001b[0m\u001b[0mX\u001b[0m\u001b[0;34m,\u001b[0m \u001b[0;34m**\u001b[0m\u001b[0mcheck_params\u001b[0m\u001b[0;34m)\u001b[0m\u001b[0;34m\u001b[0m\u001b[0;34m\u001b[0m\u001b[0m\n\u001b[0m\u001b[1;32m    421\u001b[0m             \u001b[0mout\u001b[0m \u001b[0;34m=\u001b[0m \u001b[0mX\u001b[0m\u001b[0;34m\u001b[0m\u001b[0;34m\u001b[0m\u001b[0m\n\u001b[1;32m    422\u001b[0m         \u001b[0;32melse\u001b[0m\u001b[0;34m:\u001b[0m\u001b[0;34m\u001b[0m\u001b[0;34m\u001b[0m\u001b[0m\n",
      "\u001b[0;32m~/opt/anaconda3/envs/py37/lib/python3.7/site-packages/sklearn/utils/validation.py\u001b[0m in \u001b[0;36minner_f\u001b[0;34m(*args, **kwargs)\u001b[0m\n\u001b[1;32m     70\u001b[0m                           FutureWarning)\n\u001b[1;32m     71\u001b[0m         \u001b[0mkwargs\u001b[0m\u001b[0;34m.\u001b[0m\u001b[0mupdate\u001b[0m\u001b[0;34m(\u001b[0m\u001b[0;34m{\u001b[0m\u001b[0mk\u001b[0m\u001b[0;34m:\u001b[0m \u001b[0marg\u001b[0m \u001b[0;32mfor\u001b[0m \u001b[0mk\u001b[0m\u001b[0;34m,\u001b[0m \u001b[0marg\u001b[0m \u001b[0;32min\u001b[0m \u001b[0mzip\u001b[0m\u001b[0;34m(\u001b[0m\u001b[0msig\u001b[0m\u001b[0;34m.\u001b[0m\u001b[0mparameters\u001b[0m\u001b[0;34m,\u001b[0m \u001b[0margs\u001b[0m\u001b[0;34m)\u001b[0m\u001b[0;34m}\u001b[0m\u001b[0;34m)\u001b[0m\u001b[0;34m\u001b[0m\u001b[0;34m\u001b[0m\u001b[0m\n\u001b[0;32m---> 72\u001b[0;31m         \u001b[0;32mreturn\u001b[0m \u001b[0mf\u001b[0m\u001b[0;34m(\u001b[0m\u001b[0;34m**\u001b[0m\u001b[0mkwargs\u001b[0m\u001b[0;34m)\u001b[0m\u001b[0;34m\u001b[0m\u001b[0;34m\u001b[0m\u001b[0m\n\u001b[0m\u001b[1;32m     73\u001b[0m     \u001b[0;32mreturn\u001b[0m \u001b[0minner_f\u001b[0m\u001b[0;34m\u001b[0m\u001b[0;34m\u001b[0m\u001b[0m\n\u001b[1;32m     74\u001b[0m \u001b[0;34m\u001b[0m\u001b[0m\n",
      "\u001b[0;32m~/opt/anaconda3/envs/py37/lib/python3.7/site-packages/sklearn/utils/validation.py\u001b[0m in \u001b[0;36mcheck_array\u001b[0;34m(array, accept_sparse, accept_large_sparse, dtype, order, copy, force_all_finite, ensure_2d, allow_nd, ensure_min_samples, ensure_min_features, estimator)\u001b[0m\n\u001b[1;32m    639\u001b[0m         \u001b[0;32mif\u001b[0m \u001b[0;32mnot\u001b[0m \u001b[0mallow_nd\u001b[0m \u001b[0;32mand\u001b[0m \u001b[0marray\u001b[0m\u001b[0;34m.\u001b[0m\u001b[0mndim\u001b[0m \u001b[0;34m>=\u001b[0m \u001b[0;36m3\u001b[0m\u001b[0;34m:\u001b[0m\u001b[0;34m\u001b[0m\u001b[0;34m\u001b[0m\u001b[0m\n\u001b[1;32m    640\u001b[0m             raise ValueError(\"Found array with dim %d. %s expected <= 2.\"\n\u001b[0;32m--> 641\u001b[0;31m                              % (array.ndim, estimator_name))\n\u001b[0m\u001b[1;32m    642\u001b[0m \u001b[0;34m\u001b[0m\u001b[0m\n\u001b[1;32m    643\u001b[0m         \u001b[0;32mif\u001b[0m \u001b[0mforce_all_finite\u001b[0m\u001b[0;34m:\u001b[0m\u001b[0;34m\u001b[0m\u001b[0;34m\u001b[0m\u001b[0m\n",
      "\u001b[0;31mValueError\u001b[0m: Found array with dim 4. StandardScaler expected <= 2."
     ]
    }
   ],
   "source": [
    "from sklearn.preprocessing import OneHotEncoder\n",
    "y = Y\n",
    "#update y to one hot encode\n",
    "onehot_encoder = OneHotEncoder(sparse=False)\n",
    "y_encoded = y.reshape(len(y), 1)\n",
    "y1h = onehot_encoder.fit_transform(y_encoded)\n",
    "\n",
    "Xtrain, Xtest, ytrain, ytest = train_test_split(X, y1h,test_size=0.33, random_state=42)\n",
    "# normalise features\n",
    "input_std = StandardScaler()\n",
    "input_std.fit(Xtrain)\n",
    "Xtrain_std = input_std.transform(Xtrain)\n",
    "Xtest_std = input_std.transform(Xtest)\n",
    "\n",
    "# do the PCA, choose the numbher of components to retain\n",
    "input_pca = PCA(n_components=50, whiten=True)\n",
    "input_pca.fit(Xtrain_std)\n",
    "Xtrain_std_pca = input_pca.transform(Xtrain_std)\n",
    "Xtest_std_pca = input_pca.transform(Xtest_std)\n",
    "\n",
    "\n",
    "no_epochs = 50\n",
    "activation = 'relu' # select from [None, 'sigmoid', 'tanh', 'relu']:\n",
    "model = build_simple_model(Xtrain_std_pca, ytrain, activation=activation) \n",
    "\n",
    "\n",
    "print('Training with {0} for {1} epochs'.format(activation, no_epochs))\n",
    "history = model.fit(Xtrain_std_pca, ytrain, epochs=no_epochs, verbose=1)\n",
    "\n",
    "hist = pd.DataFrame(history.history)\n",
    "hist['epoch'] = history.epoch\n",
    "\n",
    "\n",
    "loss_final = np.sqrt(float(hist['loss'].tail(1)))\n",
    "print()\n",
    "print('Final Loss on training set: {}'.format(round(loss_final, 3)))"
   ]
  },
  {
   "cell_type": "code",
   "execution_count": 26,
   "metadata": {},
   "outputs": [],
   "source": [
    "from keras.utils import to_categorical\n",
    "from keras import backend as K\n",
    "from keras.layers import Dense, Dropout,Flatten\n",
    "from keras.layers.convolutional import Conv2D, MaxPooling2D\n",
    "from keras.models import Sequential\n",
    "from keras.layers import Dropout\n",
    "from keras.layers.core import Activation\n",
    "from keras.optimizers import SGD\n",
    "\n",
    "def build_cnn_model(X, y):\n",
    "    # construct model\n",
    "#     X = X.reshape((-1, 160, 128, 3))\n",
    "    number_of_features = len(X[0])\n",
    "    shape = (160,128,3)\n",
    "    model = Sequential()\n",
    "    model.add(Conv2D(32, kernel_size=(3,3), padding = 'same',activation = 'relu', input_shape = shape))\n",
    "    model.add(MaxPooling2D((2,2)))\n",
    "\n",
    "    model.add(Conv2D(64, kernel_size = (3,3), padding = 'same', activation = 'relu'))\n",
    "    model.add(MaxPooling2D(2,2))\n",
    "\n",
    "#     model.add(Conv2D(128, kernel_size = (3,3), padding = 'same', activation = 'relu'))\n",
    "#     model.add(MaxPooling2D(2,2))\n",
    "#     model.add(Dropout(0.3))\n",
    "\n",
    "    model.add(Flatten())\n",
    "#     model.add(Dense(128,activation = 'relu'))\n",
    "    model.add(Dense(64,activation = 'relu'))\n",
    "    model.add(Dense(16,activation = 'relu'))\n",
    "    model.add(Dense(2,activation = 'softmax')) # softmax. linear\n",
    "\n",
    "    opt = SGD(lr=0.001)\n",
    "#     model.compile(optimizer='adam', loss='categorical_crossentropy', metrics=['accuracy'])\n",
    "    model.compile(optimizer=opt, loss='categorical_crossentropy', metrics=['accuracy'])\n",
    "    model.summary()\n",
    "\n",
    "    return model\n",
    "\n",
    "    # train model\n",
    "#     h=model.fit(train, labels, validation_split = 0.2, epochs = 10, batch_size = 64)\n",
    "\n",
    "    # save model to file\n",
    "    # model.save(\"./saved-model/mnist_data_model\")"
   ]
  },
  {
   "cell_type": "code",
   "execution_count": 36,
   "metadata": {},
   "outputs": [
    {
     "name": "stdout",
     "output_type": "stream",
     "text": [
      "(7705, 1000)\n",
      "(7705, 61440)\n",
      "(11500, 61440)\n",
      "[0 1 2 3 4]\n",
      "(11500, 5)\n"
     ]
    }
   ],
   "source": [
    "print(Xtrain_std_pca.shape)\n",
    "print(Xtrain_std.shape)\n",
    "print(X.shape)\n",
    "print(np.unique(Y))\n",
    "y = Y\n",
    "y = to_categorical(y)\n",
    "print(y.shape)"
   ]
  },
  {
   "cell_type": "code",
   "execution_count": 27,
   "metadata": {
    "scrolled": true
   },
   "outputs": [
    {
     "name": "stdout",
     "output_type": "stream",
     "text": [
      "Model: \"sequential_3\"\n",
      "_________________________________________________________________\n",
      "Layer (type)                 Output Shape              Param #   \n",
      "=================================================================\n",
      "conv2d_7 (Conv2D)            (None, 160, 128, 32)      896       \n",
      "_________________________________________________________________\n",
      "max_pooling2d_7 (MaxPooling2 (None, 80, 64, 32)        0         \n",
      "_________________________________________________________________\n",
      "conv2d_8 (Conv2D)            (None, 80, 64, 64)        18496     \n",
      "_________________________________________________________________\n",
      "max_pooling2d_8 (MaxPooling2 (None, 40, 32, 64)        0         \n",
      "_________________________________________________________________\n",
      "flatten_3 (Flatten)          (None, 81920)             0         \n",
      "_________________________________________________________________\n",
      "dense_7 (Dense)              (None, 64)                5242944   \n",
      "_________________________________________________________________\n",
      "dense_8 (Dense)              (None, 16)                1040      \n",
      "_________________________________________________________________\n",
      "dense_9 (Dense)              (None, 2)                 34        \n",
      "=================================================================\n",
      "Total params: 5,263,410\n",
      "Trainable params: 5,263,410\n",
      "Non-trainable params: 0\n",
      "_________________________________________________________________\n",
      "Training with activation for 20 epochs\n",
      "WARNING:tensorflow:From /Users/phunp/opt/anaconda3/envs/py37/lib/python3.7/site-packages/keras/backend/tensorflow_backend.py:422: The name tf.global_variables is deprecated. Please use tf.compat.v1.global_variables instead.\n",
      "\n",
      "Train on 1885 samples, validate on 472 samples\n",
      "Epoch 1/20\n",
      "1885/1885 [==============================] - 16s 8ms/step - loss: 0.5871 - accuracy: 0.7072 - val_loss: 0.5105 - val_accuracy: 0.7394\n",
      "Epoch 2/20\n",
      "1885/1885 [==============================] - 15s 8ms/step - loss: 0.4848 - accuracy: 0.7703 - val_loss: 0.4768 - val_accuracy: 0.7542\n",
      "Epoch 3/20\n",
      "1885/1885 [==============================] - 16s 9ms/step - loss: 0.4207 - accuracy: 0.8095 - val_loss: 0.4821 - val_accuracy: 0.7691\n",
      "Epoch 4/20\n",
      "1885/1885 [==============================] - 15s 8ms/step - loss: 0.3966 - accuracy: 0.8175 - val_loss: 0.4399 - val_accuracy: 0.7733\n",
      "Epoch 5/20\n",
      "1885/1885 [==============================] - 15s 8ms/step - loss: 0.3701 - accuracy: 0.8345 - val_loss: 0.4511 - val_accuracy: 0.7818\n",
      "Epoch 6/20\n",
      "1885/1885 [==============================] - 15s 8ms/step - loss: 0.3593 - accuracy: 0.8414 - val_loss: 0.4287 - val_accuracy: 0.7945\n",
      "Epoch 7/20\n",
      "1885/1885 [==============================] - 15s 8ms/step - loss: 0.3461 - accuracy: 0.8430 - val_loss: 0.4206 - val_accuracy: 0.8008\n",
      "Epoch 8/20\n",
      "1885/1885 [==============================] - 15s 8ms/step - loss: 0.3326 - accuracy: 0.8536 - val_loss: 0.4432 - val_accuracy: 0.7860\n",
      "Epoch 9/20\n",
      "1885/1885 [==============================] - 15s 8ms/step - loss: 0.3192 - accuracy: 0.8621 - val_loss: 0.4259 - val_accuracy: 0.7987\n",
      "Epoch 10/20\n",
      "1885/1885 [==============================] - 15s 8ms/step - loss: 0.3091 - accuracy: 0.8684 - val_loss: 0.4181 - val_accuracy: 0.7966\n",
      "Epoch 11/20\n",
      "1885/1885 [==============================] - 15s 8ms/step - loss: 0.3028 - accuracy: 0.8743 - val_loss: 0.4160 - val_accuracy: 0.8093\n",
      "Epoch 12/20\n",
      "1885/1885 [==============================] - 17s 9ms/step - loss: 0.2844 - accuracy: 0.8775 - val_loss: 0.4241 - val_accuracy: 0.8072\n",
      "Epoch 13/20\n",
      "1885/1885 [==============================] - 15s 8ms/step - loss: 0.2819 - accuracy: 0.8806 - val_loss: 0.4149 - val_accuracy: 0.8136\n",
      "Epoch 14/20\n",
      "1885/1885 [==============================] - 15s 8ms/step - loss: 0.2672 - accuracy: 0.8912 - val_loss: 0.4064 - val_accuracy: 0.8114\n",
      "Epoch 15/20\n",
      "1885/1885 [==============================] - 16s 9ms/step - loss: 0.2578 - accuracy: 0.8923 - val_loss: 0.4597 - val_accuracy: 0.7987\n",
      "Epoch 16/20\n",
      "1885/1885 [==============================] - 19s 10ms/step - loss: 0.2654 - accuracy: 0.8923 - val_loss: 0.4164 - val_accuracy: 0.8114\n",
      "Epoch 17/20\n",
      "1885/1885 [==============================] - 17s 9ms/step - loss: 0.2519 - accuracy: 0.8934 - val_loss: 0.3964 - val_accuracy: 0.8305\n",
      "Epoch 18/20\n",
      "1885/1885 [==============================] - 17s 9ms/step - loss: 0.2528 - accuracy: 0.8987 - val_loss: 0.4110 - val_accuracy: 0.8072\n",
      "Epoch 19/20\n",
      "1885/1885 [==============================] - 15s 8ms/step - loss: 0.2457 - accuracy: 0.9061 - val_loss: 0.4084 - val_accuracy: 0.8072\n",
      "Epoch 20/20\n",
      "1885/1885 [==============================] - 15s 8ms/step - loss: 0.2283 - accuracy: 0.9077 - val_loss: 0.4310 - val_accuracy: 0.8242\n",
      "\n",
      "Final Loss on training set: 0.478\n"
     ]
    }
   ],
   "source": [
    "from sklearn.preprocessing import OneHotEncoder\n",
    "from keras.utils import to_categorical\n",
    "from sklearn.model_selection import train_test_split\n",
    "\n",
    "y = Y\n",
    "XX = X\n",
    "# XX = X/255\n",
    "# XX = XX.reshape((11500,160,128,3))\n",
    "\n",
    "\n",
    "#update y to one hot encode\n",
    "onehot_encoder = OneHotEncoder(sparse=False)\n",
    "y_encoded = y.reshape(len(y), 1)\n",
    "y1h = onehot_encoder.fit_transform(y_encoded)\n",
    "# y = to_categorical(y)\n",
    "\n",
    "Xtrain, Xtest, ytrain, ytest = train_test_split(XX, y1h, test_size=0.3, random_state=42, stratify=y)\n",
    "# normalise features\n",
    "input_std = StandardScaler()\n",
    "input_std.fit(Xtrain)\n",
    "Xtrain_std = input_std.transform(Xtrain)\n",
    "Xtest_std = input_std.transform(Xtest)\n",
    "\n",
    "# do the PCA, choose the numbher of components to retain\n",
    "# input_pca = PCA(n_components=1000, whiten=True)\n",
    "# input_pca.fit(Xtrain_std)\n",
    "# Xtrain_std_pca = input_pca.transform(Xtrain_std)\n",
    "# Xtest_std_pca = input_pca.transform(Xtest_std)\n",
    "\n",
    "Xtrain_std = Xtrain_std.reshape((-1, 160, 128, 3))\n",
    "Xtest_std = Xtest_std.reshape((-1, 160, 128, 3))\n",
    "\n",
    "\n",
    "no_epochs = 20\n",
    "# activation = 'sigmoid' # select from [None, 'sigmoid', 'tanh', 'relu']:\n",
    "# model_cnn = build_cnn_model(Xtrain, ytrain) \n",
    "model_cnn = build_cnn_model(Xtrain_std, ytrain) \n",
    "\n",
    "\n",
    "print('Training with {0} for {1} epochs'.format(\"activation\", no_epochs))\n",
    "history = model_cnn.fit(Xtrain_std, ytrain, validation_split = 0.2, epochs=no_epochs, verbose=1)\n",
    "\n",
    "hist = pd.DataFrame(history.history)\n",
    "hist['epoch'] = history.epoch\n",
    "\n",
    "\n",
    "loss_final = np.sqrt(float(hist['loss'].tail(1)))\n",
    "print()\n",
    "print('Final Loss on training set: {}'.format(round(loss_final, 3)))"
   ]
  },
  {
   "cell_type": "code",
   "execution_count": 28,
   "metadata": {},
   "outputs": [
    {
     "name": "stdout",
     "output_type": "stream",
     "text": [
      "(3368, 61440)\n",
      "(3368,)\n",
      "1.0\n",
      "(160, 128, 3)\n",
      "Model: \"sequential_3\"\n",
      "_________________________________________________________________\n",
      "Layer (type)                 Output Shape              Param #   \n",
      "=================================================================\n",
      "conv2d_7 (Conv2D)            (None, 160, 128, 32)      896       \n",
      "_________________________________________________________________\n",
      "max_pooling2d_7 (MaxPooling2 (None, 80, 64, 32)        0         \n",
      "_________________________________________________________________\n",
      "conv2d_8 (Conv2D)            (None, 80, 64, 64)        18496     \n",
      "_________________________________________________________________\n",
      "max_pooling2d_8 (MaxPooling2 (None, 40, 32, 64)        0         \n",
      "_________________________________________________________________\n",
      "flatten_3 (Flatten)          (None, 81920)             0         \n",
      "_________________________________________________________________\n",
      "dense_7 (Dense)              (None, 64)                5242944   \n",
      "_________________________________________________________________\n",
      "dense_8 (Dense)              (None, 16)                1040      \n",
      "_________________________________________________________________\n",
      "dense_9 (Dense)              (None, 2)                 34        \n",
      "=================================================================\n",
      "Total params: 5,263,410\n",
      "Trainable params: 5,263,410\n",
      "Non-trainable params: 0\n",
      "_________________________________________________________________\n"
     ]
    },
    {
     "data": {
      "image/png": "[encoded data removed]",
      "text/plain": [
       "<Figure size 432x288 with 1 Axes>"
      ]
     },
     "metadata": {
      "needs_background": "light"
     },
     "output_type": "display_data"
    }
   ],
   "source": [
    "%matplotlib inline \n",
    "from matplotlib import pyplot as plt # this lets you draw inline pictures in the notebooks\n",
    "\n",
    "print(X.shape)\n",
    "print(y.shape)\n",
    "\n",
    "print(np.min(X[2000]))\n",
    "testOne = X[1005]/255\n",
    "testOne = testOne.reshape(160, 128, 3)\n",
    "# testOne = cv2.cvtColor(testOne, cv2.COLOR_BGR2RGB)\n",
    "print(testOne.shape)\n",
    "\n",
    "plt.imshow(testOne)\n",
    "\n",
    "model_cnn.summary()\n"
   ]
  },
  {
   "cell_type": "code",
   "execution_count": 29,
   "metadata": {
    "colab": {
     "base_uri": "https://localhost:8080/",
     "height": 647
    },
    "id": "T9ijI40reb35",
    "outputId": "72289f73-0a8d-4e73-b5f0-3a40ee828df1"
   },
   "outputs": [
    {
     "data": {
      "text/html": [
       "<div>\n",
       "<style scoped>\n",
       "    .dataframe tbody tr th:only-of-type {\n",
       "        vertical-align: middle;\n",
       "    }\n",
       "\n",
       "    .dataframe tbody tr th {\n",
       "        vertical-align: top;\n",
       "    }\n",
       "\n",
       "    .dataframe thead th {\n",
       "        text-align: right;\n",
       "    }\n",
       "</style>\n",
       "<table border=\"1\" class=\"dataframe\">\n",
       "  <thead>\n",
       "    <tr style=\"text-align: right;\">\n",
       "      <th></th>\n",
       "      <th>val_loss</th>\n",
       "      <th>val_accuracy</th>\n",
       "      <th>loss</th>\n",
       "      <th>accuracy</th>\n",
       "      <th>epoch</th>\n",
       "    </tr>\n",
       "  </thead>\n",
       "  <tbody>\n",
       "    <tr>\n",
       "      <th>0</th>\n",
       "      <td>0.510522</td>\n",
       "      <td>0.739407</td>\n",
       "      <td>0.587055</td>\n",
       "      <td>0.707162</td>\n",
       "      <td>0</td>\n",
       "    </tr>\n",
       "    <tr>\n",
       "      <th>1</th>\n",
       "      <td>0.476839</td>\n",
       "      <td>0.754237</td>\n",
       "      <td>0.484798</td>\n",
       "      <td>0.770292</td>\n",
       "      <td>1</td>\n",
       "    </tr>\n",
       "    <tr>\n",
       "      <th>2</th>\n",
       "      <td>0.482128</td>\n",
       "      <td>0.769068</td>\n",
       "      <td>0.420725</td>\n",
       "      <td>0.809549</td>\n",
       "      <td>2</td>\n",
       "    </tr>\n",
       "    <tr>\n",
       "      <th>3</th>\n",
       "      <td>0.439883</td>\n",
       "      <td>0.773305</td>\n",
       "      <td>0.396576</td>\n",
       "      <td>0.817507</td>\n",
       "      <td>3</td>\n",
       "    </tr>\n",
       "    <tr>\n",
       "      <th>4</th>\n",
       "      <td>0.451123</td>\n",
       "      <td>0.781780</td>\n",
       "      <td>0.370114</td>\n",
       "      <td>0.834483</td>\n",
       "      <td>4</td>\n",
       "    </tr>\n",
       "    <tr>\n",
       "      <th>5</th>\n",
       "      <td>0.428743</td>\n",
       "      <td>0.794492</td>\n",
       "      <td>0.359279</td>\n",
       "      <td>0.841379</td>\n",
       "      <td>5</td>\n",
       "    </tr>\n",
       "    <tr>\n",
       "      <th>6</th>\n",
       "      <td>0.420634</td>\n",
       "      <td>0.800847</td>\n",
       "      <td>0.346050</td>\n",
       "      <td>0.842971</td>\n",
       "      <td>6</td>\n",
       "    </tr>\n",
       "    <tr>\n",
       "      <th>7</th>\n",
       "      <td>0.443235</td>\n",
       "      <td>0.786017</td>\n",
       "      <td>0.332629</td>\n",
       "      <td>0.853581</td>\n",
       "      <td>7</td>\n",
       "    </tr>\n",
       "    <tr>\n",
       "      <th>8</th>\n",
       "      <td>0.425871</td>\n",
       "      <td>0.798729</td>\n",
       "      <td>0.319175</td>\n",
       "      <td>0.862069</td>\n",
       "      <td>8</td>\n",
       "    </tr>\n",
       "    <tr>\n",
       "      <th>9</th>\n",
       "      <td>0.418083</td>\n",
       "      <td>0.796610</td>\n",
       "      <td>0.309097</td>\n",
       "      <td>0.868435</td>\n",
       "      <td>9</td>\n",
       "    </tr>\n",
       "    <tr>\n",
       "      <th>10</th>\n",
       "      <td>0.415976</td>\n",
       "      <td>0.809322</td>\n",
       "      <td>0.302823</td>\n",
       "      <td>0.874271</td>\n",
       "      <td>10</td>\n",
       "    </tr>\n",
       "    <tr>\n",
       "      <th>11</th>\n",
       "      <td>0.424094</td>\n",
       "      <td>0.807203</td>\n",
       "      <td>0.284436</td>\n",
       "      <td>0.877454</td>\n",
       "      <td>11</td>\n",
       "    </tr>\n",
       "    <tr>\n",
       "      <th>12</th>\n",
       "      <td>0.414875</td>\n",
       "      <td>0.813559</td>\n",
       "      <td>0.281852</td>\n",
       "      <td>0.880637</td>\n",
       "      <td>12</td>\n",
       "    </tr>\n",
       "    <tr>\n",
       "      <th>13</th>\n",
       "      <td>0.406433</td>\n",
       "      <td>0.811441</td>\n",
       "      <td>0.267204</td>\n",
       "      <td>0.891247</td>\n",
       "      <td>13</td>\n",
       "    </tr>\n",
       "    <tr>\n",
       "      <th>14</th>\n",
       "      <td>0.459721</td>\n",
       "      <td>0.798729</td>\n",
       "      <td>0.257841</td>\n",
       "      <td>0.892308</td>\n",
       "      <td>14</td>\n",
       "    </tr>\n",
       "    <tr>\n",
       "      <th>15</th>\n",
       "      <td>0.416447</td>\n",
       "      <td>0.811441</td>\n",
       "      <td>0.265415</td>\n",
       "      <td>0.892308</td>\n",
       "      <td>15</td>\n",
       "    </tr>\n",
       "    <tr>\n",
       "      <th>16</th>\n",
       "      <td>0.396413</td>\n",
       "      <td>0.830508</td>\n",
       "      <td>0.251876</td>\n",
       "      <td>0.893369</td>\n",
       "      <td>16</td>\n",
       "    </tr>\n",
       "    <tr>\n",
       "      <th>17</th>\n",
       "      <td>0.411034</td>\n",
       "      <td>0.807203</td>\n",
       "      <td>0.252836</td>\n",
       "      <td>0.898674</td>\n",
       "      <td>17</td>\n",
       "    </tr>\n",
       "    <tr>\n",
       "      <th>18</th>\n",
       "      <td>0.408353</td>\n",
       "      <td>0.807203</td>\n",
       "      <td>0.245715</td>\n",
       "      <td>0.906101</td>\n",
       "      <td>18</td>\n",
       "    </tr>\n",
       "    <tr>\n",
       "      <th>19</th>\n",
       "      <td>0.431018</td>\n",
       "      <td>0.824153</td>\n",
       "      <td>0.228293</td>\n",
       "      <td>0.907692</td>\n",
       "      <td>19</td>\n",
       "    </tr>\n",
       "  </tbody>\n",
       "</table>\n",
       "</div>"
      ],
      "text/plain": [
       "    val_loss  val_accuracy      loss  accuracy  epoch\n",
       "0   0.510522      0.739407  0.587055  0.707162      0\n",
       "1   0.476839      0.754237  0.484798  0.770292      1\n",
       "2   0.482128      0.769068  0.420725  0.809549      2\n",
       "3   0.439883      0.773305  0.396576  0.817507      3\n",
       "4   0.451123      0.781780  0.370114  0.834483      4\n",
       "5   0.428743      0.794492  0.359279  0.841379      5\n",
       "6   0.420634      0.800847  0.346050  0.842971      6\n",
       "7   0.443235      0.786017  0.332629  0.853581      7\n",
       "8   0.425871      0.798729  0.319175  0.862069      8\n",
       "9   0.418083      0.796610  0.309097  0.868435      9\n",
       "10  0.415976      0.809322  0.302823  0.874271     10\n",
       "11  0.424094      0.807203  0.284436  0.877454     11\n",
       "12  0.414875      0.813559  0.281852  0.880637     12\n",
       "13  0.406433      0.811441  0.267204  0.891247     13\n",
       "14  0.459721      0.798729  0.257841  0.892308     14\n",
       "15  0.416447      0.811441  0.265415  0.892308     15\n",
       "16  0.396413      0.830508  0.251876  0.893369     16\n",
       "17  0.411034      0.807203  0.252836  0.898674     17\n",
       "18  0.408353      0.807203  0.245715  0.906101     18\n",
       "19  0.431018      0.824153  0.228293  0.907692     19"
      ]
     },
     "execution_count": 29,
     "metadata": {},
     "output_type": "execute_result"
    }
   ],
   "source": [
    "hist"
   ]
  },
  {
   "cell_type": "code",
   "execution_count": 30,
   "metadata": {},
   "outputs": [
    {
     "data": {
      "image/png": "[encoded data removed]",
      "text/plain": [
       "<Figure size 1080x360 with 2 Axes>"
      ]
     },
     "metadata": {
      "needs_background": "light"
     },
     "output_type": "display_data"
    }
   ],
   "source": [
    "def show_final_history(history):\n",
    "    fig, ax = plt.subplots(1, 2, figsize=(15,5))\n",
    "    ax[0].set_title('loss')\n",
    "    ax[0].plot(history.epoch, history.history[\"loss\"], label=\"Train loss\")\n",
    "    ax[0].plot(history.epoch, history.history[\"val_loss\"], label=\"Validation loss\")\n",
    "    ax[1].set_title('acc')\n",
    "    ax[1].plot(history.epoch, history.history[\"accuracy\"], label=\"Train acc\")\n",
    "    ax[1].plot(history.epoch, history.history[\"val_accuracy\"], label=\"Validation acc\")\n",
    "    ax[0].legend()\n",
    "    ax[1].legend()\n",
    "\n",
    "show_final_history(history)"
   ]
  },
  {
   "cell_type": "code",
   "execution_count": 31,
   "metadata": {
    "colab": {
     "base_uri": "https://localhost:8080/",
     "height": 278
    },
    "id": "XwzpVDqdeekg",
    "outputId": "5dcb0aeb-74ad-4b32-f8aa-a3a030099a57"
   },
   "outputs": [
    {
     "data": {
      "image/png": "[encoded data removed]",
      "text/plain": [
       "<Figure size 432x288 with 1 Axes>"
      ]
     },
     "metadata": {
      "needs_background": "light"
     },
     "output_type": "display_data"
    }
   ],
   "source": [
    "def plot_history():\n",
    "    plt.figure()\n",
    "    plt.xlabel('Epoch')\n",
    "    plt.ylabel('Loss')\n",
    "    plt.plot(hist['epoch'], hist['loss'], label='Train Loss')\n",
    "    plt.legend()\n",
    "\n",
    "plot_history()"
   ]
  },
  {
   "cell_type": "code",
   "execution_count": 32,
   "metadata": {
    "colab": {
     "base_uri": "https://localhost:8080/"
    },
    "id": "0fUurl1fenaN",
    "outputId": "fc5e5ca5-d4b7-4f68-984f-73e10b4b2aee"
   },
   "outputs": [
    {
     "name": "stdout",
     "output_type": "stream",
     "text": [
      "1011/1011 [==============================] - 3s 3ms/step\n",
      "Loss on test set: 0.371\n",
      "              precision    recall  f1-score   support\n",
      "\n",
      "           0       0.80      0.78      0.79       391\n",
      "           1       0.86      0.88      0.87       620\n",
      "\n",
      "    accuracy                           0.84      1011\n",
      "   macro avg       0.83      0.83      0.83      1011\n",
      "weighted avg       0.84      0.84      0.84      1011\n",
      "\n",
      "[[305  86]\n",
      " [ 75 545]]\n"
     ]
    }
   ],
   "source": [
    "from sklearn.metrics import confusion_matrix\n",
    "from sklearn.metrics import classification_report\n",
    "from sklearn.metrics import f1_score\n",
    "from sklearn.metrics import accuracy_score\n",
    "\n",
    "[loss, crossent] = model_cnn.evaluate(Xtest_std, ytest)\n",
    "print('Loss on test set: {}'.format(round(loss, 3)))\n",
    "y_pred_real = model_cnn.predict(Xtest_std)\n",
    "y_pred = np.argmax(y_pred_real, axis=-1)\n",
    "\n",
    "\n",
    "ytest_for_report = np.argmax(ytest, axis=-1)\n",
    "cr = classification_report(ytest_for_report,y_pred)\n",
    "print(cr)\n",
    "f1 = f1_score(ytest_for_report, y_pred,average='weighted')\n",
    "cm = confusion_matrix(ytest_for_report, y_pred)\n",
    "print(cm)"
   ]
  },
  {
   "cell_type": "code",
   "execution_count": 33,
   "metadata": {
    "colab": {
     "base_uri": "https://localhost:8080/",
     "height": 602
    },
    "id": "hBGXVZwKfVV6",
    "outputId": "c4f42d47-bfe2-407d-d988-5423aa0c8c82"
   },
   "outputs": [
    {
     "data": {
      "text/plain": [
       "Text(0.5, 1.0, 'Overall f1-score: 0.840')"
      ]
     },
     "execution_count": 33,
     "metadata": {},
     "output_type": "execute_result"
    },
    {
     "data": {
      "image/png": "[encoded data removed]",
      "text/plain": [
       "<Figure size 720x720 with 2 Axes>"
      ]
     },
     "metadata": {
      "needs_background": "light"
     },
     "output_type": "display_data"
    }
   ],
   "source": [
    "import numpy as np\n",
    "import pandas as pd\n",
    "\n",
    "from matplotlib import pyplot as plt\n",
    "\n",
    "import seaborn as sns\n",
    "\n",
    "class_labels = np.unique(ytest_for_report);\n",
    "df_cm = pd.DataFrame(cm, columns=class_labels, index=class_labels)\n",
    "fig, ax1 = plt.subplots(1,1, figsize=(10,10))\n",
    "sns.heatmap(df_cm, annot=True, ax=ax1,square=True,  cmap=\"YlGnBu\",vmin=0,vmax=500,fmt='d')\n",
    "ax1.set_title('Overall f1-score: {:.3f}'.format(f1) )"
   ]
  },
  {
   "cell_type": "code",
   "execution_count": 35,
   "metadata": {},
   "outputs": [
    {
     "data": {
      "text/plain": [
       "0.6627017613021222"
      ]
     },
     "execution_count": 35,
     "metadata": {},
     "output_type": "execute_result"
    }
   ],
   "source": [
    "matthews_corrcoef(ytest_for_report, y_pred)"
   ]
  },
  {
   "cell_type": "code",
   "execution_count": 34,
   "metadata": {},
   "outputs": [
    {
     "name": "stdout",
     "output_type": "stream",
     "text": [
      "              precision    recall  f1-score   support\n",
      "\n",
      "           0       0.80      0.78      0.79       391\n",
      "           1       0.86      0.88      0.87       620\n",
      "\n",
      "    accuracy                           0.84      1011\n",
      "   macro avg       0.83      0.83      0.83      1011\n",
      "weighted avg       0.84      0.84      0.84      1011\n",
      "\n"
     ]
    },
    {
     "data": {
      "image/png": "[encoded data removed]",
      "text/plain": [
       "<Figure size 432x288 with 1 Axes>"
      ]
     },
     "metadata": {
      "needs_background": "light"
     },
     "output_type": "display_data"
    }
   ],
   "source": [
    "from sklearn.metrics import confusion_matrix\n",
    "print(classification_report(ytest_for_report,y_pred))\n",
    "mat = confusion_matrix(ytest_for_report, y_pred)\n",
    "sns.heatmap(mat.T, square=True, annot=True, fmt='d', cbar=False,\n",
    "            ##xticklabels=faces.target_names,\n",
    "            ##yticklabels=faces.target_names\n",
    "            )\n",
    "plt.xlabel('true label')\n",
    "plt.ylabel('predicted label');"
   ]
  },
  {
   "cell_type": "code",
   "execution_count": null,
   "metadata": {},
   "outputs": [],
   "source": [
    "# Now run filter on ALL set\n"
   ]
  }
 ],
 "metadata": {
  "colab": {
   "collapsed_sections": [],
   "name": "otitis_media.ipynb",
   "provenance": []
  },
  "kernelspec": {
   "display_name": "Python 3",
   "language": "python",
   "name": "python3"
  },
  "language_info": {
   "codemirror_mode": {
    "name": "ipython",
    "version": 3
   },
   "file_extension": ".py",
   "mimetype": "text/x-python",
   "name": "python",
   "nbconvert_exporter": "python",
   "pygments_lexer": "ipython3",
   "version": "3.7.9"
  }
 },
 "nbformat": 4,
 "nbformat_minor": 1
}
