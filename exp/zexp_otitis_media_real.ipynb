{
 "cells": [
  {
   "cell_type": "code",
   "execution_count": 1,
   "metadata": {
    "colab": {
     "base_uri": "https://localhost:8080/"
    },
    "id": "70gHCCxoJuel",
    "outputId": "4173bfc5-adb3-4079-990f-503e4e5d748a"
   },
   "outputs": [
    {
     "name": "stdout",
     "output_type": "stream",
     "text": [
      "3.7.9 (default, Aug 31 2020, 07:22:35) \n",
      "[Clang 10.0.0 ]\n",
      "The numpy version is 1.19.2.\n",
      "The pandas version is 1.1.3.\n",
      "The scikit-learn version is 0.23.2.\n"
     ]
    }
   ],
   "source": [
    "import sys\n",
    "import numpy\n",
    "import pandas\n",
    "import sklearn\n",
    "\n",
    "print(sys.version)\n",
    "print('The numpy version is {}.'.format(numpy.__version__))\n",
    "print('The pandas version is {}.'.format(pandas.__version__))\n",
    "print('The scikit-learn version is {}.'.format(sklearn.__version__))"
   ]
  },
  {
   "cell_type": "code",
   "execution_count": null,
   "metadata": {
    "id": "CokKlBesNp6a"
   },
   "outputs": [],
   "source": [
    "# import pickle\n",
    "# import numpy as np\n",
    "# import pandas as pd\n",
    "\n",
    "# def load_CIFAR_batch(filename, flatten=True, categorical=True):\n",
    "#     \"\"\" load single batch of cifar \"\"\"\n",
    "#     with open(filename, 'rb') as f:\n",
    "#         datadict = pickle.load(f, encoding='bytes')\n",
    "#         X = datadict[b'data']        \n",
    "#         X = X.reshape(10000, 3, 32, 32).transpose(0, 2, 3, 1).astype(\"float\")\n",
    "#         if (flatten):\n",
    "#           X = X.reshape(10000, 3072)\n",
    "#         X = X.astype('float32')\n",
    "#         # need to keep the data in 0-255 range\n",
    "#         #X /= 255 \n",
    "\n",
    "#         y = datadict[b'labels']\n",
    "#         y = np.array(y)\n",
    "#         if (categorical):\n",
    "#           y = pd.get_dummies(y).values\n",
    "\n",
    "#         return X, y\n",
    "\n",
    "# def load_CIFAR_meta(filename):\n",
    "#   with open(filename,'rb') as f:\n",
    "#     metadict = pickle.load(f, encoding='bytes')\n",
    "\n",
    "#     class_labels = [ val.decode() for val in metadict.get(b'label_names') ]\n",
    "#     return class_labels\n",
    "\n",
    "# def get_image(X, index, nchans=3, size=32):\n",
    "#   xi = np.copy(X[index,:]) \n",
    "#   # now rescale for image display\n",
    "#   xi /= 255\n",
    "#   img = xi.reshape(size, size, nchans)\n",
    "#   return img"
   ]
  },
  {
   "cell_type": "code",
   "execution_count": null,
   "metadata": {
    "colab": {
     "base_uri": "https://localhost:8080/"
    },
    "id": "5E8jWN-CezSw",
    "outputId": "c6ae49b0-16be-4030-8920-2fa6b7658781"
   },
   "outputs": [
    {
     "name": "stdout",
     "output_type": "stream",
     "text": [
      "Mounted at /content/drive\n"
     ]
    }
   ],
   "source": [
    "# from google.colab import drive\n",
    "# drive.mount('/content/drive')"
   ]
  },
  {
   "cell_type": "code",
   "execution_count": 6,
   "metadata": {},
   "outputs": [
    {
     "name": "stdout",
     "output_type": "stream",
     "text": [
      "there are total of 19236 files, size is 1\n",
      "{(512, 640, 3)}\n"
     ]
    }
   ],
   "source": [
    "path = \"/Users/phunp/Documents/Flinders/Thesis/data/real_data/extract_data_keep/\"\n",
    "\n",
    "import glob\n",
    "import cv2\n",
    "import os\n",
    "\n",
    "setImgSize = set()\n",
    "\n",
    "count = 0\n",
    "distinctFileNames = set()\n",
    "for fullFileName in glob.iglob(path + '**/*.jpg', recursive=True):\n",
    "    baseName = os.path.basename(fullFileName)\n",
    "    img = cv2.imread(fullFileName)\n",
    "    \n",
    "    setImgSize.add(img.shape)\n",
    "    count += 1\n",
    "\n",
    "print(\"there are total of %d files, size is %d\" % (count, len(setImgSize)))\n",
    "print(setImgSize)"
   ]
  },
  {
   "cell_type": "code",
   "execution_count": 2,
   "metadata": {},
   "outputs": [],
   "source": [
    "# 1001-1-L--2--2009-03-30T15-51-51__2.jpg\n",
    "def extract_res_from_filename(file_name):\n",
    "    return int(file_name[(len(file_name) - 29):(len(file_name) - 28)])"
   ]
  },
  {
   "cell_type": "code",
   "execution_count": 3,
   "metadata": {
    "colab": {
     "base_uri": "https://localhost:8080/"
    },
    "id": "6w1NrZ_UN0c5",
    "outputId": "598eece5-cbce-4116-b529-884dff054d29"
   },
   "outputs": [
    {
     "name": "stdout",
     "output_type": "stream",
     "text": [
      "(20000, 61440)\n",
      "(20000,)\n"
     ]
    }
   ],
   "source": [
    "flatten = False\n",
    "categorical=True\n",
    "\n",
    "import pickle\n",
    "import numpy as np\n",
    "import pandas as pd\n",
    "import cv2\n",
    "import glob\n",
    "from PIL import Image\n",
    "import os\n",
    "import matplotlib.pyplot as plt\n",
    "\n",
    "path = '/Users/phunp/Documents/Flinders/Thesis/data/real_data/extract_data_keep/'\n",
    "#label_path = '/Users/phunp/Documents/Flinders/Thesis/data/otomatch/Tube_Effusion_Normal-11_7_19/labels.csv'\n",
    "\n",
    "setSize = set()\n",
    "# Original shape: 512x640x3\n",
    "WIDTH = 128\n",
    "HEIGHT = 160\n",
    "SIZE = WIDTH * HEIGHT * 3\n",
    "IMAGE_COUNT = 20000\n",
    "LABEL_CONVERTER = {\"Normal\": 1, \"Healed\": 2, \"Inactive Muc\": 3, \"Inactive Squa\": 4, \"Active Muc\": 5, \"Active Squa\": 6, \"Fluid OME\": 7, \"Pus AOM\": 8}\n",
    "\n",
    "indexes = {}\n",
    "\n",
    "def load_images_from_folder(folder):\n",
    "    X = np.empty((IMAGE_COUNT, SIZE)) # ==> FOR NORMAL\n",
    "    # X = np.empty((IMAGE_COUNT, HEIGHT, WIDTH, 3))\n",
    "    Y = np.empty([IMAGE_COUNT], dtype=int)\n",
    "    i = 0\n",
    "    for filename in os.listdir(folder):\n",
    "        img = cv2.imread(os.path.join(folder,filename))\n",
    "        if img is not None:\n",
    "            # resize image to a fix size TODO determine the best way to resize and preserve data\n",
    "            img = cv2.resize(img, (WIDTH, HEIGHT), interpolation=cv2.INTER_AREA)\n",
    "            flatten = img.reshape(-1) # ==> FOR NORMAL MODEL\n",
    "            # flatten = img # FOR MOBILEV2 NET\n",
    "            # print('flatten size: ', flatten.shape)\n",
    "            X[i] = flatten\n",
    "            Y[i] = extract_res_from_filename(filename)\n",
    "            i = i+1\n",
    "        if i >= IMAGE_COUNT:\n",
    "            print(\"reading max of \" + str(IMAGE_COUNT) + \"... quit now\")\n",
    "            break;\n",
    "        \n",
    "    return X, Y\n",
    "\n",
    "\n",
    "X, Y = load_images_from_folder(path)\n",
    "\n",
    "# avgRatio = sum([(x.shape[0]/x.shape[1]) for x in X]) / len(X)\n",
    "# avgX = sum([(x.shape[0]) for x in X]) / len(X)\n",
    "# avgY = sum([(x.shape[1]) for x in X]) / len(X)\n",
    "# print('avgRatio: {}, avgX {}, avgY {}'.format(avgRatio, avgX, avgY))\n",
    "# avgRatio: 0.8751151786261735, avgX 880.784140969163, avgY 1033.7863436123348\n",
    "# selected: size of 200 x 228\n",
    "\n",
    "print(X.shape)\n",
    "print(Y.shape)\n"
   ]
  },
  {
   "cell_type": "code",
   "execution_count": null,
   "metadata": {
    "colab": {
     "base_uri": "https://localhost:8080/",
     "height": 286
    },
    "id": "Vle0KhirWtil",
    "outputId": "83ba6d63-5232-47bd-8191-bd1da893806a"
   },
   "outputs": [
    {
     "name": "stdout",
     "output_type": "stream",
     "text": [
      "shape of data {} (355, 441, 3)\n"
     ]
    },
    {
     "data": {
      "image/png": "[encoded data removed]",
      "text/plain": [
       "<Figure size 432x288 with 9 Axes>"
      ]
     },
     "metadata": {
      "needs_background": "light",
      "tags": []
     },
     "output_type": "display_data"
    }
   ],
   "source": [
    "#Augmentation\n",
    "# from keras.preprocessing.image import ImageDataGenerator\n",
    "\n",
    "# img_test = cv2.imread(\"/Users/phunp/Documents/Flinders/Thesis/data/otomatch/Tube_Effusion_Normal-11_7_19/test-read/AM1L.jpg\")\n",
    "# plt.imshow(cv2.cvtColor(img_test, cv2.COLOR_BGR2RGB))\n",
    "\n",
    "# datagen = ImageDataGenerator()\n",
    "\n",
    "from numpy import expand_dims\n",
    "from keras.preprocessing.image import load_img\n",
    "from keras.preprocessing.image import img_to_array\n",
    "from keras.preprocessing.image import ImageDataGenerator\n",
    "from matplotlib import pyplot\n",
    "\n",
    "# def augmenXY(X, y, batch):\n",
    "#   datagen = ImageDataGenerator(zoom_range=[0.5,1.0])\n",
    "\n",
    "\n",
    "\n",
    "# load the image\n",
    "# img = load_img('/Users/phunp/Documents/Flinders/Thesis/data/otomatch/Tube_Effusion_Normal-11_7_19/test-read/AM1L.jpg')\n",
    "img = cv2.imread(\"/Users/phunp/Documents/Flinders/Thesis/data/otomatch/Tube_Effusion_Normal-11_7_19/test-read/AM1L.jpg\")\n",
    "img = cv2.cvtColor(img, cv2.COLOR_BGR2RGB)\n",
    "# convert to numpy array\n",
    "data = img_to_array(img)\n",
    "print(\"shape of data {}\", data.shape)\n",
    "# expand dimension to one sample\n",
    "samples = expand_dims(data, 0)\n",
    "# create image data augmentation generator\n",
    "datagen = ImageDataGenerator(zoom_range=[0.5,1.0])\n",
    "# prepare iterator\n",
    "it = datagen.flow(samples, batch_size=1)\n",
    "# generate samples and plot\n",
    "for i in range(9):\n",
    "\t# define subplot\n",
    "\tpyplot.subplot(330 + 1 + i)\n",
    "\t# generate batch of images\n",
    "\tbatch = it.next()\n",
    "\t# convert to unsigned integers for viewing\n",
    "\timage = batch[0].astype('uint8')\n",
    "\t# plot raw pixel data\n",
    "\tpyplot.imshow(image)\n",
    "# show the figure\n",
    "pyplot.show()"
   ]
  },
  {
   "cell_type": "code",
   "execution_count": 5,
   "metadata": {
    "colab": {
     "base_uri": "https://localhost:8080/"
    },
    "id": "1DAkoF8fQSvf",
    "outputId": "42d283eb-4d57-439f-d75b-df8126661151"
   },
   "outputs": [
    {
     "name": "stdout",
     "output_type": "stream",
     "text": [
      "(20000, 61440)\n",
      "(20000,)\n",
      "[10. 10. 10. ...  5.  5.  5.]\n",
      "<class 'numpy.int64'>\n"
     ]
    }
   ],
   "source": [
    "print(X.shape)\n",
    "print(Y.shape)\n",
    "print(X[12])\n",
    "print(type(Y[17]))"
   ]
  },
  {
   "cell_type": "code",
   "execution_count": 6,
   "metadata": {},
   "outputs": [
    {
     "name": "stdout",
     "output_type": "stream",
     "text": [
      "[[   1 3020]\n",
      " [   2 7324]\n",
      " [   3 2872]\n",
      " [   4 1616]\n",
      " [   5 2571]\n",
      " [   6   16]\n",
      " [   7 1816]]\n"
     ]
    }
   ],
   "source": [
    "# count frequency of all unique values in array\n",
    "# https://www.kite.com/python/answers/how-to-count-frequency-of-unique-values-in-a-numpy-array-in-python#:~:text=Use%20numpy.,list%20of%20their%20corresponding%20frequencies.\n",
    "\n",
    "(unique, counts) = numpy.unique(Y[0:19235], return_counts=True)\n",
    "frequencies = numpy.asarray((unique, counts)).T\n",
    "print(frequencies)"
   ]
  },
  {
   "cell_type": "code",
   "execution_count": 33,
   "metadata": {
    "colab": {
     "base_uri": "https://localhost:8080/"
    },
    "id": "xnRC6iiTPiLG",
    "outputId": "e0ae34b2-35ec-41f9-fa58-684caac87b4a"
   },
   "outputs": [
    {
     "name": "stdout",
     "output_type": "stream",
     "text": [
      "              precision    recall  f1-score   support\n",
      "\n",
      "           0       0.89      0.78      0.83      1360\n",
      "           1       0.85      0.79      0.82      1528\n",
      "           2       0.79      0.80      0.79      1653\n",
      "           3       0.75      0.82      0.79      1681\n",
      "           4       0.77      0.81      0.79      1786\n",
      "           5       0.76      0.82      0.79      1768\n",
      "           6       0.75      0.80      0.78      1691\n",
      "           7       0.90      0.73      0.80      1263\n",
      "\n",
      "    accuracy                           0.80     12730\n",
      "   macro avg       0.81      0.79      0.80     12730\n",
      "weighted avg       0.80      0.80      0.80     12730\n",
      "\n",
      "              precision    recall  f1-score   support\n",
      "\n",
      "           0       0.11      0.10      0.10       659\n",
      "           1       0.08      0.08      0.08       748\n",
      "           2       0.09      0.09      0.09       816\n",
      "           3       0.11      0.12      0.12       870\n",
      "           4       0.10      0.11      0.10       844\n",
      "           5       0.09      0.10      0.09       857\n",
      "           6       0.12      0.13      0.12       818\n",
      "           7       0.05      0.03      0.04       658\n",
      "\n",
      "    accuracy                           0.10      6270\n",
      "   macro avg       0.09      0.09      0.09      6270\n",
      "weighted avg       0.09      0.10      0.10      6270\n",
      "\n"
     ]
    }
   ],
   "source": [
    "from sklearn.preprocessing import StandardScaler\n",
    "from sklearn.decomposition import PCA\n",
    "from sklearn.model_selection import train_test_split\n",
    "from sklearn.metrics import confusion_matrix\n",
    "from sklearn.svm import SVC\n",
    "from sklearn.metrics import classification_report\n",
    "ac\n",
    "# X1 = X[0:400]\n",
    "# y1 = y[0:400]\n",
    "X1 = X\n",
    "y1 = Y\n",
    "\n",
    "# split into train and test\n",
    "# Xtrain, Xtest, ytrain, ytest = train_test_split(X, y,stratify=y)\n",
    "Xtrain, Xtest, ytrain, ytest = train_test_split(X1, y1,test_size=0.33, random_state=42)\n",
    "\n",
    "# normalise features\n",
    "input_std = StandardScaler()\n",
    "input_std.fit(Xtrain)\n",
    "Xtrain_std = input_std.transform(Xtrain)\n",
    "Xtest_std = input_std.transform(Xtest)\n",
    "\n",
    "# do the PCA, choose the numbher of components to retain\n",
    "input_pca = PCA(n_components=50, whiten=True)\n",
    "input_pca.fit(Xtrain_std)\n",
    "Xtrain_std_pca = input_pca.transform(Xtrain_std)\n",
    "Xtest_std_pca = input_pca.transform(Xtest_std)\n",
    "\n",
    "C = 10 ## Change this C value\n",
    "model = SVC(kernel='rbf', C=C)\n",
    "model.fit(Xtrain_std_pca, ytrain)\n",
    "\n",
    "y_pred = model.predict(Xtrain_std_pca)\n",
    "report = classification_report(ytrain, y_pred)\n",
    "print(report)\n",
    "\n",
    "y_pred = model.predict(Xtest_std_pca)\n",
    "report = classification_report(ytest, y_pred)\n",
    "print(report)\n"
   ]
  },
  {
   "cell_type": "markdown",
   "metadata": {
    "id": "tnQUR7sRYx1e"
   },
   "source": [
    "pca = 5 -> \n",
    "```\n",
    "              precision    recall  f1-score   support\n",
    "\n",
    "           0       0.61      0.83      0.70        46\n",
    "           1       0.72      0.61      0.66        54\n",
    "           2       0.54      0.41      0.46        32\n",
    "\n",
    "    accuracy                           0.64       132\n",
    "   macro avg       0.62      0.61      0.61       132\n",
    "weighted avg       0.64      0.64      0.63       132\n",
    "```\n",
    "\n",
    "pca = 20 -> \n",
    "```\n",
    "              precision    recall  f1-score   support\n",
    "\n",
    "           0       0.70      0.83      0.76        46\n",
    "           1       0.76      0.70      0.73        54\n",
    "           2       0.86      0.75      0.80        32\n",
    "\n",
    "    accuracy                           0.76       132\n",
    "   macro avg       0.77      0.76      0.76       132\n",
    "weighted avg       0.76      0.76      0.76       132\n",
    "```\n",
    "\n",
    "pca=50 -> \n",
    "```\n",
    "              precision    recall  f1-score   support\n",
    "\n",
    "           0       0.76      0.85      0.80        46\n",
    "           1       0.69      0.78      0.73        54\n",
    "           2       0.90      0.56      0.69        32\n",
    "\n",
    "    accuracy                           0.75       132\n",
    "   macro avg       0.78      0.73      0.74       132\n",
    "weighted avg       0.77      0.75      0.75       132\n",
    "```\n"
   ]
  },
  {
   "cell_type": "code",
   "execution_count": 34,
   "metadata": {
    "colab": {
     "base_uri": "https://localhost:8080/",
     "height": 456
    },
    "id": "nD4mA6CIMBIl",
    "outputId": "8367dea0-0872-4b1b-ed22-4d1484f9cc7f"
   },
   "outputs": [
    {
     "name": "stdout",
     "output_type": "stream",
     "text": [
      "              precision    recall  f1-score   support\n",
      "\n",
      "           0       0.11      0.10      0.10       659\n",
      "           1       0.08      0.08      0.08       748\n",
      "           2       0.09      0.09      0.09       816\n",
      "           3       0.11      0.12      0.12       870\n",
      "           4       0.10      0.11      0.10       844\n",
      "           5       0.09      0.10      0.09       857\n",
      "           6       0.12      0.13      0.12       818\n",
      "           7       0.05      0.03      0.04       658\n",
      "\n",
      "    accuracy                           0.10      6270\n",
      "   macro avg       0.09      0.09      0.09      6270\n",
      "weighted avg       0.09      0.10      0.10      6270\n",
      "\n"
     ]
    },
    {
     "data": {
      "image/png": "[encoded data removed]",
      "text/plain": [
       "<Figure size 432x288 with 1 Axes>"
      ]
     },
     "metadata": {
      "needs_background": "light"
     },
     "output_type": "display_data"
    }
   ],
   "source": [
    "from sklearn.metrics import confusion_matrix\n",
    "import seaborn as sns\n",
    "\n",
    "print(classification_report(ytest,y_pred))\n",
    "mat = confusion_matrix(ytest, y_pred)\n",
    "sns.heatmap(mat.T, square=True, annot=True, fmt='d', cbar=False,\n",
    "            # xticklabels=faces.target_names,\n",
    "            # yticklabels=faces.target_names\n",
    "            )\n",
    "plt.xlabel('true label')\n",
    "plt.ylabel('predicted label');"
   ]
  },
  {
   "cell_type": "code",
   "execution_count": null,
   "metadata": {
    "colab": {
     "base_uri": "https://localhost:8080/"
    },
    "id": "9EKv-S_0UlXo",
    "outputId": "be2a957f-2806-457e-a3a0-f40aa47bc60c"
   },
   "outputs": [
    {
     "name": "stdout",
     "output_type": "stream",
     "text": [
      "53\n",
      "image 1 to 1, and should be 0\n",
      "image 2 to 1, and should be 2\n",
      "image 8 to 0, and should be 2\n",
      "image 11 to 0, and should be 2\n",
      "image 12 to 0, and should be 2\n",
      "image 15 to 0, and should be 2\n",
      "image 23 to 0, and should be 1\n",
      "image 29 to 1, and should be 2\n",
      "image 44 to 0, and should be 2\n",
      "image 46 to 0, and should be 1\n"
     ]
    }
   ],
   "source": [
    "X2 = X[401:IMAGE_COUNT]\n",
    "y2 = y[401:IMAGE_COUNT]\n",
    "print(len(X2))\n",
    "\n",
    "testy = model.predict(input_pca.transform(input_std.transform(X2)))\n",
    "for index in range(0, len(X2)):\n",
    "  if testy[index] != y2[index]:\n",
    "    print('image {} to {}, and should be {}'.format(index, testy[index], y2[index]))"
   ]
  },
  {
   "cell_type": "code",
   "execution_count": null,
   "metadata": {
    "colab": {
     "base_uri": "https://localhost:8080/"
    },
    "id": "80FmdH8YasIJ",
    "outputId": "7f70e66a-5228-4818-c462-830bbf983f94"
   },
   "outputs": [
    {
     "data": {
      "text/plain": [
       "array([1.e-09, 1.e-03, 1.e+03, 1.e+09])"
      ]
     },
     "execution_count": 8,
     "metadata": {
      "tags": []
     },
     "output_type": "execute_result"
    }
   ],
   "source": [
    "np.logspace(-9, 9, num=4, base=10)"
   ]
  },
  {
   "cell_type": "code",
   "execution_count": 36,
   "metadata": {
    "colab": {
     "base_uri": "https://localhost:8080/"
    },
    "id": "_1bTFCw6avJN",
    "outputId": "fab506e7-645b-4a55-aac1-06db3d24ba38"
   },
   "outputs": [
    {
     "name": "stdout",
     "output_type": "stream",
     "text": [
      "Fitting 2 folds for each of 12 candidates, totalling 24 fits\n"
     ]
    },
    {
     "name": "stderr",
     "output_type": "stream",
     "text": [
      "[Parallel(n_jobs=1)]: Using backend SequentialBackend with 1 concurrent workers.\n",
      "[Parallel(n_jobs=1)]: Done  24 out of  24 | elapsed: 29.0min finished\n"
     ]
    },
    {
     "name": "stdout",
     "output_type": "stream",
     "text": [
      "CPU times: user 20min 28s, sys: 13min 39s, total: 34min 7s\n",
      "Wall time: 31min 53s\n",
      "Best parameter (CV score=0.141):\n",
      "{'pca__n_components': 10, 'svc__C': 1000000000.0, 'svc__gamma': 1000000000.0, 'svc__kernel': 'rbf'}\n"
     ]
    }
   ],
   "source": [
    "from sklearn.decomposition import PCA\n",
    "from sklearn.svm import SVC\n",
    "from sklearn.pipeline import Pipeline\n",
    "from sklearn.model_selection import GridSearchCV, StratifiedKFold\n",
    "\n",
    "# Define a pipeline to search for the best combination of PCA truncation\n",
    "# and classifier regularization.\n",
    "std = StandardScaler()\n",
    "pca = PCA(n_components=150, whiten=True)\n",
    "svc = SVC(kernel='rbf')\n",
    "pipe = Pipeline([('std',std),('pca', pca),('svc',svc)])\n",
    "\n",
    "# Parameters of pipelines can be set using ‘__’ separated parameter names:\n",
    "param_grid = {\n",
    "  'pca__n_components': [10, 20, 50],\n",
    "  'svc__kernel': ['rbf'],\n",
    "  'svc__C': np.logspace(-9, 9, num=2, base=10),\n",
    "  'svc__gamma' : np.logspace(-9, 9, num=2, base=10)\n",
    "}\n",
    "\n",
    "\n",
    "search = GridSearchCV(pipe, param_grid,\n",
    "                      scoring=\"accuracy\",\n",
    "                      cv=StratifiedKFold(n_splits=2),\n",
    "                      verbose=1, )\n",
    "%time search.fit(Xtrain, ytrain)\n",
    "print(\"Best parameter (CV score=%0.3f):\" % search.best_score_)\n",
    "print(search.best_params_)\n"
   ]
  },
  {
   "cell_type": "code",
   "execution_count": 37,
   "metadata": {
    "colab": {
     "base_uri": "https://localhost:8080/",
     "height": 510
    },
    "id": "nDgml2UNUJVr",
    "outputId": "6008440f-3d1a-47a3-8721-cf7a9c4868d4"
   },
   "outputs": [
    {
     "name": "stdout",
     "output_type": "stream",
     "text": [
      "Pipeline(steps=[('std', StandardScaler()),\n",
      "                ('pca', PCA(n_components=10, whiten=True)),\n",
      "                ('svc', SVC(C=1000000000.0, gamma=1000000000.0))])\n",
      "              precision    recall  f1-score   support\n",
      "\n",
      "           0       1.00      0.00      0.00       659\n",
      "           1       1.00      0.00      0.01       748\n",
      "           2       0.00      0.00      0.00       816\n",
      "           3       1.00      0.00      0.01       870\n",
      "           4       0.13      1.00      0.24       844\n",
      "           5       1.00      0.00      0.00       857\n",
      "           6       1.00      0.00      0.01       818\n",
      "           7       1.00      0.00      0.00       658\n",
      "\n",
      "    accuracy                           0.14      6270\n",
      "   macro avg       0.77      0.13      0.03      6270\n",
      "weighted avg       0.75      0.14      0.04      6270\n",
      "\n"
     ]
    },
    {
     "name": "stderr",
     "output_type": "stream",
     "text": [
      "/Users/phunp/opt/anaconda3/envs/py37/lib/python3.7/site-packages/sklearn/metrics/_classification.py:1221: UndefinedMetricWarning: Precision and F-score are ill-defined and being set to 0.0 in labels with no predicted samples. Use `zero_division` parameter to control this behavior.\n",
      "  _warn_prf(average, modifier, msg_start, len(result))\n"
     ]
    },
    {
     "data": {
      "image/png": "[encoded data removed]",
      "text/plain": [
       "<Figure size 432x288 with 1 Axes>"
      ]
     },
     "metadata": {
      "needs_background": "light"
     },
     "output_type": "display_data"
    }
   ],
   "source": [
    "model_best = search.best_estimator_\n",
    "yfit = model_best.predict(Xtest)\n",
    "print(model_best)\n",
    "\n",
    "from sklearn.metrics import confusion_matrix\n",
    "print(classification_report(ytest,yfit))\n",
    "mat = confusion_matrix(ytest, yfit)\n",
    "sns.heatmap(mat.T, square=True, annot=True, fmt='d', cbar=False,\n",
    "            ##xticklabels=faces.target_names,\n",
    "            ##yticklabels=faces.target_names\n",
    "            )\n",
    "plt.xlabel('true label')\n",
    "plt.ylabel('predicted label');"
   ]
  },
  {
   "cell_type": "code",
   "execution_count": 38,
   "metadata": {
    "id": "-WTx2TIVEZCO"
   },
   "outputs": [],
   "source": [
    "def calculate_bm(cm):\n",
    "\n",
    "  TN = cm[1][1]\n",
    "  FN = cm[0][1]\n",
    "  TP = cm[0][0]\n",
    "  FP = cm[1][0]\n",
    "\n",
    "  # Sensitivity, hit rate, recall, or true positive rate\n",
    "  TPR = TP/(TP+FN)\n",
    "  # Specificity or true negative rate\n",
    "  TNR = TN/(TN+FP) \n",
    "  # Precision or positive predictive value\n",
    "  PPV = TP/(TP+FP)\n",
    "  # Negative predictive value\n",
    "  NPV = TN/(TN+FN)\n",
    "  # Fall out or false positive rate\n",
    "  FPR = FP/(FP+TN)\n",
    "  # False negative rate\n",
    "  FNR = FN/(TP+FN)\n",
    "  # False discovery rate\n",
    "  FDR = FP/(TP+FP)\n",
    "\n",
    "  # Overall accuracy\n",
    "  ACC = (TP+TN)/(TP+FP+FN+TN)\n",
    "  F1 = 2*(PPV*TPR)/(PPV+TPR)\n",
    "  BM = TPR + TNR - 1\n",
    "\n",
    "  return BM"
   ]
  },
  {
   "cell_type": "code",
   "execution_count": 39,
   "metadata": {
    "colab": {
     "base_uri": "https://localhost:8080/",
     "height": 667
    },
    "id": "J5nfJFs0DkGn",
    "outputId": "5813b941-6abc-4adc-e1a5-77451c11c942"
   },
   "outputs": [
    {
     "name": "stderr",
     "output_type": "stream",
     "text": [
      "/Users/phunp/opt/anaconda3/envs/py37/lib/python3.7/site-packages/sklearn/neural_network/_multilayer_perceptron.py:585: ConvergenceWarning: Stochastic Optimizer: Maximum iterations (2000) reached and the optimization hasn't converged yet.\n",
      "  % self.max_iter, ConvergenceWarning)\n"
     ]
    },
    {
     "name": "stdout",
     "output_type": "stream",
     "text": [
      "predictions: [4 5 7 2 4 4 4 5 2 5]\n",
      "acutal     : [4 7 3 0 1 1 7 6 0 6]\n",
      "\n",
      "Evaluation of hidden_layer_size: 250, max_iter: 2000\n",
      "\n",
      "              precision    recall  f1-score   support\n",
      "\n",
      "           0       0.12      0.11      0.11       659\n",
      "           1       0.11      0.11      0.11       748\n",
      "           2       0.11      0.11      0.11       816\n",
      "           3       0.13      0.13      0.13       870\n",
      "           4       0.13      0.13      0.13       844\n",
      "           5       0.12      0.12      0.12       857\n",
      "           6       0.13      0.14      0.13       818\n",
      "           7       0.10      0.08      0.09       658\n",
      "\n",
      "    accuracy                           0.12      6270\n",
      "   macro avg       0.12      0.12      0.12      6270\n",
      "weighted avg       0.12      0.12      0.12      6270\n",
      "\n",
      "[[ 75  92 103  89  91  93  72  44]\n",
      " [ 99  80 110 110 109 112  79  49]\n",
      " [103 105  91 125 100 114 113  65]\n",
      " [ 83 104 134 117 126 126 116  64]\n",
      " [ 72  92 114 134 113 131 122  66]\n",
      " [ 77  84 106 125 152 107 128  78]\n",
      " [ 72  83 102 117 120 129 113  82]\n",
      " [ 69  71  85  93  73  98 118  51]]\n",
      "Bookmaker for Test with MLP is -0.10\n"
     ]
    },
    {
     "data": {
      "image/png": "[encoded data removed]",
      "text/plain": [
       "<Figure size 432x288 with 1 Axes>"
      ]
     },
     "metadata": {
      "needs_background": "light"
     },
     "output_type": "display_data"
    }
   ],
   "source": [
    "# Test with MLP\n",
    "from sklearn.preprocessing import StandardScaler\n",
    "from sklearn.decomposition import PCA\n",
    "from sklearn.model_selection import train_test_split\n",
    "from sklearn.metrics import confusion_matrix\n",
    "from sklearn.metrics import f1_score\n",
    "from sklearn.svm import SVC\n",
    "from sklearn.metrics import classification_report\n",
    "from matplotlib import pyplot as plt\n",
    "from sklearn.neural_network import MLPClassifier\n",
    "\n",
    "# X1 = X[0:400]\n",
    "# y1 = y[0:400]\n",
    "X1 = X\n",
    "y1 = Y\n",
    "\n",
    "# split into train and test\n",
    "# Xtrain, Xtest, ytrain, ytest = train_test_split(X, y,stratify=y)\n",
    "Xtrain, Xtest, ytrain, ytest = train_test_split(X1, y1,test_size=0.33, random_state=42)\n",
    "\n",
    "# normalise features\n",
    "input_std = StandardScaler()\n",
    "input_std.fit(Xtrain)\n",
    "Xtrain_std = input_std.transform(Xtrain)\n",
    "Xtest_std = input_std.transform(Xtest)\n",
    "\n",
    "# do the PCA, choose the numbher of components to retain\n",
    "input_pca = PCA(n_components=50, whiten=True)\n",
    "input_pca.fit(Xtrain_std)\n",
    "Xtrain_std_pca = input_pca.transform(Xtrain_std)\n",
    "Xtest_std_pca = input_pca.transform(Xtest_std)\n",
    "\n",
    "## MLP PART\n",
    "data_name = \"Test with MLP\"\n",
    "# model initialization\n",
    "hidden_layer_size = 250\n",
    "max_iter = 2000\n",
    "mlp = MLPClassifier(hidden_layer_sizes=(hidden_layer_size), max_iter=max_iter, alpha=0.01, #try change hidden layer, or max_iter\n",
    "                    solver='sgd', verbose=0, tol=0.000001, #try verbode=0 to train with out logging\n",
    "                    early_stopping=False, momentum=0.9) \n",
    "\n",
    "### Train the Model\n",
    "# The function call to `fit` trains the model using the training data.  \n",
    "h = mlp.fit(Xtrain_std_pca,ytrain)\n",
    "\n",
    "### Plot a loss curve\n",
    "# The loss curve shows the history of how the training progressed.\n",
    "plt.plot(h.loss_curve_)\n",
    "plt.title('Loss History for ' + data_name)\n",
    "plt.xlabel('epoch')\n",
    "plt.legend(['Loss'])\n",
    "\n",
    "\n",
    "## Evaluate the performance of the classifier\n",
    "# Let's have a look at predicting the first 10 instances in the test data set.  How did it do?  How many matches?\n",
    "print('predictions: {0}'.format(mlp.predict(Xtest_std_pca[0:10,:])))\n",
    "print('acutal     : {0}'.format(np.ravel(ytest)[0:10]))\n",
    "\n",
    "# Calculate evaluation measures\n",
    "print()\n",
    "print('Evaluation of hidden_layer_size: {}, max_iter: {}'.format(hidden_layer_size, max_iter))\n",
    "print()\n",
    "y_pred = mlp.predict(Xtest_std_pca)\n",
    "cm = confusion_matrix(ytest, y_pred,normalize=None)\n",
    "cr = classification_report(ytest,y_pred)\n",
    "print(cr)\n",
    "f1 = f1_score(ytest, y_pred,average='weighted')\n",
    "cm = confusion_matrix(ytest, y_pred)\n",
    "bm = calculate_bm(cm)\n",
    "print(cm)\n",
    "print('Bookmaker for {0} is {1:.2f}'.format(data_name,bm))\n",
    "\n",
    "\n",
    "\n",
    "# Create a confusion matrx using the function `confusion_matrix` and plot using seaborn\n",
    "# df_cm = pd.DataFrame(cm, columns=['0','1'], index=['0','1'])\n",
    "# fig, ax1 = plt.subplots(1,1, figsize=(10,8))\n",
    "# ax = sns.heatmap(df_cm, annot=True, ax=ax1, square=True,  cmap=\"YlGnBu\", fmt='d')\n",
    "# ax.set_title('Confusion Matrix with {1} nodes, bm = {2:.2f}'.format(data_name,hidden_layer_size,bm))\n",
    "# ax.set_xlabel('predicted')\n",
    "# ax.set_ylabel('actual')"
   ]
  },
  {
   "cell_type": "code",
   "execution_count": 41,
   "metadata": {
    "colab": {
     "base_uri": "https://localhost:8080/",
     "height": 278
    },
    "id": "F_U9kGuNFtHy",
    "outputId": "d2bfa742-9483-48be-fdb0-d7ab28c5efbc"
   },
   "outputs": [
    {
     "data": {
      "image/png": "[encoded data removed]",
      "text/plain": [
       "<Figure size 432x288 with 1 Axes>"
      ]
     },
     "metadata": {
      "needs_background": "light"
     },
     "output_type": "display_data"
    }
   ],
   "source": [
    "# Confusion matrix for mlp\n",
    "mat = confusion_matrix(ytest, y_pred)\n",
    "sns.heatmap(mat.T, square=True, annot=True, fmt='d', cbar=False,\n",
    "            # xticklabels=faces.target_names,\n",
    "            # yticklabels=faces.target_names\n",
    "            )\n",
    "plt.xlabel('true label')\n",
    "plt.ylabel('predicted label');"
   ]
  },
  {
   "cell_type": "code",
   "execution_count": 42,
   "metadata": {
    "colab": {
     "base_uri": "https://localhost:8080/"
    },
    "id": "peF9GcTeVV8O",
    "outputId": "1d1cc2f2-7d1b-4672-b8d9-48177fadb5f8"
   },
   "outputs": [],
   "source": [
    "\n",
    "# print(np.max(y))\n",
    "# print(np.min(y))\n",
    "# print(np.array([np.where(y > 2)]))\n",
    "# for name, idx in indexes.items():\n",
    "#     if idx == 454:\n",
    "#         print(name)\n",
    "# print(indexes)"
   ]
  },
  {
   "cell_type": "code",
   "execution_count": 45,
   "metadata": {
    "colab": {
     "base_uri": "https://localhost:8080/",
     "height": 1000
    },
    "id": "k0E0eetNHWQu",
    "outputId": "5915d4df-6b1c-4f26-95ea-04297d98c906"
   },
   "outputs": [
    {
     "name": "stdout",
     "output_type": "stream",
     "text": [
      "(17100, 61440) (17100,)\n",
      "(1900, 61440) (1900,)\n"
     ]
    },
    {
     "name": "stderr",
     "output_type": "stream",
     "text": [
      "/Users/phunp/opt/anaconda3/envs/py37/lib/python3.7/site-packages/sklearn/neural_network/_multilayer_perceptron.py:471: ConvergenceWarning: lbfgs failed to converge (status=1):\n",
      "STOP: TOTAL NO. of ITERATIONS REACHED LIMIT.\n",
      "\n",
      "Increase the number of iterations (max_iter) or scale the data as shown in:\n",
      "    https://scikit-learn.org/stable/modules/preprocessing.html\n",
      "  self.n_iter_ = _check_optimize_result(\"lbfgs\", opt_res, self.max_iter)\n"
     ]
    },
    {
     "name": "stdout",
     "output_type": "stream",
     "text": [
      "training score  : 0.20\n",
      "[5 2 4 ... 4 5 7]\n",
      "--- min 0 and max 7\n",
      "accuracy is 13.95%\n",
      "\n",
      "shape of current confusion_matrix of current fold 1 is [[13 23 33 24 30 30 29 20]\n",
      " [10 27 37 23 39 21 48 22]\n",
      " [ 7 43 37 18 34 43 39 26]\n",
      " [15 39 37 34 34 30 38 28]\n",
      " [16 32 39 18 50 41 47 20]\n",
      " [ 6 26 33 22 64 38 50 23]\n",
      " [12 38 31 17 46 35 50 22]\n",
      " [ 9 23 17 23 31 33 41 16]]\n",
      "(17100, 61440) (17100,)\n",
      "(1900, 61440) (1900,)\n"
     ]
    },
    {
     "name": "stderr",
     "output_type": "stream",
     "text": [
      "/Users/phunp/opt/anaconda3/envs/py37/lib/python3.7/site-packages/sklearn/neural_network/_multilayer_perceptron.py:471: ConvergenceWarning: lbfgs failed to converge (status=1):\n",
      "STOP: TOTAL NO. of ITERATIONS REACHED LIMIT.\n",
      "\n",
      "Increase the number of iterations (max_iter) or scale the data as shown in:\n",
      "    https://scikit-learn.org/stable/modules/preprocessing.html\n",
      "  self.n_iter_ = _check_optimize_result(\"lbfgs\", opt_res, self.max_iter)\n"
     ]
    },
    {
     "name": "stdout",
     "output_type": "stream",
     "text": [
      "training score  : 0.19\n",
      "[4 4 7 ... 0 2 6]\n",
      "--- min 0 and max 7\n",
      "accuracy is 11.89%\n",
      "\n",
      "shape of current confusion_matrix of current fold 2 is [[11 26 29 17 42 18 41 18]\n",
      " [18 24 35 19 47 21 38 25]\n",
      " [14 21 29 27 57 30 37 32]\n",
      " [20 25 31 24 62 29 47 17]\n",
      " [17 33 17 39 53 38 39 27]\n",
      " [ 9 38 19 27 61 31 47 31]\n",
      " [ 9 33 23 22 65 37 34 28]\n",
      " [14 21 19 15 37 28 38 20]]\n",
      "(17100, 61440) (17100,)\n",
      "(1900, 61440) (1900,)\n"
     ]
    },
    {
     "name": "stderr",
     "output_type": "stream",
     "text": [
      "/Users/phunp/opt/anaconda3/envs/py37/lib/python3.7/site-packages/sklearn/neural_network/_multilayer_perceptron.py:471: ConvergenceWarning: lbfgs failed to converge (status=1):\n",
      "STOP: TOTAL NO. of ITERATIONS REACHED LIMIT.\n",
      "\n",
      "Increase the number of iterations (max_iter) or scale the data as shown in:\n",
      "    https://scikit-learn.org/stable/modules/preprocessing.html\n",
      "  self.n_iter_ = _check_optimize_result(\"lbfgs\", opt_res, self.max_iter)\n"
     ]
    },
    {
     "name": "stdout",
     "output_type": "stream",
     "text": [
      "training score  : 0.20\n",
      "[0 3 5 ... 3 4 2]\n",
      "--- min 0 and max 7\n",
      "accuracy is 12.84%\n",
      "\n",
      "shape of current confusion_matrix of current fold 3 is [[29 21 24 41 17 18 34 18]\n",
      " [31 17 18 38 24 45 38 16]\n",
      " [27 21 30 41 38 37 30 23]\n",
      " [21 27 28 45 35 40 42 17]\n",
      " [32 17 27 63 31 34 35 24]\n",
      " [17 25 28 57 33 32 41 30]\n",
      " [29 20 32 46 30 34 41 19]\n",
      " [19 12 24 44 26 27 21 19]]\n",
      "(17100, 61440) (17100,)\n",
      "(1900, 61440) (1900,)\n"
     ]
    },
    {
     "name": "stderr",
     "output_type": "stream",
     "text": [
      "/Users/phunp/opt/anaconda3/envs/py37/lib/python3.7/site-packages/sklearn/neural_network/_multilayer_perceptron.py:471: ConvergenceWarning: lbfgs failed to converge (status=1):\n",
      "STOP: TOTAL NO. of ITERATIONS REACHED LIMIT.\n",
      "\n",
      "Increase the number of iterations (max_iter) or scale the data as shown in:\n",
      "    https://scikit-learn.org/stable/modules/preprocessing.html\n",
      "  self.n_iter_ = _check_optimize_result(\"lbfgs\", opt_res, self.max_iter)\n"
     ]
    },
    {
     "name": "stdout",
     "output_type": "stream",
     "text": [
      "training score  : 0.20\n",
      "[4 6 7 ... 6 5 6]\n",
      "--- min 0 and max 7\n",
      "accuracy is 13.00%\n",
      "\n",
      "shape of current confusion_matrix of current fold 4 is [[17 28 23 16 36 35 33 14]\n",
      " [31 20 27 32 29 43 34 12]\n",
      " [27 28 26 32 32 48 33 21]\n",
      " [25 20 30 40 39 45 38 18]\n",
      " [22 15 39 39 39 48 33 28]\n",
      " [31 21 25 27 33 58 49 19]\n",
      " [23 15 30 38 40 50 30 24]\n",
      " [10 20 24 24 21 48 28 17]]\n",
      "(17100, 61440) (17100,)\n",
      "(1900, 61440) (1900,)\n"
     ]
    },
    {
     "name": "stderr",
     "output_type": "stream",
     "text": [
      "/Users/phunp/opt/anaconda3/envs/py37/lib/python3.7/site-packages/sklearn/neural_network/_multilayer_perceptron.py:471: ConvergenceWarning: lbfgs failed to converge (status=1):\n",
      "STOP: TOTAL NO. of ITERATIONS REACHED LIMIT.\n",
      "\n",
      "Increase the number of iterations (max_iter) or scale the data as shown in:\n",
      "    https://scikit-learn.org/stable/modules/preprocessing.html\n",
      "  self.n_iter_ = _check_optimize_result(\"lbfgs\", opt_res, self.max_iter)\n"
     ]
    },
    {
     "name": "stdout",
     "output_type": "stream",
     "text": [
      "training score  : 0.19\n",
      "[2 4 0 ... 4 7 4]\n",
      "--- min 0 and max 7\n",
      "accuracy is 12.05%\n",
      "\n",
      "shape of current confusion_matrix of current fold 5 is [[24 20 27 24 29 32 23 22]\n",
      " [22 20 29 26 39 43 29 20]\n",
      " [26 33 29 20 43 39 28 29]\n",
      " [28 17 49 14 47 40 32 28]\n",
      " [24 23 35 23 43 34 45 36]\n",
      " [33 19 40 21 44 42 35 29]\n",
      " [20 25 24 24 42 42 33 41]\n",
      " [15 17 25 13 31 35 32 24]]\n",
      "(17100, 61440) (17100,)\n",
      "(1900, 61440) (1900,)\n",
      "training score  : 0.19\n",
      "[3 7 4 ... 6 0 1]\n",
      "--- min 0 and max 7\n",
      "accuracy is 12.32%\n",
      "\n",
      "shape of current confusion_matrix of current fold 6 is [[28 11 29 46 30 17 13 28]\n",
      " [26  9 32 39 50 21 21 30]\n",
      " [28 12 28 35 50 32 22 39]\n",
      " [36 11 26 34 58 27 39 24]\n",
      " [27 12 41 44 50 38 27 24]\n",
      " [27 13 34 44 52 33 28 32]\n",
      " [20 20 33 29 53 26 33 37]\n",
      " [24 15 28 24 32 22 28 19]]\n",
      "(17100, 61440) (17100,)\n",
      "(1900, 61440) (1900,)\n"
     ]
    },
    {
     "name": "stderr",
     "output_type": "stream",
     "text": [
      "/Users/phunp/opt/anaconda3/envs/py37/lib/python3.7/site-packages/sklearn/neural_network/_multilayer_perceptron.py:471: ConvergenceWarning: lbfgs failed to converge (status=1):\n",
      "STOP: TOTAL NO. of ITERATIONS REACHED LIMIT.\n",
      "\n",
      "Increase the number of iterations (max_iter) or scale the data as shown in:\n",
      "    https://scikit-learn.org/stable/modules/preprocessing.html\n",
      "  self.n_iter_ = _check_optimize_result(\"lbfgs\", opt_res, self.max_iter)\n"
     ]
    },
    {
     "name": "stdout",
     "output_type": "stream",
     "text": [
      "training score  : 0.20\n",
      "[3 2 4 ... 6 2 0]\n",
      "--- min 0 and max 7\n",
      "accuracy is 11.89%\n",
      "\n",
      "shape of current confusion_matrix of current fold 7 is [[24 25 42 14 52 17 26  2]\n",
      " [24 22 40 13 61 22 39  7]\n",
      " [30 29 47 14 60 28 26 13]\n",
      " [27 21 57 17 56 28 42  7]\n",
      " [30 24 50 19 57 25 40 18]\n",
      " [31 21 57 20 69 16 37 11]\n",
      " [32 24 40 18 58 34 35 10]\n",
      " [21 16 36 14 38 29 30  8]]\n",
      "(17100, 61440) (17100,)\n",
      "(1900, 61440) (1900,)\n"
     ]
    },
    {
     "name": "stderr",
     "output_type": "stream",
     "text": [
      "/Users/phunp/opt/anaconda3/envs/py37/lib/python3.7/site-packages/sklearn/neural_network/_multilayer_perceptron.py:471: ConvergenceWarning: lbfgs failed to converge (status=1):\n",
      "STOP: TOTAL NO. of ITERATIONS REACHED LIMIT.\n",
      "\n",
      "Increase the number of iterations (max_iter) or scale the data as shown in:\n",
      "    https://scikit-learn.org/stable/modules/preprocessing.html\n",
      "  self.n_iter_ = _check_optimize_result(\"lbfgs\", opt_res, self.max_iter)\n"
     ]
    },
    {
     "name": "stdout",
     "output_type": "stream",
     "text": [
      "training score  : 0.19\n",
      "[5 3 0 ... 2 5 1]\n",
      "--- min 0 and max 7\n",
      "accuracy is 12.63%\n",
      "\n",
      "shape of current confusion_matrix of current fold 8 is [[24 26 22 41 25 26 30  8]\n",
      " [37 14 21 43 15 41 41 16]\n",
      " [25 21 32 52 18 48 42  9]\n",
      " [25 20 35 48 19 51 41 16]\n",
      " [24 19 41 66 24 41 38 10]\n",
      " [34 14 37 48 29 43 42 15]\n",
      " [23 14 36 43 23 53 48 11]\n",
      " [24 13 28 31 13 40 36  7]]\n",
      "(17100, 61440) (17100,)\n",
      "(1900, 61440) (1900,)\n"
     ]
    },
    {
     "name": "stderr",
     "output_type": "stream",
     "text": [
      "/Users/phunp/opt/anaconda3/envs/py37/lib/python3.7/site-packages/sklearn/neural_network/_multilayer_perceptron.py:471: ConvergenceWarning: lbfgs failed to converge (status=1):\n",
      "STOP: TOTAL NO. of ITERATIONS REACHED LIMIT.\n",
      "\n",
      "Increase the number of iterations (max_iter) or scale the data as shown in:\n",
      "    https://scikit-learn.org/stable/modules/preprocessing.html\n",
      "  self.n_iter_ = _check_optimize_result(\"lbfgs\", opt_res, self.max_iter)\n"
     ]
    },
    {
     "name": "stdout",
     "output_type": "stream",
     "text": [
      "training score  : 0.20\n",
      "[5 7 2 ... 7 0 7]\n",
      "--- min 0 and max 7\n",
      "accuracy is 12.11%\n",
      "\n",
      "shape of current confusion_matrix of current fold 9 is [[27 27 28 10 47 28 11 24]\n",
      " [25 26 27 16 56 38 12 28]\n",
      " [31 26 23 18 56 36 14 43]\n",
      " [33 29 18 22 56 51 16 30]\n",
      " [27 32 33 21 51 48 18 33]\n",
      " [29 24 31 16 63 41 17 41]\n",
      " [28 21 31 16 57 43 12 43]\n",
      " [32 18 20 10 33 35 16 28]]\n",
      "(17100, 61440) (17100,)\n",
      "(1900, 61440) (1900,)\n"
     ]
    },
    {
     "name": "stderr",
     "output_type": "stream",
     "text": [
      "/Users/phunp/opt/anaconda3/envs/py37/lib/python3.7/site-packages/sklearn/neural_network/_multilayer_perceptron.py:471: ConvergenceWarning: lbfgs failed to converge (status=1):\n",
      "STOP: TOTAL NO. of ITERATIONS REACHED LIMIT.\n",
      "\n",
      "Increase the number of iterations (max_iter) or scale the data as shown in:\n",
      "    https://scikit-learn.org/stable/modules/preprocessing.html\n",
      "  self.n_iter_ = _check_optimize_result(\"lbfgs\", opt_res, self.max_iter)\n"
     ]
    },
    {
     "name": "stdout",
     "output_type": "stream",
     "text": [
      "training score  : 0.20\n",
      "[2 0 2 ... 6 5 2]\n",
      "--- min 0 and max 7\n",
      "accuracy is 12.42%\n",
      "\n",
      "shape of current confusion_matrix of current fold 10 is [[32 16 37 19 24 28 27 19]\n",
      " [33 15 44 27 28 34 32 14]\n",
      " [41 14 39 43 31 37 30 12]\n",
      " [31 17 38 40 40 46 30 14]\n",
      " [35 17 41 45 27 40 42 16]\n",
      " [40 12 45 38 38 29 34 26]\n",
      " [28 16 38 40 33 39 42 15]\n",
      " [26 12 24 18 32 36 32 12]]\n",
      "Average Accuracy: 12.51% +/- 0.6% SD\n",
      "[array([[13, 23, 33, 24, 30, 30, 29, 20],\n",
      "       [10, 27, 37, 23, 39, 21, 48, 22],\n",
      "       [ 7, 43, 37, 18, 34, 43, 39, 26],\n",
      "       [15, 39, 37, 34, 34, 30, 38, 28],\n",
      "       [16, 32, 39, 18, 50, 41, 47, 20],\n",
      "       [ 6, 26, 33, 22, 64, 38, 50, 23],\n",
      "       [12, 38, 31, 17, 46, 35, 50, 22],\n",
      "       [ 9, 23, 17, 23, 31, 33, 41, 16]]), array([[11, 26, 29, 17, 42, 18, 41, 18],\n",
      "       [18, 24, 35, 19, 47, 21, 38, 25],\n",
      "       [14, 21, 29, 27, 57, 30, 37, 32],\n",
      "       [20, 25, 31, 24, 62, 29, 47, 17],\n",
      "       [17, 33, 17, 39, 53, 38, 39, 27],\n",
      "       [ 9, 38, 19, 27, 61, 31, 47, 31],\n",
      "       [ 9, 33, 23, 22, 65, 37, 34, 28],\n",
      "       [14, 21, 19, 15, 37, 28, 38, 20]]), array([[29, 21, 24, 41, 17, 18, 34, 18],\n",
      "       [31, 17, 18, 38, 24, 45, 38, 16],\n",
      "       [27, 21, 30, 41, 38, 37, 30, 23],\n",
      "       [21, 27, 28, 45, 35, 40, 42, 17],\n",
      "       [32, 17, 27, 63, 31, 34, 35, 24],\n",
      "       [17, 25, 28, 57, 33, 32, 41, 30],\n",
      "       [29, 20, 32, 46, 30, 34, 41, 19],\n",
      "       [19, 12, 24, 44, 26, 27, 21, 19]]), array([[17, 28, 23, 16, 36, 35, 33, 14],\n",
      "       [31, 20, 27, 32, 29, 43, 34, 12],\n",
      "       [27, 28, 26, 32, 32, 48, 33, 21],\n",
      "       [25, 20, 30, 40, 39, 45, 38, 18],\n",
      "       [22, 15, 39, 39, 39, 48, 33, 28],\n",
      "       [31, 21, 25, 27, 33, 58, 49, 19],\n",
      "       [23, 15, 30, 38, 40, 50, 30, 24],\n",
      "       [10, 20, 24, 24, 21, 48, 28, 17]]), array([[24, 20, 27, 24, 29, 32, 23, 22],\n",
      "       [22, 20, 29, 26, 39, 43, 29, 20],\n",
      "       [26, 33, 29, 20, 43, 39, 28, 29],\n",
      "       [28, 17, 49, 14, 47, 40, 32, 28],\n",
      "       [24, 23, 35, 23, 43, 34, 45, 36],\n",
      "       [33, 19, 40, 21, 44, 42, 35, 29],\n",
      "       [20, 25, 24, 24, 42, 42, 33, 41],\n",
      "       [15, 17, 25, 13, 31, 35, 32, 24]]), array([[28, 11, 29, 46, 30, 17, 13, 28],\n",
      "       [26,  9, 32, 39, 50, 21, 21, 30],\n",
      "       [28, 12, 28, 35, 50, 32, 22, 39],\n",
      "       [36, 11, 26, 34, 58, 27, 39, 24],\n",
      "       [27, 12, 41, 44, 50, 38, 27, 24],\n",
      "       [27, 13, 34, 44, 52, 33, 28, 32],\n",
      "       [20, 20, 33, 29, 53, 26, 33, 37],\n",
      "       [24, 15, 28, 24, 32, 22, 28, 19]]), array([[24, 25, 42, 14, 52, 17, 26,  2],\n",
      "       [24, 22, 40, 13, 61, 22, 39,  7],\n",
      "       [30, 29, 47, 14, 60, 28, 26, 13],\n",
      "       [27, 21, 57, 17, 56, 28, 42,  7],\n",
      "       [30, 24, 50, 19, 57, 25, 40, 18],\n",
      "       [31, 21, 57, 20, 69, 16, 37, 11],\n",
      "       [32, 24, 40, 18, 58, 34, 35, 10],\n",
      "       [21, 16, 36, 14, 38, 29, 30,  8]]), array([[24, 26, 22, 41, 25, 26, 30,  8],\n",
      "       [37, 14, 21, 43, 15, 41, 41, 16],\n",
      "       [25, 21, 32, 52, 18, 48, 42,  9],\n",
      "       [25, 20, 35, 48, 19, 51, 41, 16],\n",
      "       [24, 19, 41, 66, 24, 41, 38, 10],\n",
      "       [34, 14, 37, 48, 29, 43, 42, 15],\n",
      "       [23, 14, 36, 43, 23, 53, 48, 11],\n",
      "       [24, 13, 28, 31, 13, 40, 36,  7]]), array([[27, 27, 28, 10, 47, 28, 11, 24],\n",
      "       [25, 26, 27, 16, 56, 38, 12, 28],\n",
      "       [31, 26, 23, 18, 56, 36, 14, 43],\n",
      "       [33, 29, 18, 22, 56, 51, 16, 30],\n",
      "       [27, 32, 33, 21, 51, 48, 18, 33],\n",
      "       [29, 24, 31, 16, 63, 41, 17, 41],\n",
      "       [28, 21, 31, 16, 57, 43, 12, 43],\n",
      "       [32, 18, 20, 10, 33, 35, 16, 28]]), array([[32, 16, 37, 19, 24, 28, 27, 19],\n",
      "       [33, 15, 44, 27, 28, 34, 32, 14],\n",
      "       [41, 14, 39, 43, 31, 37, 30, 12],\n",
      "       [31, 17, 38, 40, 40, 46, 30, 14],\n",
      "       [35, 17, 41, 45, 27, 40, 42, 16],\n",
      "       [40, 12, 45, 38, 38, 29, 34, 26],\n",
      "       [28, 16, 38, 40, 33, 39, 42, 15],\n",
      "       [26, 12, 24, 18, 32, 36, 32, 12]])]\n",
      "[[229 223 294 252 332 249 267 173]\n",
      " [257 194 310 276 388 329 332 190]\n",
      " [256 248 320 300 419 378 301 247]\n",
      " [261 226 349 318 446 387 365 199]\n",
      " [254 224 363 377 425 387 364 236]\n",
      " [257 213 349 320 486 363 380 257]\n",
      " [224 226 318 293 447 393 358 250]\n",
      " [194 167 245 216 294 333 302 170]]\n"
     ]
    },
    {
     "ename": "TypeError",
     "evalue": "cannot unpack non-iterable numpy.float64 object",
     "output_type": "error",
     "traceback": [
      "\u001b[0;31m---------------------------------------------------------------------------\u001b[0m",
      "\u001b[0;31mTypeError\u001b[0m                                 Traceback (most recent call last)",
      "\u001b[0;32m<ipython-input-45-b3ce61281796>\u001b[0m in \u001b[0;36m<module>\u001b[0;34m\u001b[0m\n\u001b[1;32m    210\u001b[0m \u001b[0mprint\u001b[0m\u001b[0;34m(\u001b[0m\u001b[0mcm_all\u001b[0m\u001b[0;34m)\u001b[0m \u001b[0;31m# ACC, PPV, TPR, F1, BM\u001b[0m\u001b[0;34m\u001b[0m\u001b[0;34m\u001b[0m\u001b[0m\n\u001b[1;32m    211\u001b[0m \u001b[0;34m\u001b[0m\u001b[0m\n\u001b[0;32m--> 212\u001b[0;31m \u001b[0macc_a\u001b[0m\u001b[0;34m,\u001b[0m \u001b[0mprec_a\u001b[0m\u001b[0;34m,\u001b[0m \u001b[0mrecall_a\u001b[0m\u001b[0;34m,\u001b[0m \u001b[0mf1_a\u001b[0m\u001b[0;34m,\u001b[0m \u001b[0mbm_a\u001b[0m \u001b[0;34m=\u001b[0m \u001b[0mcalculate_bm\u001b[0m\u001b[0;34m(\u001b[0m\u001b[0mcm_all\u001b[0m\u001b[0;34m)\u001b[0m\u001b[0;34m\u001b[0m\u001b[0;34m\u001b[0m\u001b[0m\n\u001b[0m\u001b[1;32m    213\u001b[0m \u001b[0mprint\u001b[0m\u001b[0;34m(\u001b[0m\u001b[0;34m'-- Overall Accuracy      : {0}'\u001b[0m\u001b[0;34m.\u001b[0m\u001b[0mformat\u001b[0m\u001b[0;34m(\u001b[0m\u001b[0mnp\u001b[0m\u001b[0;34m.\u001b[0m\u001b[0mround\u001b[0m\u001b[0;34m(\u001b[0m\u001b[0macc_a\u001b[0m\u001b[0;34m*\u001b[0m\u001b[0;36m100\u001b[0m\u001b[0;34m,\u001b[0m\u001b[0;36m2\u001b[0m\u001b[0;34m)\u001b[0m\u001b[0;34m)\u001b[0m\u001b[0;34m)\u001b[0m\u001b[0;34m\u001b[0m\u001b[0;34m\u001b[0m\u001b[0m\n\u001b[1;32m    214\u001b[0m \u001b[0mprint\u001b[0m\u001b[0;34m(\u001b[0m\u001b[0;34m'-- Overall Precision     : {0}'\u001b[0m\u001b[0;34m.\u001b[0m\u001b[0mformat\u001b[0m\u001b[0;34m(\u001b[0m\u001b[0mnp\u001b[0m\u001b[0;34m.\u001b[0m\u001b[0mround\u001b[0m\u001b[0;34m(\u001b[0m\u001b[0mprec_a\u001b[0m\u001b[0;34m,\u001b[0m\u001b[0;36m2\u001b[0m\u001b[0;34m)\u001b[0m\u001b[0;34m)\u001b[0m\u001b[0;34m)\u001b[0m\u001b[0;34m\u001b[0m\u001b[0;34m\u001b[0m\u001b[0m\n",
      "\u001b[0;31mTypeError\u001b[0m: cannot unpack non-iterable numpy.float64 object"
     ]
    }
   ],
   "source": [
    "# Run K fold\n",
    "import numpy as np\n",
    "import pandas as pd\n",
    "\n",
    "from matplotlib import pyplot as plt\n",
    "\n",
    "import seaborn as sns\n",
    "\n",
    "from sklearn.model_selection import train_test_split\n",
    "from sklearn.neural_network import MLPClassifier\n",
    "from sklearn.datasets import make_blobs\n",
    "from sklearn.datasets import make_circles\n",
    "\n",
    "from sklearn.metrics import confusion_matrix\n",
    "from sklearn.metrics import classification_report\n",
    "from sklearn.metrics import f1_score\n",
    "from sklearn.metrics import accuracy_score\n",
    "\n",
    "from sklearn.model_selection import StratifiedKFold\n",
    "from sklearn import preprocessing\n",
    "\n",
    "### Split into training and testing\n",
    "#\n",
    "# Here we use the `train_test_split` function from the `sklearn.model_selection` module.  The parameter `test_size=0.3` specifies the percentage (30%) of the data to use as test data, `random_state=0` sets the random generator to a specific state, and `stratify=y` is important to maintain the same ratio of class distribution between the train and test splits.\n",
    "#\n",
    "# This is the simplest way to split the data.\n",
    "#\n",
    "# x_train, x_test, y_train, y_test = train_test_split(X, y, test_size=0.3, random_state=0, stratify=y)\n",
    "\n",
    "y = Y\n",
    "\n",
    "kf = StratifiedKFold(n_splits=10, shuffle=True, random_state=2)\n",
    "\n",
    "foldi = 1\n",
    "ac = [] # accuracy_score\n",
    "cr = [] # classification_report\n",
    "cm = [] # confusion_matrix\n",
    "\n",
    "for train_split, test_split in kf.split(X, y):\n",
    "    # print(\"train {} and test {}\".format(train_split, test_split))\n",
    "    x_train = X[train_split]\n",
    "    y_train = y[train_split]\n",
    "\n",
    "    x_test = X[test_split]\n",
    "    y_test = y[test_split]\n",
    "\n",
    "    # converting to float 32bit\n",
    "    # x_train = np.array(x_train).astype(np.float32)\n",
    "    # x_test  = np.array(x_test).astype(np.float32)\n",
    "    # y_train = np.array(y_train).astype(np.float32)\n",
    "    # y_test  = np.array(y_test).astype(np.float32)\n",
    "\n",
    "    # print data split for validation\n",
    "    print(x_train.shape, y_train.shape)\n",
    "    print(x_test.shape, y_test.shape)\n",
    "\n",
    "    # calculate transformation values on the *train* data\n",
    "    scaler = preprocessing.StandardScaler().fit(x_train)\n",
    "\n",
    "    # apply to both the train and test - no leakage\n",
    "    do_normalize = True # change this to True or False to see the affect of normalization\n",
    "    # if (do_normalize):\n",
    "    #   x_train_scaled = scaler.transform(x_train)\n",
    "    #   x_test_scaled  = scaler.transform(x_test)\n",
    "    # else:\n",
    "    #   x_train_scaled = x_train \n",
    "    #   x_test_scaled  = x_test\n",
    "\n",
    "    # #converting to float 32bit\n",
    "    # x_train_scaled = np.array(x_train_scaled).astype(np.float32)\n",
    "    # x_test_scaled  = np.array(x_test_scaled).astype(np.float32)\n",
    "    # y_train = np.array(y_train).astype(np.float32)\n",
    "    # y_test  = np.array(y_test).astype(np.float32)\n",
    "    if (do_normalize):\n",
    "        # normalise features\n",
    "        input_std = StandardScaler()\n",
    "        input_std.fit(Xtrain)\n",
    "        x_train_scaled = input_std.transform(x_train)\n",
    "        x_test_scaled = input_std.transform(x_test)\n",
    "\n",
    "    # do the PCA, choose the numbher of components to retain\n",
    "    input_pca = PCA(n_components=50, whiten=True)\n",
    "    input_pca.fit(x_train_scaled)\n",
    "    x_train_scaled = input_pca.transform(x_train_scaled)\n",
    "    x_test_scaled = input_pca.transform(x_test_scaled)\n",
    "\n",
    "    ### Set up the model\n",
    "    #\n",
    "    # Setting up the model is where we can change settings and evaluate the affect on performance.  You can change settings such as\n",
    "    # - `hidden_layer_sizes`: fewer nodes means less to optimize and quicker training, but too few nodes cannot model more complex problems.  How does it go with 1, 2, 3, 5, 10, more?\n",
    "    # - `max_iter`: the number of iterations to train for.  Too many will take too long, but too few and the MLP may stop before it converges.  What's the smallest max_iter to get 'good' performance?\n",
    "    #\n",
    "    # Have a look at the [documentation for the MLPClassifier](https://scikit-learn.org/stable/modules/generated/sklearn.neural_network.MLPClassifier.html) to see what the different parameters do to the learning.\n",
    "\n",
    "    # model initialization\n",
    "    hidden_layer_size = 20\n",
    "    max_iter = 2000\n",
    "    mlp = MLPClassifier(hidden_layer_sizes=(hidden_layer_size), max_iter=max_iter, alpha=0.01, #try change hidden layer, or max_iter\n",
    "                    solver='lbfgs', verbose=0, tol=0.000001, #try verbode=0 to train with out logging\n",
    "                    early_stopping=False, momentum=0.9, \n",
    "                    learning_rate='constant', max_fun=15000) \n",
    "\n",
    "    ### Train the Model\n",
    "    # The function call to `fit` trains the model using the training data.  \n",
    "    h = mlp.fit(x_train_scaled,y_train)\n",
    "\n",
    "    print('training score  : {:.2f}'.format(h.score(x_train_scaled,y_train)))\n",
    "    if (h.early_stopping): \n",
    "        print('validation score: {:.2f}'.format(h.best_validation_score_))\n",
    "\n",
    "    # evaluate the model\n",
    "    # y_prob = mlp.predict_proba(x_test_scaled)\n",
    "    y_prob = mlp.predict(x_test_scaled)\n",
    "    y_pred = y_prob\n",
    "    print(y_prob)\n",
    "    # y_pred = (y_pred == y_pred.max(axis=1)[:,None]).astype(int)\n",
    "    print('--- min {} and max {}'.format(np.min(y_pred), np.max(y_pred)))\n",
    "\n",
    "    # y_test_max = y_test.argmax(axis=1).astype(int)\n",
    "    # y_test_max = y_test\n",
    "    # print('y_test {} -> y_test_max {}'.format(y_test, y_test_max))\n",
    "    # y_pred_max = y_pred.argmax(axis=1).astype(int)\n",
    "    # print('--- content of y_test_max: {0}, y_pred_max: {1}'.format(y_test_max, y_pred_max))\n",
    "\n",
    "    ac.append(accuracy_score(y_test,y_pred))\n",
    "    print('accuracy is {:.2f}%'.format(ac[-1]*100)) # Print accuracy score\n",
    "    print()\n",
    "    cr.append(classification_report(y_test,y_pred)) # Print summary report\n",
    "    print('shape of current confusion_matrix of current fold {0} is {1}'.format(foldi, confusion_matrix(y_test, y_pred)))\n",
    "    cm.append(confusion_matrix(y_test, y_pred))\n",
    "\n",
    "    foldi = foldi + 1\n",
    "\n",
    "    ### Plot a loss curve\n",
    "    # The loss curve shows the history of how the training progressed.\n",
    "    # plt.plot(h.loss_curve_)\n",
    "    # plt.title('Loss History for ' + data_name)\n",
    "    # plt.xlabel('epoch')\n",
    "    # plt.legend(['Loss'])\n",
    "\n",
    "\n",
    "    ## Evaluate the performance of the classifier\n",
    "    # Let's have a look at predicting the first 10 instances in the test data set.  How did it do?  How many matches?\n",
    "    # print('predictions: {0}'.format(mlp.predict(x_test[0:10,:])))\n",
    "    # print('acutal     : {0}'.format(np.ravel(y_test)[0:10]))\n",
    "\n",
    "    # # Calculate evaluation measures\n",
    "    # print()\n",
    "    # print('Evaluation of hidden_layer_size: {}, max_iter: {}'.format(hidden_layer_size, max_iter))\n",
    "    # print()\n",
    "    # y_pred = mlp.predict(x_test)\n",
    "    # cm = confusion_matrix(y_test, y_pred,normalize=None)\n",
    "    # cms.append(cm)\n",
    "    # cr = classification_report(y_test,y_pred)\n",
    "    # crs.append(cr)\n",
    "    # print(cr)\n",
    "    # f1 = f1_score(y_test, y_pred,average='weighted')\n",
    "    # f1s.append(f1)\n",
    "    # cm = confusion_matrix(y_test, y_pred)\n",
    "    # bm = calculate_bm(cm)\n",
    "    # bms.append(bm)\n",
    "    # print(cm)\n",
    "    # print('Bookmaker for {0} is {1:.2f}'.format(data_name,bm))\n",
    "\n",
    "    # # Create a confusion matrx using the function `confusion_matrix` and plot using seaborn\n",
    "    # df_cm = pd.DataFrame(cm, columns=['0','1'], index=['0','1'])\n",
    "    # fig, ax1 = plt.subplots(1,1, figsize=(10,8))\n",
    "    # ax = sns.heatmap(df_cm, annot=True, ax=ax1, square=True,  cmap=\"YlGnBu\", fmt='d')\n",
    "    # ax.set_title('Confusion Matrix with {1} nodes, bm = {2:.2f}'.format(data_name,hidden_layer_size,bm))\n",
    "    # ax.set_xlabel('predicted')\n",
    "    # ax.set_ylabel('actual')\n",
    "\n",
    "\n",
    "####### evaluated from Evaluating Machine Learning\n",
    "print('Average Accuracy: {0}% +/- {1}% SD'.format(np.round(np.mean(ac)*100,2),np.round(np.std(ac)*100,2)))\n",
    "\n",
    "def precision(label, confusion_matrix):\n",
    "    col = confusion_matrix[:, label]\n",
    "    return confusion_matrix[label, label] / col.sum()\n",
    "    \n",
    "def recall(label, confusion_matrix):\n",
    "    row = confusion_matrix[label, :]\n",
    "    return confusion_matrix[label, label] / row.sum()\n",
    "\n",
    "def precision_macro_average(confusion_matrix):\n",
    "    rows, columns = confusion_matrix.shape\n",
    "    sum_of_precisions = 0\n",
    "    for label in range(rows):\n",
    "        sum_of_precisions += precision(label, confusion_matrix)\n",
    "    return sum_of_precisions / rows\n",
    "\n",
    "def recall_macro_average(confusion_matrix):\n",
    "    rows, columns = confusion_matrix.shape\n",
    "    sum_of_recalls = 0\n",
    "    for label in range(columns):\n",
    "        sum_of_recalls += recall(label, confusion_matrix)\n",
    "    return sum_of_recalls / columns\n",
    "\n",
    "def f1score(confusion_matrix):\n",
    "    precision = precision_macro_average(confusion_matrix)\n",
    "    recall = recall_macro_average(confusion_matrix)\n",
    "    return (2 * recall * precision) / (recall + precision)\n",
    "\n",
    "\n",
    "# print('shape cm {0}'.format(np.shape(cm)))\n",
    "# print('shapeeeee {0}'.format(np.shape(np.stack(cm,axis=2))))\n",
    "\n",
    "print(cm)\n",
    "cm_all = np.sum(np.stack(cm,axis=2),axis=2)\n",
    "print(cm_all) # ACC, PPV, TPR, F1, BM\n",
    "\n",
    "acc_a, prec_a, recall_a, f1_a, bm_a = calculate_bm(cm_all)\n",
    "print('-- Overall Accuracy      : {0}'.format(np.round(acc_a*100,2)))\n",
    "print('-- Overall Precision     : {0}'.format(np.round(prec_a,2)))\n",
    "print('-- Overall Recall        : {0}'.format(np.round(recall_a,2)))\n",
    "print('-- Overall F1-score      : {0}'.format(np.round(f1_a,2)))\n",
    "print('-- Overall Bookmaker     : {0}'.format(np.round(bm_a,2)))\n",
    "\n",
    "print('Old way to calculate: ')\n",
    "acc_all = np.sum(np.diag(cm_all)) / np.sum(cm_all,axis=(0, 1))\n",
    "print('Overall Accuracy       : {0}%'.format(np.round(acc_all*100,2)))\n",
    "\n",
    "print('Overall Macro Precision: {0}%'.format(np.round(precision_macro_average(cm_all)*100,2)))\n",
    "print('Overall Macro Recall   : {0}%'.format(np.round(recall_macro_average(cm_all)*100,2)))\n",
    "print('Overall F1-Score       : {0}'.format(np.round(f1score(cm_all),2)))\n",
    "\n",
    "# for i, label in enumerate(class_labels):\n",
    "#   print('{0}\\t precision: {1}%, recall: {2}%, f1: {3}'.format(label,np.round(precision(i,cm_all)*100,0),np.round(recall(i,cm_all)*100,0),np.round(f1score(cm_all),2)))\n",
    "\n",
    "#df_cm = pd.DataFrame((cm_all/np.sum(cm_all,axis=1)*100), columns=class_labels, index=class_labels)\n",
    "df_cm = pd.DataFrame(cm_all, columns=class_labels, index=class_labels)\n",
    "fig, ax1 = plt.subplots(1,1, figsize=(10,10))\n",
    "sns.heatmap(df_cm, annot=True, ax=ax1,square=True,  cmap=\"YlGnBu\",vmin=0,vmax=500)\n",
    "\n",
    "\n"
   ]
  },
  {
   "cell_type": "code",
   "execution_count": null,
   "metadata": {
    "colab": {
     "base_uri": "https://localhost:8080/"
    },
    "id": "_uVG_7HkbeBl",
    "outputId": "63b588ae-d7d8-4897-ae8a-b4812e6846c5"
   },
   "outputs": [
    {
     "name": "stdout",
     "output_type": "stream",
     "text": [
      "['cold' 'cold' 'warm' 'cold' 'hot' 'hot' 'warm' 'cold' 'warm' 'hot']\n",
      "[0 0 2 0 1 1 2 0 2 1]\n",
      "[[1. 0. 0.]\n",
      " [1. 0. 0.]\n",
      " [0. 0. 1.]\n",
      " [1. 0. 0.]\n",
      " [0. 1. 0.]\n",
      " [0. 1. 0.]\n",
      " [0. 0. 1.]\n",
      " [1. 0. 0.]\n",
      " [0. 0. 1.]\n",
      " [0. 1. 0.]]\n",
      "['cold']\n"
     ]
    }
   ],
   "source": [
    "from numpy import array\n",
    "\n",
    "from numpy import argmax\n",
    "from sklearn.preprocessing import LabelEncoder\n",
    "from sklearn.preprocessing import OneHotEncoder\n",
    "# define example\n",
    "data = ['cold', 'cold', 'warm', 'cold', 'hot', 'hot', 'warm', 'cold', 'warm', 'hot']\n",
    "values = array(data)\n",
    "print(values)\n",
    "# integer encode\n",
    "label_encoder = LabelEncoder()\n",
    "integer_encoded = label_encoder.fit_transform(values)\n",
    "print(integer_encoded)\n",
    "# binary encode\n",
    "onehot_encoder = OneHotEncoder(sparse=False)\n",
    "integer_encoded = integer_encoded.reshape(len(integer_encoded), 1)\n",
    "onehot_encoded = onehot_encoder.fit_transform(integer_encoded)\n",
    "print(onehot_encoded)\n",
    "# invert first example\n",
    "inverted = label_encoder.inverse_transform([argmax(onehot_encoded[0, :])])\n",
    "print(inverted)"
   ]
  },
  {
   "cell_type": "code",
   "execution_count": 46,
   "metadata": {
    "id": "YR1K8hgzZdJ2"
   },
   "outputs": [
    {
     "name": "stderr",
     "output_type": "stream",
     "text": [
      "/Users/phunp/opt/anaconda3/envs/py37/lib/python3.7/site-packages/tensorflow/python/framework/dtypes.py:516: FutureWarning: Passing (type, 1) or '1type' as a synonym of type is deprecated; in a future version of numpy, it will be understood as (type, (1,)) / '(1,)type'.\n",
      "  _np_qint8 = np.dtype([(\"qint8\", np.int8, 1)])\n",
      "/Users/phunp/opt/anaconda3/envs/py37/lib/python3.7/site-packages/tensorflow/python/framework/dtypes.py:517: FutureWarning: Passing (type, 1) or '1type' as a synonym of type is deprecated; in a future version of numpy, it will be understood as (type, (1,)) / '(1,)type'.\n",
      "  _np_quint8 = np.dtype([(\"quint8\", np.uint8, 1)])\n",
      "/Users/phunp/opt/anaconda3/envs/py37/lib/python3.7/site-packages/tensorflow/python/framework/dtypes.py:518: FutureWarning: Passing (type, 1) or '1type' as a synonym of type is deprecated; in a future version of numpy, it will be understood as (type, (1,)) / '(1,)type'.\n",
      "  _np_qint16 = np.dtype([(\"qint16\", np.int16, 1)])\n",
      "/Users/phunp/opt/anaconda3/envs/py37/lib/python3.7/site-packages/tensorflow/python/framework/dtypes.py:519: FutureWarning: Passing (type, 1) or '1type' as a synonym of type is deprecated; in a future version of numpy, it will be understood as (type, (1,)) / '(1,)type'.\n",
      "  _np_quint16 = np.dtype([(\"quint16\", np.uint16, 1)])\n",
      "/Users/phunp/opt/anaconda3/envs/py37/lib/python3.7/site-packages/tensorflow/python/framework/dtypes.py:520: FutureWarning: Passing (type, 1) or '1type' as a synonym of type is deprecated; in a future version of numpy, it will be understood as (type, (1,)) / '(1,)type'.\n",
      "  _np_qint32 = np.dtype([(\"qint32\", np.int32, 1)])\n",
      "/Users/phunp/opt/anaconda3/envs/py37/lib/python3.7/site-packages/tensorflow/python/framework/dtypes.py:525: FutureWarning: Passing (type, 1) or '1type' as a synonym of type is deprecated; in a future version of numpy, it will be understood as (type, (1,)) / '(1,)type'.\n",
      "  np_resource = np.dtype([(\"resource\", np.ubyte, 1)])\n",
      "/Users/phunp/opt/anaconda3/envs/py37/lib/python3.7/site-packages/tensorboard/compat/tensorflow_stub/dtypes.py:541: FutureWarning: Passing (type, 1) or '1type' as a synonym of type is deprecated; in a future version of numpy, it will be understood as (type, (1,)) / '(1,)type'.\n",
      "  _np_qint8 = np.dtype([(\"qint8\", np.int8, 1)])\n",
      "/Users/phunp/opt/anaconda3/envs/py37/lib/python3.7/site-packages/tensorboard/compat/tensorflow_stub/dtypes.py:542: FutureWarning: Passing (type, 1) or '1type' as a synonym of type is deprecated; in a future version of numpy, it will be understood as (type, (1,)) / '(1,)type'.\n",
      "  _np_quint8 = np.dtype([(\"quint8\", np.uint8, 1)])\n",
      "/Users/phunp/opt/anaconda3/envs/py37/lib/python3.7/site-packages/tensorboard/compat/tensorflow_stub/dtypes.py:543: FutureWarning: Passing (type, 1) or '1type' as a synonym of type is deprecated; in a future version of numpy, it will be understood as (type, (1,)) / '(1,)type'.\n",
      "  _np_qint16 = np.dtype([(\"qint16\", np.int16, 1)])\n",
      "/Users/phunp/opt/anaconda3/envs/py37/lib/python3.7/site-packages/tensorboard/compat/tensorflow_stub/dtypes.py:544: FutureWarning: Passing (type, 1) or '1type' as a synonym of type is deprecated; in a future version of numpy, it will be understood as (type, (1,)) / '(1,)type'.\n",
      "  _np_quint16 = np.dtype([(\"quint16\", np.uint16, 1)])\n",
      "/Users/phunp/opt/anaconda3/envs/py37/lib/python3.7/site-packages/tensorboard/compat/tensorflow_stub/dtypes.py:545: FutureWarning: Passing (type, 1) or '1type' as a synonym of type is deprecated; in a future version of numpy, it will be understood as (type, (1,)) / '(1,)type'.\n",
      "  _np_qint32 = np.dtype([(\"qint32\", np.int32, 1)])\n",
      "/Users/phunp/opt/anaconda3/envs/py37/lib/python3.7/site-packages/tensorboard/compat/tensorflow_stub/dtypes.py:550: FutureWarning: Passing (type, 1) or '1type' as a synonym of type is deprecated; in a future version of numpy, it will be understood as (type, (1,)) / '(1,)type'.\n",
      "  np_resource = np.dtype([(\"resource\", np.ubyte, 1)])\n"
     ]
    }
   ],
   "source": [
    "# Test with Keras\n",
    "# TensorFlow and tf.keras\n",
    "import tensorflow as tf\n",
    "from tensorflow import keras\n",
    "from tensorflow.keras.layers import Dense, MaxPooling2D, Conv2D\n",
    "from tensorflow.keras import optimizers\n",
    "\n",
    "def build_simple_model(X, y, activation='relu'):\n",
    "\n",
    "    number_of_features = len(X[0])\n",
    "    number_hidden_nodes = 512;\n",
    "    number_of_output = len(y[0])\n",
    "    print('Number of input features: {}'.format(number_of_features))\n",
    "    print('Number of hidden nodes: {}'.format(number_hidden_nodes))\n",
    "    print('Activation Function on hidden layer: {}'.format(activation))\n",
    "    print('Number of out classes: {}'.format(number_of_output))\n",
    "\n",
    "    model = keras.Sequential([\n",
    "        Dense(number_hidden_nodes, activation=activation, input_shape=[number_of_features]),\n",
    "        Dense(number_hidden_nodes/2, activation=activation, input_shape=[number_of_features]),\n",
    "        # Conv2D(32, 3, activation=\"relu\"),\n",
    "        # MaxPooling2D(3),\n",
    "        Dense(number_of_output, activation=tf.nn.sigmoid)\n",
    "    ])\n",
    "\n",
    "    model.compile(optimizer=tf.keras.optimizers.Adam(),\n",
    "                  loss=keras.losses.categorical_crossentropy,\n",
    "                  metrics=[keras.metrics.categorical_crossentropy])\n",
    "    model.summary()\n",
    "    return model\n"
   ]
  },
  {
   "cell_type": "code",
   "execution_count": 75,
   "metadata": {},
   "outputs": [],
   "source": [
    "from keras.utils import to_categorical\n",
    "from keras import backend as K\n",
    "from keras.layers import Dense, Dropout,Flatten\n",
    "from keras.layers.convolutional import Conv2D, MaxPooling2D\n",
    "from keras.models import Sequential\n",
    "from keras.layers import Dropout\n",
    "from keras.layers.core import Activation\n",
    "\n",
    "def build_cnn_model(X, y):\n",
    "    # construct model\n",
    "    number_of_features = len(X[0])\n",
    "    shape = (128,160,3)\n",
    "    model = Sequential()\n",
    "    model.add(Conv2D(32, kernel_size=(3,3), padding = 'same',activation = 'relu', input_shape = shape))\n",
    "    model.add(MaxPooling2D((2,2)))\n",
    "\n",
    "    model.add(Conv2D(64, kernel_size = (3,3), padding = 'same', activation = 'relu'))\n",
    "    model.add(MaxPooling2D(2,2))\n",
    "\n",
    "    model.add(Conv2D(128, kernel_size = (3,3), padding = 'same', activation = 'relu'))\n",
    "    model.add(MaxPooling2D(2,2))\n",
    "    model.add(Dropout(0.3))\n",
    "\n",
    "    model.add(Flatten())\n",
    "    model.add(Dense(128,activation = 'relu'))\n",
    "    model.add(Dense(25,activation = 'softmax'))\n",
    "    model.add(Dense(8,activation = 'softmax'))\n",
    "    model.summary()\n",
    "\n",
    "    model.compile(optimizer='adam', loss='categorical_crossentropy', metrics=['accuracy'])\n",
    "\n",
    "    return model\n",
    "\n",
    "    # train model\n",
    "#     h=model.fit(train, labels, validation_split = 0.2, epochs = 10, batch_size = 64)\n",
    "\n",
    "    # save model to file\n",
    "    # model.save(\"./saved-model/mnist_data_model\")"
   ]
  },
  {
   "cell_type": "code",
   "execution_count": 69,
   "metadata": {
    "colab": {
     "base_uri": "https://localhost:8080/"
    },
    "id": "3IhbwepjaB5-",
    "outputId": "7e86ca82-8aa6-4a34-f31f-fe5513c21ddb"
   },
   "outputs": [
    {
     "ename": "ValueError",
     "evalue": "Found array with dim 4. StandardScaler expected <= 2.",
     "output_type": "error",
     "traceback": [
      "\u001b[0;31m---------------------------------------------------------------------------\u001b[0m",
      "\u001b[0;31mValueError\u001b[0m                                Traceback (most recent call last)",
      "\u001b[0;32m<ipython-input-69-9edc87845099>\u001b[0m in \u001b[0;36m<module>\u001b[0;34m\u001b[0m\n\u001b[1;32m     10\u001b[0m \u001b[0;31m# normalise features\u001b[0m\u001b[0;34m\u001b[0m\u001b[0;34m\u001b[0m\u001b[0;34m\u001b[0m\u001b[0m\n\u001b[1;32m     11\u001b[0m \u001b[0minput_std\u001b[0m \u001b[0;34m=\u001b[0m \u001b[0mStandardScaler\u001b[0m\u001b[0;34m(\u001b[0m\u001b[0;34m)\u001b[0m\u001b[0;34m\u001b[0m\u001b[0;34m\u001b[0m\u001b[0m\n\u001b[0;32m---> 12\u001b[0;31m \u001b[0minput_std\u001b[0m\u001b[0;34m.\u001b[0m\u001b[0mfit\u001b[0m\u001b[0;34m(\u001b[0m\u001b[0mXtrain\u001b[0m\u001b[0;34m)\u001b[0m\u001b[0;34m\u001b[0m\u001b[0;34m\u001b[0m\u001b[0m\n\u001b[0m\u001b[1;32m     13\u001b[0m \u001b[0mXtrain_std\u001b[0m \u001b[0;34m=\u001b[0m \u001b[0minput_std\u001b[0m\u001b[0;34m.\u001b[0m\u001b[0mtransform\u001b[0m\u001b[0;34m(\u001b[0m\u001b[0mXtrain\u001b[0m\u001b[0;34m)\u001b[0m\u001b[0;34m\u001b[0m\u001b[0;34m\u001b[0m\u001b[0m\n\u001b[1;32m     14\u001b[0m \u001b[0mXtest_std\u001b[0m \u001b[0;34m=\u001b[0m \u001b[0minput_std\u001b[0m\u001b[0;34m.\u001b[0m\u001b[0mtransform\u001b[0m\u001b[0;34m(\u001b[0m\u001b[0mXtest\u001b[0m\u001b[0;34m)\u001b[0m\u001b[0;34m\u001b[0m\u001b[0;34m\u001b[0m\u001b[0m\n",
      "\u001b[0;32m~/opt/anaconda3/envs/py37/lib/python3.7/site-packages/sklearn/preprocessing/_data.py\u001b[0m in \u001b[0;36mfit\u001b[0;34m(self, X, y)\u001b[0m\n\u001b[1;32m    665\u001b[0m         \u001b[0;31m# Reset internal state before fitting\u001b[0m\u001b[0;34m\u001b[0m\u001b[0;34m\u001b[0m\u001b[0;34m\u001b[0m\u001b[0m\n\u001b[1;32m    666\u001b[0m         \u001b[0mself\u001b[0m\u001b[0;34m.\u001b[0m\u001b[0m_reset\u001b[0m\u001b[0;34m(\u001b[0m\u001b[0;34m)\u001b[0m\u001b[0;34m\u001b[0m\u001b[0;34m\u001b[0m\u001b[0m\n\u001b[0;32m--> 667\u001b[0;31m         \u001b[0;32mreturn\u001b[0m \u001b[0mself\u001b[0m\u001b[0;34m.\u001b[0m\u001b[0mpartial_fit\u001b[0m\u001b[0;34m(\u001b[0m\u001b[0mX\u001b[0m\u001b[0;34m,\u001b[0m \u001b[0my\u001b[0m\u001b[0;34m)\u001b[0m\u001b[0;34m\u001b[0m\u001b[0;34m\u001b[0m\u001b[0m\n\u001b[0m\u001b[1;32m    668\u001b[0m \u001b[0;34m\u001b[0m\u001b[0m\n\u001b[1;32m    669\u001b[0m     \u001b[0;32mdef\u001b[0m \u001b[0mpartial_fit\u001b[0m\u001b[0;34m(\u001b[0m\u001b[0mself\u001b[0m\u001b[0;34m,\u001b[0m \u001b[0mX\u001b[0m\u001b[0;34m,\u001b[0m \u001b[0my\u001b[0m\u001b[0;34m=\u001b[0m\u001b[0;32mNone\u001b[0m\u001b[0;34m)\u001b[0m\u001b[0;34m:\u001b[0m\u001b[0;34m\u001b[0m\u001b[0;34m\u001b[0m\u001b[0m\n",
      "\u001b[0;32m~/opt/anaconda3/envs/py37/lib/python3.7/site-packages/sklearn/preprocessing/_data.py\u001b[0m in \u001b[0;36mpartial_fit\u001b[0;34m(self, X, y)\u001b[0m\n\u001b[1;32m    696\u001b[0m         X = self._validate_data(X, accept_sparse=('csr', 'csc'),\n\u001b[1;32m    697\u001b[0m                                 \u001b[0mestimator\u001b[0m\u001b[0;34m=\u001b[0m\u001b[0mself\u001b[0m\u001b[0;34m,\u001b[0m \u001b[0mdtype\u001b[0m\u001b[0;34m=\u001b[0m\u001b[0mFLOAT_DTYPES\u001b[0m\u001b[0;34m,\u001b[0m\u001b[0;34m\u001b[0m\u001b[0;34m\u001b[0m\u001b[0m\n\u001b[0;32m--> 698\u001b[0;31m                                 force_all_finite='allow-nan')\n\u001b[0m\u001b[1;32m    699\u001b[0m \u001b[0;34m\u001b[0m\u001b[0m\n\u001b[1;32m    700\u001b[0m         \u001b[0;31m# Even in the case of `with_mean=False`, we update the mean anyway\u001b[0m\u001b[0;34m\u001b[0m\u001b[0;34m\u001b[0m\u001b[0;34m\u001b[0m\u001b[0m\n",
      "\u001b[0;32m~/opt/anaconda3/envs/py37/lib/python3.7/site-packages/sklearn/base.py\u001b[0m in \u001b[0;36m_validate_data\u001b[0;34m(self, X, y, reset, validate_separately, **check_params)\u001b[0m\n\u001b[1;32m    418\u001b[0m                     \u001b[0;34mf\"requires y to be passed, but the target y is None.\"\u001b[0m\u001b[0;34m\u001b[0m\u001b[0;34m\u001b[0m\u001b[0m\n\u001b[1;32m    419\u001b[0m                 )\n\u001b[0;32m--> 420\u001b[0;31m             \u001b[0mX\u001b[0m \u001b[0;34m=\u001b[0m \u001b[0mcheck_array\u001b[0m\u001b[0;34m(\u001b[0m\u001b[0mX\u001b[0m\u001b[0;34m,\u001b[0m \u001b[0;34m**\u001b[0m\u001b[0mcheck_params\u001b[0m\u001b[0;34m)\u001b[0m\u001b[0;34m\u001b[0m\u001b[0;34m\u001b[0m\u001b[0m\n\u001b[0m\u001b[1;32m    421\u001b[0m             \u001b[0mout\u001b[0m \u001b[0;34m=\u001b[0m \u001b[0mX\u001b[0m\u001b[0;34m\u001b[0m\u001b[0;34m\u001b[0m\u001b[0m\n\u001b[1;32m    422\u001b[0m         \u001b[0;32melse\u001b[0m\u001b[0;34m:\u001b[0m\u001b[0;34m\u001b[0m\u001b[0;34m\u001b[0m\u001b[0m\n",
      "\u001b[0;32m~/opt/anaconda3/envs/py37/lib/python3.7/site-packages/sklearn/utils/validation.py\u001b[0m in \u001b[0;36minner_f\u001b[0;34m(*args, **kwargs)\u001b[0m\n\u001b[1;32m     70\u001b[0m                           FutureWarning)\n\u001b[1;32m     71\u001b[0m         \u001b[0mkwargs\u001b[0m\u001b[0;34m.\u001b[0m\u001b[0mupdate\u001b[0m\u001b[0;34m(\u001b[0m\u001b[0;34m{\u001b[0m\u001b[0mk\u001b[0m\u001b[0;34m:\u001b[0m \u001b[0marg\u001b[0m \u001b[0;32mfor\u001b[0m \u001b[0mk\u001b[0m\u001b[0;34m,\u001b[0m \u001b[0marg\u001b[0m \u001b[0;32min\u001b[0m \u001b[0mzip\u001b[0m\u001b[0;34m(\u001b[0m\u001b[0msig\u001b[0m\u001b[0;34m.\u001b[0m\u001b[0mparameters\u001b[0m\u001b[0;34m,\u001b[0m \u001b[0margs\u001b[0m\u001b[0;34m)\u001b[0m\u001b[0;34m}\u001b[0m\u001b[0;34m)\u001b[0m\u001b[0;34m\u001b[0m\u001b[0;34m\u001b[0m\u001b[0m\n\u001b[0;32m---> 72\u001b[0;31m         \u001b[0;32mreturn\u001b[0m \u001b[0mf\u001b[0m\u001b[0;34m(\u001b[0m\u001b[0;34m**\u001b[0m\u001b[0mkwargs\u001b[0m\u001b[0;34m)\u001b[0m\u001b[0;34m\u001b[0m\u001b[0;34m\u001b[0m\u001b[0m\n\u001b[0m\u001b[1;32m     73\u001b[0m     \u001b[0;32mreturn\u001b[0m \u001b[0minner_f\u001b[0m\u001b[0;34m\u001b[0m\u001b[0;34m\u001b[0m\u001b[0m\n\u001b[1;32m     74\u001b[0m \u001b[0;34m\u001b[0m\u001b[0m\n",
      "\u001b[0;32m~/opt/anaconda3/envs/py37/lib/python3.7/site-packages/sklearn/utils/validation.py\u001b[0m in \u001b[0;36mcheck_array\u001b[0;34m(array, accept_sparse, accept_large_sparse, dtype, order, copy, force_all_finite, ensure_2d, allow_nd, ensure_min_samples, ensure_min_features, estimator)\u001b[0m\n\u001b[1;32m    639\u001b[0m         \u001b[0;32mif\u001b[0m \u001b[0;32mnot\u001b[0m \u001b[0mallow_nd\u001b[0m \u001b[0;32mand\u001b[0m \u001b[0marray\u001b[0m\u001b[0;34m.\u001b[0m\u001b[0mndim\u001b[0m \u001b[0;34m>=\u001b[0m \u001b[0;36m3\u001b[0m\u001b[0;34m:\u001b[0m\u001b[0;34m\u001b[0m\u001b[0;34m\u001b[0m\u001b[0m\n\u001b[1;32m    640\u001b[0m             raise ValueError(\"Found array with dim %d. %s expected <= 2.\"\n\u001b[0;32m--> 641\u001b[0;31m                              % (array.ndim, estimator_name))\n\u001b[0m\u001b[1;32m    642\u001b[0m \u001b[0;34m\u001b[0m\u001b[0m\n\u001b[1;32m    643\u001b[0m         \u001b[0;32mif\u001b[0m \u001b[0mforce_all_finite\u001b[0m\u001b[0;34m:\u001b[0m\u001b[0;34m\u001b[0m\u001b[0;34m\u001b[0m\u001b[0m\n",
      "\u001b[0;31mValueError\u001b[0m: Found array with dim 4. StandardScaler expected <= 2."
     ]
    }
   ],
   "source": [
    "from sklearn.preprocessing import OneHotEncoder\n",
    "y = Y\n",
    "#update y to one hot encode\n",
    "onehot_encoder = OneHotEncoder(sparse=False)\n",
    "y_encoded = y.reshape(len(y), 1)\n",
    "y1h = onehot_encoder.fit_transform(y_encoded)\n",
    "\n",
    "Xtrain, Xtest, ytrain, ytest = train_test_split(X, y1h,test_size=0.33, random_state=42)\n",
    "# normalise features\n",
    "input_std = StandardScaler()\n",
    "input_std.fit(Xtrain)\n",
    "Xtrain_std = input_std.transform(Xtrain)\n",
    "Xtest_std = input_std.transform(Xtest)\n",
    "\n",
    "# do the PCA, choose the numbher of components to retain\n",
    "input_pca = PCA(n_components=50, whiten=True)\n",
    "input_pca.fit(Xtrain_std)\n",
    "Xtrain_std_pca = input_pca.transform(Xtrain_std)\n",
    "Xtest_std_pca = input_pca.transform(Xtest_std)\n",
    "\n",
    "\n",
    "no_epochs = 50\n",
    "activation = 'relu' # select from [None, 'sigmoid', 'tanh', 'relu']:\n",
    "model = build_simple_model(Xtrain_std_pca, ytrain, activation=activation) \n",
    "\n",
    "\n",
    "print('Training with {0} for {1} epochs'.format(activation, no_epochs))\n",
    "history = model.fit(Xtrain_std_pca, ytrain, epochs=no_epochs, verbose=1)\n",
    "\n",
    "hist = pd.DataFrame(history.history)\n",
    "hist['epoch'] = history.epoch\n",
    "\n",
    "\n",
    "loss_final = np.sqrt(float(hist['loss'].tail(1)))\n",
    "print()\n",
    "print('Final Loss on training set: {}'.format(round(loss_final, 3)))"
   ]
  },
  {
   "cell_type": "code",
   "execution_count": 86,
   "metadata": {
    "scrolled": true
   },
   "outputs": [
    {
     "name": "stdout",
     "output_type": "stream",
     "text": [
      "Model: \"sequential_6\"\n",
      "_________________________________________________________________\n",
      "Layer (type)                 Output Shape              Param #   \n",
      "=================================================================\n",
      "conv2d_17 (Conv2D)           (None, 128, 160, 32)      896       \n",
      "_________________________________________________________________\n",
      "max_pooling2d_16 (MaxPooling (None, 64, 80, 32)        0         \n",
      "_________________________________________________________________\n",
      "conv2d_18 (Conv2D)           (None, 64, 80, 64)        18496     \n",
      "_________________________________________________________________\n",
      "max_pooling2d_17 (MaxPooling (None, 32, 40, 64)        0         \n",
      "_________________________________________________________________\n",
      "conv2d_19 (Conv2D)           (None, 32, 40, 128)       73856     \n",
      "_________________________________________________________________\n",
      "max_pooling2d_18 (MaxPooling (None, 16, 20, 128)       0         \n",
      "_________________________________________________________________\n",
      "dropout_6 (Dropout)          (None, 16, 20, 128)       0         \n",
      "_________________________________________________________________\n",
      "flatten_6 (Flatten)          (None, 40960)             0         \n",
      "_________________________________________________________________\n",
      "dense_13 (Dense)             (None, 128)               5243008   \n",
      "_________________________________________________________________\n",
      "dense_14 (Dense)             (None, 25)                3225      \n",
      "_________________________________________________________________\n",
      "dense_15 (Dense)             (None, 8)                 208       \n",
      "=================================================================\n",
      "Total params: 5,339,689\n",
      "Trainable params: 5,339,689\n",
      "Non-trainable params: 0\n",
      "_________________________________________________________________\n",
      "Training with relu for 5 epochs\n",
      "Train on 10184 samples, validate on 2546 samples\n",
      "Epoch 1/5\n",
      "10184/10184 [==============================] - 170s 17ms/step - loss: 2.0773 - accuracy: 0.1324 - val_loss: 2.0746 - val_accuracy: 0.1367\n",
      "Epoch 2/5\n",
      "10184/10184 [==============================] - 140s 14ms/step - loss: 2.0740 - accuracy: 0.1356 - val_loss: 2.0742 - val_accuracy: 0.1367\n",
      "Epoch 3/5\n",
      "10184/10184 [==============================] - 142s 14ms/step - loss: 2.0736 - accuracy: 0.1376 - val_loss: 2.0742 - val_accuracy: 0.1367\n",
      "Epoch 4/5\n",
      "10184/10184 [==============================] - 140s 14ms/step - loss: 2.0736 - accuracy: 0.1405 - val_loss: 2.0742 - val_accuracy: 0.1386\n",
      "Epoch 5/5\n",
      "10184/10184 [==============================] - 141s 14ms/step - loss: 2.0736 - accuracy: 0.1384 - val_loss: 2.0742 - val_accuracy: 0.1386\n",
      "\n",
      "Final Loss on training set: 1.44\n"
     ]
    }
   ],
   "source": [
    "from sklearn.preprocessing import OneHotEncoder\n",
    "from keras.utils import to_categorical\n",
    "\n",
    "y = Y\n",
    "XX = X.reshape((19000,128,160,3))\n",
    "XX = XX / 255\n",
    "#update y to one hot encode\n",
    "# onehot_encoder = OneHotEncoder(sparse=False)\n",
    "# y_encoded = y.reshape(len(y), 1)\n",
    "# y1h = onehot_encoder.fit_transform(y_encoded)\n",
    "y = to_categorical(y)\n",
    "\n",
    "Xtrain, Xtest, ytrain, ytest = train_test_split(XX, y1h,test_size=0.33, random_state=42, stratify=y)\n",
    "# # normalise features\n",
    "# input_std = StandardScaler()\n",
    "# input_std.fit(Xtrain)\n",
    "# Xtrain_std = input_std.transform(Xtrain)\n",
    "# Xtest_std = input_std.transform(Xtest)\n",
    "\n",
    "# # do the PCA, choose the numbher of components to retain\n",
    "# input_pca = PCA(n_components=50, whiten=True)\n",
    "# input_pca.fit(Xtrain_std)\n",
    "# Xtrain_std_pca = input_pca.transform(Xtrain_std)\n",
    "# Xtest_std_pca = input_pca.transform(Xtest_std)\n",
    "\n",
    "\n",
    "no_epochs = 5\n",
    "activation = 'relu' # select from [None, 'sigmoid', 'tanh', 'relu']:\n",
    "model_cnn = build_cnn_model(Xtrain, ytrain) \n",
    "\n",
    "\n",
    "print('Training with {0} for {1} epochs'.format(activation, no_epochs))\n",
    "history = model_cnn.fit(Xtrain, ytrain, validation_split = 0.2, epochs=no_epochs, verbose=1)\n",
    "\n",
    "hist = pd.DataFrame(history.history)\n",
    "hist['epoch'] = history.epoch\n",
    "\n",
    "\n",
    "loss_final = np.sqrt(float(hist['loss'].tail(1)))\n",
    "print()\n",
    "print('Final Loss on training set: {}'.format(round(loss_final, 3)))"
   ]
  },
  {
   "cell_type": "code",
   "execution_count": 87,
   "metadata": {},
   "outputs": [
    {
     "name": "stdout",
     "output_type": "stream",
     "text": [
      "(19000, 61440)\n",
      "(19000, 8)\n"
     ]
    }
   ],
   "source": [
    "print(X.shape)\n",
    "print(y.shape)"
   ]
  },
  {
   "cell_type": "code",
   "execution_count": 88,
   "metadata": {
    "colab": {
     "base_uri": "https://localhost:8080/",
     "height": 647
    },
    "id": "T9ijI40reb35",
    "outputId": "72289f73-0a8d-4e73-b5f0-3a40ee828df1"
   },
   "outputs": [
    {
     "data": {
      "text/html": [
       "<div>\n",
       "<style scoped>\n",
       "    .dataframe tbody tr th:only-of-type {\n",
       "        vertical-align: middle;\n",
       "    }\n",
       "\n",
       "    .dataframe tbody tr th {\n",
       "        vertical-align: top;\n",
       "    }\n",
       "\n",
       "    .dataframe thead th {\n",
       "        text-align: right;\n",
       "    }\n",
       "</style>\n",
       "<table border=\"1\" class=\"dataframe\">\n",
       "  <thead>\n",
       "    <tr style=\"text-align: right;\">\n",
       "      <th></th>\n",
       "      <th>val_loss</th>\n",
       "      <th>val_accuracy</th>\n",
       "      <th>loss</th>\n",
       "      <th>accuracy</th>\n",
       "      <th>epoch</th>\n",
       "    </tr>\n",
       "  </thead>\n",
       "  <tbody>\n",
       "    <tr>\n",
       "      <th>0</th>\n",
       "      <td>2.074579</td>\n",
       "      <td>0.136685</td>\n",
       "      <td>2.077348</td>\n",
       "      <td>0.132364</td>\n",
       "      <td>0</td>\n",
       "    </tr>\n",
       "    <tr>\n",
       "      <th>1</th>\n",
       "      <td>2.074154</td>\n",
       "      <td>0.136685</td>\n",
       "      <td>2.073983</td>\n",
       "      <td>0.135605</td>\n",
       "      <td>1</td>\n",
       "    </tr>\n",
       "    <tr>\n",
       "      <th>2</th>\n",
       "      <td>2.074171</td>\n",
       "      <td>0.136685</td>\n",
       "      <td>2.073583</td>\n",
       "      <td>0.137569</td>\n",
       "      <td>2</td>\n",
       "    </tr>\n",
       "    <tr>\n",
       "      <th>3</th>\n",
       "      <td>2.074235</td>\n",
       "      <td>0.138649</td>\n",
       "      <td>2.073575</td>\n",
       "      <td>0.140515</td>\n",
       "      <td>3</td>\n",
       "    </tr>\n",
       "    <tr>\n",
       "      <th>4</th>\n",
       "      <td>2.074240</td>\n",
       "      <td>0.138649</td>\n",
       "      <td>2.073611</td>\n",
       "      <td>0.138354</td>\n",
       "      <td>4</td>\n",
       "    </tr>\n",
       "  </tbody>\n",
       "</table>\n",
       "</div>"
      ],
      "text/plain": [
       "   val_loss  val_accuracy      loss  accuracy  epoch\n",
       "0  2.074579      0.136685  2.077348  0.132364      0\n",
       "1  2.074154      0.136685  2.073983  0.135605      1\n",
       "2  2.074171      0.136685  2.073583  0.137569      2\n",
       "3  2.074235      0.138649  2.073575  0.140515      3\n",
       "4  2.074240      0.138649  2.073611  0.138354      4"
      ]
     },
     "execution_count": 88,
     "metadata": {},
     "output_type": "execute_result"
    }
   ],
   "source": [
    "hist"
   ]
  },
  {
   "cell_type": "code",
   "execution_count": 89,
   "metadata": {
    "colab": {
     "base_uri": "https://localhost:8080/",
     "height": 278
    },
    "id": "XwzpVDqdeekg",
    "outputId": "5dcb0aeb-74ad-4b32-f8aa-a3a030099a57"
   },
   "outputs": [
    {
     "data": {
      "image/png": "[encoded data removed]",
      "text/plain": [
       "<Figure size 432x288 with 1 Axes>"
      ]
     },
     "metadata": {
      "needs_background": "light"
     },
     "output_type": "display_data"
    }
   ],
   "source": [
    "def plot_history():\n",
    "    plt.figure()\n",
    "    plt.xlabel('Epoch')\n",
    "    plt.ylabel('Loss')\n",
    "    plt.plot(hist['epoch'], hist['loss'], label='Train Loss')\n",
    "    plt.legend()\n",
    "\n",
    "plot_history()"
   ]
  },
  {
   "cell_type": "code",
   "execution_count": 92,
   "metadata": {
    "colab": {
     "base_uri": "https://localhost:8080/"
    },
    "id": "0fUurl1fenaN",
    "outputId": "fc5e5ca5-d4b7-4f68-984f-73e10b4b2aee"
   },
   "outputs": [
    {
     "name": "stdout",
     "output_type": "stream",
     "text": [
      "6270/6270 [==============================] - 28s 4ms/step\n",
      "Loss on test set: 2.073\n",
      "              precision    recall  f1-score   support\n",
      "\n",
      "           0       0.00      0.00      0.00       666\n",
      "           1       0.00      0.00      0.00       751\n",
      "           2       0.00      0.00      0.00       815\n",
      "           3       0.00      0.00      0.00       842\n",
      "           4       0.14      1.00      0.24       868\n",
      "           5       0.00      0.00      0.00       866\n",
      "           6       0.00      0.00      0.00       828\n",
      "           7       0.00      0.00      0.00       634\n",
      "\n",
      "    accuracy                           0.14      6270\n",
      "   macro avg       0.02      0.12      0.03      6270\n",
      "weighted avg       0.02      0.14      0.03      6270\n",
      "\n",
      "[[  0   0   0   0 666   0   0   0]\n",
      " [  0   0   0   0 751   0   0   0]\n",
      " [  0   0   0   0 815   0   0   0]\n",
      " [  0   0   0   0 842   0   0   0]\n",
      " [  0   0   0   0 868   0   0   0]\n",
      " [  0   0   0   0 866   0   0   0]\n",
      " [  0   0   0   0 828   0   0   0]\n",
      " [  0   0   0   0 634   0   0   0]]\n"
     ]
    }
   ],
   "source": [
    "[loss, crossent] = model_cnn.evaluate(Xtest, ytest)\n",
    "print('Loss on test set: {}'.format(round(loss, 3)))\n",
    "y_pred_real = model_cnn.predict(Xtest)\n",
    "y_pred = np.argmax(y_pred_real, axis=-1)\n",
    "\n",
    "\n",
    "ytest_for_report = np.argmax(ytest, axis=-1)\n",
    "cr = classification_report(ytest_for_report,y_pred)\n",
    "print(cr)\n",
    "f1 = f1_score(ytest_for_report, y_pred,average='weighted')\n",
    "cm = confusion_matrix(ytest_for_report, y_pred)\n",
    "print(cm)"
   ]
  },
  {
   "cell_type": "code",
   "execution_count": 93,
   "metadata": {
    "colab": {
     "base_uri": "https://localhost:8080/",
     "height": 602
    },
    "id": "hBGXVZwKfVV6",
    "outputId": "c4f42d47-bfe2-407d-d988-5423aa0c8c82"
   },
   "outputs": [
    {
     "data": {
      "text/plain": [
       "Text(0.5, 1.0, 'Overall f1-score: 0.034')"
      ]
     },
     "execution_count": 93,
     "metadata": {},
     "output_type": "execute_result"
    },
    {
     "data": {
      "image/png": "[encoded data removed]",
      "text/plain": [
       "<Figure size 720x720 with 2 Axes>"
      ]
     },
     "metadata": {
      "needs_background": "light"
     },
     "output_type": "display_data"
    }
   ],
   "source": [
    "class_labels = np.unique(ytest_for_report);\n",
    "df_cm = pd.DataFrame(cm, columns=class_labels, index=class_labels)\n",
    "fig, ax1 = plt.subplots(1,1, figsize=(10,10))\n",
    "sns.heatmap(df_cm, annot=True, ax=ax1,square=True,  cmap=\"YlGnBu\",vmin=0,vmax=50,fmt='d')\n",
    "ax1.set_title('Overall f1-score: {:.3f}'.format(f1) )"
   ]
  },
  {
   "cell_type": "code",
   "execution_count": null,
   "metadata": {
    "id": "XW6VY0eLR875"
   },
   "outputs": [],
   "source": [
    "import tensorflow as tf\n",
    "from tensorflow import keras\n",
    "from keras.applications.mobilenet_v2 import preprocess_input\n",
    "from tensorflow.keras import optimizers\n",
    "from keras.optimizers import Adam\n",
    "\n",
    "\n",
    "# X shape:  (454, 228, 200, 3)\n",
    "\n",
    "\n",
    "def build_MobileNetV2_adapt():\n",
    "    # set the shape to the CIFAR-10 image size and the number of classes\n",
    "    input_shape = (228, 200, 3)\n",
    "    # resize image with padding give better results on the overall performance\n",
    "    # new_shape = (96, 96, 3)\n",
    "    classes = 3\n",
    "\n",
    "    # Create new model on top\n",
    "    inputs = keras.Input(shape=input_shape)\n",
    "\n",
    "    # Preprocessing the image\n",
    "    # x = preprocess_input(inputs)\n",
    "    # upscale = keras.layers.Lambda(lambda x: tf.image.resize_with_pad(\n",
    "    #     x, 96, 96, method=tf.image.ResizeMethod.BILINEAR))(inputs)\n",
    "                                                                  \n",
    "    # load the VGG16 model with the imagenet weights, but without the final 1000 output layer\n",
    "    base_model = keras.applications.MobileNetV2(\n",
    "        weights=\"imagenet\",  # Load weights pre-trained on ImageNet.\n",
    "        input_shape=input_shape, # input_tensor will be used instead\n",
    "        input_tensor=inputs,\n",
    "        include_top=False,\n",
    "    )  # Do not include the ImageNet classifier at the top.\n",
    "    # The base model contains batchnorm layers. We want to keep them in inference mode\n",
    "    # when we unfreeze the base model for fine-tuning, so we make sure that the\n",
    "    # base_model is running in inference mode here.\n",
    "    x = base_model.output#, training=False)\n",
    "    x = keras.layers.GlobalAveragePooling2D()(x)\n",
    "    # add a trainable dense layer\n",
    "    x = keras.layers.Dense(256, activation='relu')(x)\n",
    "    x = keras.layers.Dropout(0.25)(x)  # Regularize with dropout\n",
    "    # add a final output layer with a softmax for classification\n",
    "    outputs = keras.layers.Dense(classes, activation='softmax')(x)\n",
    "    model = keras.Model(inputs, outputs)\n",
    "\n",
    "    # make model adaptable\n",
    "    base_model.trainable = False\n",
    "\n",
    "    # small learning rate\n",
    "    # learning_rate = 1e-5\n",
    "\n",
    "    model.compile(\n",
    "        optimizer='Adam', #learning_rate=learning_rate\n",
    "        loss='categorical_crossentropy',\n",
    "        metrics=['categorical_crossentropy']\n",
    "    )\n",
    "    return model"
   ]
  },
  {
   "cell_type": "code",
   "execution_count": null,
   "metadata": {
    "colab": {
     "base_uri": "https://localhost:8080/"
    },
    "id": "vam6ELMHUK8r",
    "outputId": "e87068c3-b791-4bc3-b5c3-4dd0168450db"
   },
   "outputs": [
    {
     "name": "stdout",
     "output_type": "stream",
     "text": [
      "(454, 228, 200, 3)\n",
      "(454,)\n"
     ]
    }
   ],
   "source": [
    "print(X.shape)\n",
    "print(y.shape)"
   ]
  },
  {
   "cell_type": "code",
   "execution_count": null,
   "metadata": {
    "colab": {
     "base_uri": "https://localhost:8080/"
    },
    "id": "1odl5_tnUxXH",
    "outputId": "20384daa-4235-4105-b4ef-1e6cb53746a3"
   },
   "outputs": [
    {
     "name": "stdout",
     "output_type": "stream",
     "text": [
      "WARNING:tensorflow:`input_shape` is undefined or non-square, or `rows` is not in [96, 128, 160, 192, 224]. Weights for input shape (224, 224) will be loaded as the default.\n",
      "Downloading data from https://storage.googleapis.com/tensorflow/keras-applications/mobilenet_v2/mobilenet_v2_weights_tf_dim_ordering_tf_kernels_1.0_224_no_top.h5\n",
      "9412608/9406464 [==============================] - 0s 0us/step\n"
     ]
    }
   ],
   "source": [
    "from keras.optimizers import Adam\n",
    "model = build_MobileNetV2_adapt()\n",
    "# model.compile(optimizer=Adam(),\n",
    "#               loss='categorical_crossentropy',\n",
    "#               metrics=['categorical_accuracy'])"
   ]
  },
  {
   "cell_type": "code",
   "execution_count": null,
   "metadata": {
    "colab": {
     "base_uri": "https://localhost:8080/"
    },
    "id": "JiwN9k6Qap5G",
    "outputId": "ba3ca358-b79e-4aaa-e0c2-955f5013336a"
   },
   "outputs": [
    {
     "name": "stdout",
     "output_type": "stream",
     "text": [
      "Model: \"model\"\n",
      "__________________________________________________________________________________________________\n",
      "Layer (type)                    Output Shape         Param #     Connected to                     \n",
      "==================================================================================================\n",
      "input_1 (InputLayer)            [(None, 228, 200, 3) 0                                            \n",
      "__________________________________________________________________________________________________\n",
      "Conv1 (Conv2D)                  (None, 114, 100, 32) 864         input_1[0][0]                    \n",
      "__________________________________________________________________________________________________\n",
      "bn_Conv1 (BatchNormalization)   (None, 114, 100, 32) 128         Conv1[0][0]                      \n",
      "__________________________________________________________________________________________________\n",
      "Conv1_relu (ReLU)               (None, 114, 100, 32) 0           bn_Conv1[0][0]                   \n",
      "__________________________________________________________________________________________________\n",
      "expanded_conv_depthwise (Depthw (None, 114, 100, 32) 288         Conv1_relu[0][0]                 \n",
      "__________________________________________________________________________________________________\n",
      "expanded_conv_depthwise_BN (Bat (None, 114, 100, 32) 128         expanded_conv_depthwise[0][0]    \n",
      "__________________________________________________________________________________________________\n",
      "expanded_conv_depthwise_relu (R (None, 114, 100, 32) 0           expanded_conv_depthwise_BN[0][0] \n",
      "__________________________________________________________________________________________________\n",
      "expanded_conv_project (Conv2D)  (None, 114, 100, 16) 512         expanded_conv_depthwise_relu[0][0\n",
      "__________________________________________________________________________________________________\n",
      "expanded_conv_project_BN (Batch (None, 114, 100, 16) 64          expanded_conv_project[0][0]      \n",
      "__________________________________________________________________________________________________\n",
      "block_1_expand (Conv2D)         (None, 114, 100, 96) 1536        expanded_conv_project_BN[0][0]   \n",
      "__________________________________________________________________________________________________\n",
      "block_1_expand_BN (BatchNormali (None, 114, 100, 96) 384         block_1_expand[0][0]             \n",
      "__________________________________________________________________________________________________\n",
      "block_1_expand_relu (ReLU)      (None, 114, 100, 96) 0           block_1_expand_BN[0][0]          \n",
      "__________________________________________________________________________________________________\n",
      "block_1_pad (ZeroPadding2D)     (None, 115, 101, 96) 0           block_1_expand_relu[0][0]        \n",
      "__________________________________________________________________________________________________\n",
      "block_1_depthwise (DepthwiseCon (None, 57, 50, 96)   864         block_1_pad[0][0]                \n",
      "__________________________________________________________________________________________________\n",
      "block_1_depthwise_BN (BatchNorm (None, 57, 50, 96)   384         block_1_depthwise[0][0]          \n",
      "__________________________________________________________________________________________________\n",
      "block_1_depthwise_relu (ReLU)   (None, 57, 50, 96)   0           block_1_depthwise_BN[0][0]       \n",
      "__________________________________________________________________________________________________\n",
      "block_1_project (Conv2D)        (None, 57, 50, 24)   2304        block_1_depthwise_relu[0][0]     \n",
      "__________________________________________________________________________________________________\n",
      "block_1_project_BN (BatchNormal (None, 57, 50, 24)   96          block_1_project[0][0]            \n",
      "__________________________________________________________________________________________________\n",
      "block_2_expand (Conv2D)         (None, 57, 50, 144)  3456        block_1_project_BN[0][0]         \n",
      "__________________________________________________________________________________________________\n",
      "block_2_expand_BN (BatchNormali (None, 57, 50, 144)  576         block_2_expand[0][0]             \n",
      "__________________________________________________________________________________________________\n",
      "block_2_expand_relu (ReLU)      (None, 57, 50, 144)  0           block_2_expand_BN[0][0]          \n",
      "__________________________________________________________________________________________________\n",
      "block_2_depthwise (DepthwiseCon (None, 57, 50, 144)  1296        block_2_expand_relu[0][0]        \n",
      "__________________________________________________________________________________________________\n",
      "block_2_depthwise_BN (BatchNorm (None, 57, 50, 144)  576         block_2_depthwise[0][0]          \n",
      "__________________________________________________________________________________________________\n",
      "block_2_depthwise_relu (ReLU)   (None, 57, 50, 144)  0           block_2_depthwise_BN[0][0]       \n",
      "__________________________________________________________________________________________________\n",
      "block_2_project (Conv2D)        (None, 57, 50, 24)   3456        block_2_depthwise_relu[0][0]     \n",
      "__________________________________________________________________________________________________\n",
      "block_2_project_BN (BatchNormal (None, 57, 50, 24)   96          block_2_project[0][0]            \n",
      "__________________________________________________________________________________________________\n",
      "block_2_add (Add)               (None, 57, 50, 24)   0           block_1_project_BN[0][0]         \n",
      "                                                                 block_2_project_BN[0][0]         \n",
      "__________________________________________________________________________________________________\n",
      "block_3_expand (Conv2D)         (None, 57, 50, 144)  3456        block_2_add[0][0]                \n",
      "__________________________________________________________________________________________________\n",
      "block_3_expand_BN (BatchNormali (None, 57, 50, 144)  576         block_3_expand[0][0]             \n",
      "__________________________________________________________________________________________________\n",
      "block_3_expand_relu (ReLU)      (None, 57, 50, 144)  0           block_3_expand_BN[0][0]          \n",
      "__________________________________________________________________________________________________\n",
      "block_3_pad (ZeroPadding2D)     (None, 59, 51, 144)  0           block_3_expand_relu[0][0]        \n",
      "__________________________________________________________________________________________________\n",
      "block_3_depthwise (DepthwiseCon (None, 29, 25, 144)  1296        block_3_pad[0][0]                \n",
      "__________________________________________________________________________________________________\n",
      "block_3_depthwise_BN (BatchNorm (None, 29, 25, 144)  576         block_3_depthwise[0][0]          \n",
      "__________________________________________________________________________________________________\n",
      "block_3_depthwise_relu (ReLU)   (None, 29, 25, 144)  0           block_3_depthwise_BN[0][0]       \n",
      "__________________________________________________________________________________________________\n",
      "block_3_project (Conv2D)        (None, 29, 25, 32)   4608        block_3_depthwise_relu[0][0]     \n",
      "__________________________________________________________________________________________________\n",
      "block_3_project_BN (BatchNormal (None, 29, 25, 32)   128         block_3_project[0][0]            \n",
      "__________________________________________________________________________________________________\n",
      "block_4_expand (Conv2D)         (None, 29, 25, 192)  6144        block_3_project_BN[0][0]         \n",
      "__________________________________________________________________________________________________\n",
      "block_4_expand_BN (BatchNormali (None, 29, 25, 192)  768         block_4_expand[0][0]             \n",
      "__________________________________________________________________________________________________\n",
      "block_4_expand_relu (ReLU)      (None, 29, 25, 192)  0           block_4_expand_BN[0][0]          \n",
      "__________________________________________________________________________________________________\n",
      "block_4_depthwise (DepthwiseCon (None, 29, 25, 192)  1728        block_4_expand_relu[0][0]        \n",
      "__________________________________________________________________________________________________\n",
      "block_4_depthwise_BN (BatchNorm (None, 29, 25, 192)  768         block_4_depthwise[0][0]          \n",
      "__________________________________________________________________________________________________\n",
      "block_4_depthwise_relu (ReLU)   (None, 29, 25, 192)  0           block_4_depthwise_BN[0][0]       \n",
      "__________________________________________________________________________________________________\n",
      "block_4_project (Conv2D)        (None, 29, 25, 32)   6144        block_4_depthwise_relu[0][0]     \n",
      "__________________________________________________________________________________________________\n",
      "block_4_project_BN (BatchNormal (None, 29, 25, 32)   128         block_4_project[0][0]            \n",
      "__________________________________________________________________________________________________\n",
      "block_4_add (Add)               (None, 29, 25, 32)   0           block_3_project_BN[0][0]         \n",
      "                                                                 block_4_project_BN[0][0]         \n",
      "__________________________________________________________________________________________________\n",
      "block_5_expand (Conv2D)         (None, 29, 25, 192)  6144        block_4_add[0][0]                \n",
      "__________________________________________________________________________________________________\n",
      "block_5_expand_BN (BatchNormali (None, 29, 25, 192)  768         block_5_expand[0][0]             \n",
      "__________________________________________________________________________________________________\n",
      "block_5_expand_relu (ReLU)      (None, 29, 25, 192)  0           block_5_expand_BN[0][0]          \n",
      "__________________________________________________________________________________________________\n",
      "block_5_depthwise (DepthwiseCon (None, 29, 25, 192)  1728        block_5_expand_relu[0][0]        \n",
      "__________________________________________________________________________________________________\n",
      "block_5_depthwise_BN (BatchNorm (None, 29, 25, 192)  768         block_5_depthwise[0][0]          \n",
      "__________________________________________________________________________________________________\n",
      "block_5_depthwise_relu (ReLU)   (None, 29, 25, 192)  0           block_5_depthwise_BN[0][0]       \n",
      "__________________________________________________________________________________________________\n",
      "block_5_project (Conv2D)        (None, 29, 25, 32)   6144        block_5_depthwise_relu[0][0]     \n",
      "__________________________________________________________________________________________________\n",
      "block_5_project_BN (BatchNormal (None, 29, 25, 32)   128         block_5_project[0][0]            \n",
      "__________________________________________________________________________________________________\n",
      "block_5_add (Add)               (None, 29, 25, 32)   0           block_4_add[0][0]                \n",
      "                                                                 block_5_project_BN[0][0]         \n",
      "__________________________________________________________________________________________________\n",
      "block_6_expand (Conv2D)         (None, 29, 25, 192)  6144        block_5_add[0][0]                \n",
      "__________________________________________________________________________________________________\n",
      "block_6_expand_BN (BatchNormali (None, 29, 25, 192)  768         block_6_expand[0][0]             \n",
      "__________________________________________________________________________________________________\n",
      "block_6_expand_relu (ReLU)      (None, 29, 25, 192)  0           block_6_expand_BN[0][0]          \n",
      "__________________________________________________________________________________________________\n",
      "block_6_pad (ZeroPadding2D)     (None, 31, 27, 192)  0           block_6_expand_relu[0][0]        \n",
      "__________________________________________________________________________________________________\n",
      "block_6_depthwise (DepthwiseCon (None, 15, 13, 192)  1728        block_6_pad[0][0]                \n",
      "__________________________________________________________________________________________________\n",
      "block_6_depthwise_BN (BatchNorm (None, 15, 13, 192)  768         block_6_depthwise[0][0]          \n",
      "__________________________________________________________________________________________________\n",
      "block_6_depthwise_relu (ReLU)   (None, 15, 13, 192)  0           block_6_depthwise_BN[0][0]       \n",
      "__________________________________________________________________________________________________\n",
      "block_6_project (Conv2D)        (None, 15, 13, 64)   12288       block_6_depthwise_relu[0][0]     \n",
      "__________________________________________________________________________________________________\n",
      "block_6_project_BN (BatchNormal (None, 15, 13, 64)   256         block_6_project[0][0]            \n",
      "__________________________________________________________________________________________________\n",
      "block_7_expand (Conv2D)         (None, 15, 13, 384)  24576       block_6_project_BN[0][0]         \n",
      "__________________________________________________________________________________________________\n",
      "block_7_expand_BN (BatchNormali (None, 15, 13, 384)  1536        block_7_expand[0][0]             \n",
      "__________________________________________________________________________________________________\n",
      "block_7_expand_relu (ReLU)      (None, 15, 13, 384)  0           block_7_expand_BN[0][0]          \n",
      "__________________________________________________________________________________________________\n",
      "block_7_depthwise (DepthwiseCon (None, 15, 13, 384)  3456        block_7_expand_relu[0][0]        \n",
      "__________________________________________________________________________________________________\n",
      "block_7_depthwise_BN (BatchNorm (None, 15, 13, 384)  1536        block_7_depthwise[0][0]          \n",
      "__________________________________________________________________________________________________\n",
      "block_7_depthwise_relu (ReLU)   (None, 15, 13, 384)  0           block_7_depthwise_BN[0][0]       \n",
      "__________________________________________________________________________________________________\n",
      "block_7_project (Conv2D)        (None, 15, 13, 64)   24576       block_7_depthwise_relu[0][0]     \n",
      "__________________________________________________________________________________________________\n",
      "block_7_project_BN (BatchNormal (None, 15, 13, 64)   256         block_7_project[0][0]            \n",
      "__________________________________________________________________________________________________\n",
      "block_7_add (Add)               (None, 15, 13, 64)   0           block_6_project_BN[0][0]         \n",
      "                                                                 block_7_project_BN[0][0]         \n",
      "__________________________________________________________________________________________________\n",
      "block_8_expand (Conv2D)         (None, 15, 13, 384)  24576       block_7_add[0][0]                \n",
      "__________________________________________________________________________________________________\n",
      "block_8_expand_BN (BatchNormali (None, 15, 13, 384)  1536        block_8_expand[0][0]             \n",
      "__________________________________________________________________________________________________\n",
      "block_8_expand_relu (ReLU)      (None, 15, 13, 384)  0           block_8_expand_BN[0][0]          \n",
      "__________________________________________________________________________________________________\n",
      "block_8_depthwise (DepthwiseCon (None, 15, 13, 384)  3456        block_8_expand_relu[0][0]        \n",
      "__________________________________________________________________________________________________\n",
      "block_8_depthwise_BN (BatchNorm (None, 15, 13, 384)  1536        block_8_depthwise[0][0]          \n",
      "__________________________________________________________________________________________________\n",
      "block_8_depthwise_relu (ReLU)   (None, 15, 13, 384)  0           block_8_depthwise_BN[0][0]       \n",
      "__________________________________________________________________________________________________\n",
      "block_8_project (Conv2D)        (None, 15, 13, 64)   24576       block_8_depthwise_relu[0][0]     \n",
      "__________________________________________________________________________________________________\n",
      "block_8_project_BN (BatchNormal (None, 15, 13, 64)   256         block_8_project[0][0]            \n",
      "__________________________________________________________________________________________________\n",
      "block_8_add (Add)               (None, 15, 13, 64)   0           block_7_add[0][0]                \n",
      "                                                                 block_8_project_BN[0][0]         \n",
      "__________________________________________________________________________________________________\n",
      "block_9_expand (Conv2D)         (None, 15, 13, 384)  24576       block_8_add[0][0]                \n",
      "__________________________________________________________________________________________________\n",
      "block_9_expand_BN (BatchNormali (None, 15, 13, 384)  1536        block_9_expand[0][0]             \n",
      "__________________________________________________________________________________________________\n",
      "block_9_expand_relu (ReLU)      (None, 15, 13, 384)  0           block_9_expand_BN[0][0]          \n",
      "__________________________________________________________________________________________________\n",
      "block_9_depthwise (DepthwiseCon (None, 15, 13, 384)  3456        block_9_expand_relu[0][0]        \n",
      "__________________________________________________________________________________________________\n",
      "block_9_depthwise_BN (BatchNorm (None, 15, 13, 384)  1536        block_9_depthwise[0][0]          \n",
      "__________________________________________________________________________________________________\n",
      "block_9_depthwise_relu (ReLU)   (None, 15, 13, 384)  0           block_9_depthwise_BN[0][0]       \n",
      "__________________________________________________________________________________________________\n",
      "block_9_project (Conv2D)        (None, 15, 13, 64)   24576       block_9_depthwise_relu[0][0]     \n",
      "__________________________________________________________________________________________________\n",
      "block_9_project_BN (BatchNormal (None, 15, 13, 64)   256         block_9_project[0][0]            \n",
      "__________________________________________________________________________________________________\n",
      "block_9_add (Add)               (None, 15, 13, 64)   0           block_8_add[0][0]                \n",
      "                                                                 block_9_project_BN[0][0]         \n",
      "__________________________________________________________________________________________________\n",
      "block_10_expand (Conv2D)        (None, 15, 13, 384)  24576       block_9_add[0][0]                \n",
      "__________________________________________________________________________________________________\n",
      "block_10_expand_BN (BatchNormal (None, 15, 13, 384)  1536        block_10_expand[0][0]            \n",
      "__________________________________________________________________________________________________\n",
      "block_10_expand_relu (ReLU)     (None, 15, 13, 384)  0           block_10_expand_BN[0][0]         \n",
      "__________________________________________________________________________________________________\n",
      "block_10_depthwise (DepthwiseCo (None, 15, 13, 384)  3456        block_10_expand_relu[0][0]       \n",
      "__________________________________________________________________________________________________\n",
      "block_10_depthwise_BN (BatchNor (None, 15, 13, 384)  1536        block_10_depthwise[0][0]         \n",
      "__________________________________________________________________________________________________\n",
      "block_10_depthwise_relu (ReLU)  (None, 15, 13, 384)  0           block_10_depthwise_BN[0][0]      \n",
      "__________________________________________________________________________________________________\n",
      "block_10_project (Conv2D)       (None, 15, 13, 96)   36864       block_10_depthwise_relu[0][0]    \n",
      "__________________________________________________________________________________________________\n",
      "block_10_project_BN (BatchNorma (None, 15, 13, 96)   384         block_10_project[0][0]           \n",
      "__________________________________________________________________________________________________\n",
      "block_11_expand (Conv2D)        (None, 15, 13, 576)  55296       block_10_project_BN[0][0]        \n",
      "__________________________________________________________________________________________________\n",
      "block_11_expand_BN (BatchNormal (None, 15, 13, 576)  2304        block_11_expand[0][0]            \n",
      "__________________________________________________________________________________________________\n",
      "block_11_expand_relu (ReLU)     (None, 15, 13, 576)  0           block_11_expand_BN[0][0]         \n",
      "__________________________________________________________________________________________________\n",
      "block_11_depthwise (DepthwiseCo (None, 15, 13, 576)  5184        block_11_expand_relu[0][0]       \n",
      "__________________________________________________________________________________________________\n",
      "block_11_depthwise_BN (BatchNor (None, 15, 13, 576)  2304        block_11_depthwise[0][0]         \n",
      "__________________________________________________________________________________________________\n",
      "block_11_depthwise_relu (ReLU)  (None, 15, 13, 576)  0           block_11_depthwise_BN[0][0]      \n",
      "__________________________________________________________________________________________________\n",
      "block_11_project (Conv2D)       (None, 15, 13, 96)   55296       block_11_depthwise_relu[0][0]    \n",
      "__________________________________________________________________________________________________\n",
      "block_11_project_BN (BatchNorma (None, 15, 13, 96)   384         block_11_project[0][0]           \n",
      "__________________________________________________________________________________________________\n",
      "block_11_add (Add)              (None, 15, 13, 96)   0           block_10_project_BN[0][0]        \n",
      "                                                                 block_11_project_BN[0][0]        \n",
      "__________________________________________________________________________________________________\n",
      "block_12_expand (Conv2D)        (None, 15, 13, 576)  55296       block_11_add[0][0]               \n",
      "__________________________________________________________________________________________________\n",
      "block_12_expand_BN (BatchNormal (None, 15, 13, 576)  2304        block_12_expand[0][0]            \n",
      "__________________________________________________________________________________________________\n",
      "block_12_expand_relu (ReLU)     (None, 15, 13, 576)  0           block_12_expand_BN[0][0]         \n",
      "__________________________________________________________________________________________________\n",
      "block_12_depthwise (DepthwiseCo (None, 15, 13, 576)  5184        block_12_expand_relu[0][0]       \n",
      "__________________________________________________________________________________________________\n",
      "block_12_depthwise_BN (BatchNor (None, 15, 13, 576)  2304        block_12_depthwise[0][0]         \n",
      "__________________________________________________________________________________________________\n",
      "block_12_depthwise_relu (ReLU)  (None, 15, 13, 576)  0           block_12_depthwise_BN[0][0]      \n",
      "__________________________________________________________________________________________________\n",
      "block_12_project (Conv2D)       (None, 15, 13, 96)   55296       block_12_depthwise_relu[0][0]    \n",
      "__________________________________________________________________________________________________\n",
      "block_12_project_BN (BatchNorma (None, 15, 13, 96)   384         block_12_project[0][0]           \n",
      "__________________________________________________________________________________________________\n",
      "block_12_add (Add)              (None, 15, 13, 96)   0           block_11_add[0][0]               \n",
      "                                                                 block_12_project_BN[0][0]        \n",
      "__________________________________________________________________________________________________\n",
      "block_13_expand (Conv2D)        (None, 15, 13, 576)  55296       block_12_add[0][0]               \n",
      "__________________________________________________________________________________________________\n",
      "block_13_expand_BN (BatchNormal (None, 15, 13, 576)  2304        block_13_expand[0][0]            \n",
      "__________________________________________________________________________________________________\n",
      "block_13_expand_relu (ReLU)     (None, 15, 13, 576)  0           block_13_expand_BN[0][0]         \n",
      "__________________________________________________________________________________________________\n",
      "block_13_pad (ZeroPadding2D)    (None, 17, 15, 576)  0           block_13_expand_relu[0][0]       \n",
      "__________________________________________________________________________________________________\n",
      "block_13_depthwise (DepthwiseCo (None, 8, 7, 576)    5184        block_13_pad[0][0]               \n",
      "__________________________________________________________________________________________________\n",
      "block_13_depthwise_BN (BatchNor (None, 8, 7, 576)    2304        block_13_depthwise[0][0]         \n",
      "__________________________________________________________________________________________________\n",
      "block_13_depthwise_relu (ReLU)  (None, 8, 7, 576)    0           block_13_depthwise_BN[0][0]      \n",
      "__________________________________________________________________________________________________\n",
      "block_13_project (Conv2D)       (None, 8, 7, 160)    92160       block_13_depthwise_relu[0][0]    \n",
      "__________________________________________________________________________________________________\n",
      "block_13_project_BN (BatchNorma (None, 8, 7, 160)    640         block_13_project[0][0]           \n",
      "__________________________________________________________________________________________________\n",
      "block_14_expand (Conv2D)        (None, 8, 7, 960)    153600      block_13_project_BN[0][0]        \n",
      "__________________________________________________________________________________________________\n",
      "block_14_expand_BN (BatchNormal (None, 8, 7, 960)    3840        block_14_expand[0][0]            \n",
      "__________________________________________________________________________________________________\n",
      "block_14_expand_relu (ReLU)     (None, 8, 7, 960)    0           block_14_expand_BN[0][0]         \n",
      "__________________________________________________________________________________________________\n",
      "block_14_depthwise (DepthwiseCo (None, 8, 7, 960)    8640        block_14_expand_relu[0][0]       \n",
      "__________________________________________________________________________________________________\n",
      "block_14_depthwise_BN (BatchNor (None, 8, 7, 960)    3840        block_14_depthwise[0][0]         \n",
      "__________________________________________________________________________________________________\n",
      "block_14_depthwise_relu (ReLU)  (None, 8, 7, 960)    0           block_14_depthwise_BN[0][0]      \n",
      "__________________________________________________________________________________________________\n",
      "block_14_project (Conv2D)       (None, 8, 7, 160)    153600      block_14_depthwise_relu[0][0]    \n",
      "__________________________________________________________________________________________________\n",
      "block_14_project_BN (BatchNorma (None, 8, 7, 160)    640         block_14_project[0][0]           \n",
      "__________________________________________________________________________________________________\n",
      "block_14_add (Add)              (None, 8, 7, 160)    0           block_13_project_BN[0][0]        \n",
      "                                                                 block_14_project_BN[0][0]        \n",
      "__________________________________________________________________________________________________\n",
      "block_15_expand (Conv2D)        (None, 8, 7, 960)    153600      block_14_add[0][0]               \n",
      "__________________________________________________________________________________________________\n",
      "block_15_expand_BN (BatchNormal (None, 8, 7, 960)    3840        block_15_expand[0][0]            \n",
      "__________________________________________________________________________________________________\n",
      "block_15_expand_relu (ReLU)     (None, 8, 7, 960)    0           block_15_expand_BN[0][0]         \n",
      "__________________________________________________________________________________________________\n",
      "block_15_depthwise (DepthwiseCo (None, 8, 7, 960)    8640        block_15_expand_relu[0][0]       \n",
      "__________________________________________________________________________________________________\n",
      "block_15_depthwise_BN (BatchNor (None, 8, 7, 960)    3840        block_15_depthwise[0][0]         \n",
      "__________________________________________________________________________________________________\n",
      "block_15_depthwise_relu (ReLU)  (None, 8, 7, 960)    0           block_15_depthwise_BN[0][0]      \n",
      "__________________________________________________________________________________________________\n",
      "block_15_project (Conv2D)       (None, 8, 7, 160)    153600      block_15_depthwise_relu[0][0]    \n",
      "__________________________________________________________________________________________________\n",
      "block_15_project_BN (BatchNorma (None, 8, 7, 160)    640         block_15_project[0][0]           \n",
      "__________________________________________________________________________________________________\n",
      "block_15_add (Add)              (None, 8, 7, 160)    0           block_14_add[0][0]               \n",
      "                                                                 block_15_project_BN[0][0]        \n",
      "__________________________________________________________________________________________________\n",
      "block_16_expand (Conv2D)        (None, 8, 7, 960)    153600      block_15_add[0][0]               \n",
      "__________________________________________________________________________________________________\n",
      "block_16_expand_BN (BatchNormal (None, 8, 7, 960)    3840        block_16_expand[0][0]            \n",
      "__________________________________________________________________________________________________\n",
      "block_16_expand_relu (ReLU)     (None, 8, 7, 960)    0           block_16_expand_BN[0][0]         \n",
      "__________________________________________________________________________________________________\n",
      "block_16_depthwise (DepthwiseCo (None, 8, 7, 960)    8640        block_16_expand_relu[0][0]       \n",
      "__________________________________________________________________________________________________\n",
      "block_16_depthwise_BN (BatchNor (None, 8, 7, 960)    3840        block_16_depthwise[0][0]         \n",
      "__________________________________________________________________________________________________\n",
      "block_16_depthwise_relu (ReLU)  (None, 8, 7, 960)    0           block_16_depthwise_BN[0][0]      \n",
      "__________________________________________________________________________________________________\n",
      "block_16_project (Conv2D)       (None, 8, 7, 320)    307200      block_16_depthwise_relu[0][0]    \n",
      "__________________________________________________________________________________________________\n",
      "block_16_project_BN (BatchNorma (None, 8, 7, 320)    1280        block_16_project[0][0]           \n",
      "__________________________________________________________________________________________________\n",
      "Conv_1 (Conv2D)                 (None, 8, 7, 1280)   409600      block_16_project_BN[0][0]        \n",
      "__________________________________________________________________________________________________\n",
      "Conv_1_bn (BatchNormalization)  (None, 8, 7, 1280)   5120        Conv_1[0][0]                     \n",
      "__________________________________________________________________________________________________\n",
      "out_relu (ReLU)                 (None, 8, 7, 1280)   0           Conv_1_bn[0][0]                  \n",
      "__________________________________________________________________________________________________\n",
      "global_average_pooling2d (Globa (None, 1280)         0           out_relu[0][0]                   \n",
      "__________________________________________________________________________________________________\n",
      "dense (Dense)                   (None, 256)          327936      global_average_pooling2d[0][0]   \n",
      "__________________________________________________________________________________________________\n",
      "dropout (Dropout)               (None, 256)          0           dense[0][0]                      \n",
      "__________________________________________________________________________________________________\n",
      "dense_1 (Dense)                 (None, 3)            771         dropout[0][0]                    \n",
      "==================================================================================================\n",
      "Total params: 2,586,691\n",
      "Trainable params: 328,707\n",
      "Non-trainable params: 2,257,984\n",
      "__________________________________________________________________________________________________\n"
     ]
    }
   ],
   "source": [
    "model.summary()"
   ]
  },
  {
   "cell_type": "code",
   "execution_count": null,
   "metadata": {
    "colab": {
     "base_uri": "https://localhost:8080/"
    },
    "id": "n1zM7mzCas_n",
    "outputId": "4d94233c-ff82-4015-f0c7-0fe63399b07f"
   },
   "outputs": [
    {
     "name": "stdout",
     "output_type": "stream",
     "text": [
      "9/9 [==============================] - 30s 41ms/step - loss: 1.4277 - categorical_crossentropy: 1.4277\n"
     ]
    },
    {
     "data": {
      "text/plain": [
       "<tensorflow.python.keras.callbacks.History at 0x7f113c086b10>"
      ]
     },
     "execution_count": 18,
     "metadata": {
      "tags": []
     },
     "output_type": "execute_result"
    }
   ],
   "source": [
    "# Test with MLP\n",
    "from sklearn.preprocessing import StandardScaler\n",
    "from sklearn.model_selection import train_test_split\n",
    "from sklearn.metrics import confusion_matrix\n",
    "from sklearn.metrics import f1_score\n",
    "from sklearn.svm import SVC\n",
    "from sklearn.metrics import classification_report\n",
    "from matplotlib import pyplot as plt\n",
    "from sklearn.preprocessing import OneHotEncoder\n",
    "\n",
    "X1 = X[0:400]\n",
    "y1 = y[0:400]\n",
    "\n",
    "onehot_encoder = OneHotEncoder(sparse=False)\n",
    "y_encoded = y1.reshape(len(y1), 1)\n",
    "y1h = onehot_encoder.fit_transform(y_encoded)\n",
    "\n",
    "Xtrain, Xtest, ytrain, ytest = train_test_split(X1, y1h,test_size=0.33, random_state=42)\n",
    "\n",
    "# split into train and test\n",
    "# Xtrain, Xtest, ytrain, ytest = train_test_split(X, y,stratify=y)\n",
    "# Xtrain, Xtest, ytrain, ytest = train_test_split(X1, y1,test_size=0.33, random_state=42)\n",
    "model.fit(Xtrain,ytrain)\n",
    "\n"
   ]
  },
  {
   "cell_type": "code",
   "execution_count": null,
   "metadata": {
    "id": "Z3K6Yjcophgt"
   },
   "outputs": [],
   "source": [
    "### Plot confusion matrix\n",
    "from matplotlib import pyplot as plt\n",
    "import seaborn as sns\n",
    "\n",
    "def plot_confusion_matrix(cm):\n",
    "    df_cm = pd.DataFrame(cm, columns=class_labels, index=class_labels)\n",
    "    fig, ax1 = plt.subplots(1,1, figsize=(10,10))\n",
    "    sns.heatmap(df_cm, annot=True, ax=ax1,square=True,  cmap=\"YlGnBu\",fmt='d')\n",
    "    ax1.set_title('Overall f1-score: {:.3f}'.format(f1score(cm)) );\n",
    "    plt.xlabel('true label')\n",
    "    plt.ylabel('predicted label');"
   ]
  },
  {
   "cell_type": "code",
   "execution_count": null,
   "metadata": {
    "colab": {
     "base_uri": "https://localhost:8080/"
    },
    "id": "4M3Vv0ejkXXA",
    "outputId": "920da2f7-22f2-4a5f-9f53-3bcd26cf8b7d"
   },
   "outputs": [
    {
     "name": "stdout",
     "output_type": "stream",
     "text": [
      "[1 0 0 1 1 0 0 1 1 1 1 1 1 1 0 0 1 1 0 1 0 1 1 1 2 1 1 1 2 1 1 1 0 0 0 1 0\n",
      " 1 0 1 0 1 0 1 1 1 1 1 1 0 0 0 0 1 1 0 2 1 1 0 2 0 1 1 1 1 1 1 1 1 1 1 1 1\n",
      " 1 0 1 1 1 0 0 0 1 1 0 1 1 1 1 1 0 1 0 1 1 1 1 1 1 1 0 2 1 1 2 1 0 0 1 1 0\n",
      " 1 1 1 0 2 1 1 0 1 1 1 1 1 0 0 1 0 1 1 1 1]\n",
      "[2 0 0 1 0 0 0 1 2 0 1 1 1 1 0 1 2 0 0 0 0 0 2 2 2 1 2 1 2 1 1 2 0 0 0 1 0\n",
      " 1 0 0 0 1 0 1 1 0 1 2 2 0 1 0 0 1 0 0 2 1 0 0 2 0 1 1 1 0 1 2 1 1 0 0 1 1\n",
      " 1 0 2 1 2 0 0 1 1 1 1 2 2 1 1 0 0 1 1 1 0 1 1 1 0 2 0 1 1 0 2 0 1 0 1 2 0\n",
      " 1 1 0 0 2 2 1 1 1 1 1 2 0 2 0 1 0 2 2 1 2]\n",
      "accuracy is 62.88%\n",
      "\n",
      "              precision    recall  f1-score   support\n",
      "\n",
      "           0       0.79      0.61      0.69        49\n",
      "           1       0.54      0.85      0.66        55\n",
      "           2       0.86      0.21      0.34        28\n",
      "\n",
      "    accuracy                           0.63       132\n",
      "   macro avg       0.73      0.56      0.56       132\n",
      "weighted avg       0.70      0.63      0.60       132\n",
      "\n",
      "[[30 19  0]\n",
      " [ 7 47  1]\n",
      " [ 1 21  6]]\n"
     ]
    }
   ],
   "source": [
    "from sklearn.metrics import classification_report\n",
    "from sklearn.metrics import confusion_matrix\n",
    "from sklearn.metrics import accuracy_score\n",
    "\n",
    "y_pred_real = model.predict(Xtest)\n",
    "y_pred_max = np.argmax(y_pred_real, axis=-1).astype(int)\n",
    "\n",
    "y_test_max = ytest.argmax(axis=1).astype(int)\n",
    "\n",
    "print(y_pred_max)\n",
    "print(y_test_max)\n",
    "\n",
    "ac = accuracy_score(y_test_max,y_pred_max)\n",
    "print('accuracy is {:.2f}%'.format(ac*100)) # Print accuracy score\n",
    "print()\n",
    "cr = classification_report(y_test_max,y_pred_max) # Print summary report\n",
    "print(cr)\n",
    "cm = confusion_matrix(y_test_max, y_pred_max)\n",
    "print(cm)\n",
    "# plot_confusion_matrix(cm)"
   ]
  }
 ],
 "metadata": {
  "colab": {
   "collapsed_sections": [],
   "name": "otitis_media.ipynb",
   "provenance": []
  },
  "kernelspec": {
   "display_name": "Python 3",
   "language": "python",
   "name": "python3"
  },
  "language_info": {
   "codemirror_mode": {
    "name": "ipython",
    "version": 3
   },
   "file_extension": ".py",
   "mimetype": "text/x-python",
   "name": "python",
   "nbconvert_exporter": "python",
   "pygments_lexer": "ipython3",
   "version": "3.7.9"
  }
 },
 "nbformat": 4,
 "nbformat_minor": 1
}
